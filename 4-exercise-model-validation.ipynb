{
 "cells": [
  {
   "cell_type": "markdown",
   "id": "45386e45",
   "metadata": {
    "papermill": {
     "duration": 0.006807,
     "end_time": "2022-09-02T01:31:00.719925",
     "exception": false,
     "start_time": "2022-09-02T01:31:00.713118",
     "status": "completed"
    },
    "tags": []
   },
   "source": [
    "**This notebook is an exercise in the [Introduction to Machine Learning](https://www.kaggle.com/learn/intro-to-machine-learning) course.  You can reference the tutorial at [this link](https://www.kaggle.com/dansbecker/model-validation).**\n",
    "\n",
    "---\n"
   ]
  },
  {
   "cell_type": "markdown",
   "id": "5e192cdf",
   "metadata": {
    "papermill": {
     "duration": 0.005017,
     "end_time": "2022-09-02T01:31:00.730599",
     "exception": false,
     "start_time": "2022-09-02T01:31:00.725582",
     "status": "completed"
    },
    "tags": []
   },
   "source": [
    "## Recap\n",
    "You've built a model. In this exercise you will test how good your model is.\n",
    "\n",
    "Run the cell below to set up your coding environment where the previous exercise left off."
   ]
  },
  {
   "cell_type": "code",
   "execution_count": 1,
   "id": "24562705",
   "metadata": {
    "execution": {
     "iopub.execute_input": "2022-09-02T01:31:00.744594Z",
     "iopub.status.busy": "2022-09-02T01:31:00.743816Z",
     "iopub.status.idle": "2022-09-02T01:31:02.363491Z",
     "shell.execute_reply": "2022-09-02T01:31:02.362100Z"
    },
    "papermill": {
     "duration": 1.632146,
     "end_time": "2022-09-02T01:31:02.368218",
     "exception": false,
     "start_time": "2022-09-02T01:31:00.736072",
     "status": "completed"
    },
    "tags": []
   },
   "outputs": [
    {
     "name": "stdout",
     "output_type": "stream",
     "text": [
      "First in-sample predictions: [208500. 181500. 223500. 140000. 250000.]\n",
      "Actual target values for those homes: [208500, 181500, 223500, 140000, 250000]\n",
      "Setup Complete\n"
     ]
    }
   ],
   "source": [
    "# Code you have previously used to load data\n",
    "import pandas as pd\n",
    "from sklearn.tree import DecisionTreeRegressor\n",
    "\n",
    "# Path of the file to read\n",
    "iowa_file_path = '../input/home-data-for-ml-course/train.csv'\n",
    "\n",
    "home_data = pd.read_csv(iowa_file_path)\n",
    "y = home_data.SalePrice\n",
    "feature_columns = ['LotArea', 'YearBuilt', '1stFlrSF', '2ndFlrSF', 'FullBath', 'BedroomAbvGr', 'TotRmsAbvGrd']\n",
    "X = home_data[feature_columns]\n",
    "\n",
    "# Specify Model\n",
    "iowa_model = DecisionTreeRegressor()\n",
    "# Fit Model\n",
    "iowa_model.fit(X, y)\n",
    "\n",
    "print(\"First in-sample predictions:\", iowa_model.predict(X.head()))\n",
    "print(\"Actual target values for those homes:\", y.head().tolist())\n",
    "\n",
    "# Set up code checking\n",
    "from learntools.core import binder\n",
    "binder.bind(globals())\n",
    "from learntools.machine_learning.ex4 import *\n",
    "print(\"Setup Complete\")"
   ]
  },
  {
   "cell_type": "markdown",
   "id": "29b28165",
   "metadata": {
    "papermill": {
     "duration": 0.005441,
     "end_time": "2022-09-02T01:31:02.380227",
     "exception": false,
     "start_time": "2022-09-02T01:31:02.374786",
     "status": "completed"
    },
    "tags": []
   },
   "source": [
    "# Exercises\n",
    "\n",
    "## Step 1: Split Your Data\n",
    "Use the `train_test_split` function to split up your data.\n",
    "\n",
    "Give it the argument `random_state=1` so the `check` functions know what to expect when verifying your code.\n",
    "\n",
    "Recall, your features are loaded in the DataFrame **X** and your target is loaded in **y**.\n"
   ]
  },
  {
   "cell_type": "code",
   "execution_count": 2,
   "id": "38c9e337",
   "metadata": {
    "execution": {
     "iopub.execute_input": "2022-09-02T01:31:02.393810Z",
     "iopub.status.busy": "2022-09-02T01:31:02.393316Z",
     "iopub.status.idle": "2022-09-02T01:31:02.409526Z",
     "shell.execute_reply": "2022-09-02T01:31:02.408623Z"
    },
    "papermill": {
     "duration": 0.025884,
     "end_time": "2022-09-02T01:31:02.411602",
     "exception": false,
     "start_time": "2022-09-02T01:31:02.385718",
     "status": "completed"
    },
    "tags": []
   },
   "outputs": [
    {
     "data": {
      "application/javascript": [
       "parent.postMessage({\"jupyterEvent\": \"custom.exercise_interaction\", \"data\": {\"outcomeType\": 1, \"valueTowardsCompletion\": 0.25, \"interactionType\": 1, \"questionType\": 2, \"questionId\": \"1_SplitData\", \"learnToolsVersion\": \"0.3.4\", \"failureMessage\": \"\", \"exceptionClass\": \"\", \"trace\": \"\"}}, \"*\")"
      ],
      "text/plain": [
       "<IPython.core.display.Javascript object>"
      ]
     },
     "metadata": {},
     "output_type": "display_data"
    },
    {
     "data": {
      "text/markdown": [
       "<span style=\"color:#33cc33\">Correct</span>"
      ],
      "text/plain": [
       "Correct"
      ]
     },
     "metadata": {},
     "output_type": "display_data"
    }
   ],
   "source": [
    "# Import the train_test_split function and uncomment\n",
    "from sklearn.model_selection import train_test_split\n",
    "# fill in and uncomment\n",
    "train_X, val_X, train_y, val_y = train_test_split(X, y, random_state=1)\n",
    "\n",
    "# Check your answer\n",
    "step_1.check()"
   ]
  },
  {
   "cell_type": "code",
   "execution_count": 3,
   "id": "c884547f",
   "metadata": {
    "execution": {
     "iopub.execute_input": "2022-09-02T01:31:02.426822Z",
     "iopub.status.busy": "2022-09-02T01:31:02.425512Z",
     "iopub.status.idle": "2022-09-02T01:31:02.431131Z",
     "shell.execute_reply": "2022-09-02T01:31:02.429833Z"
    },
    "papermill": {
     "duration": 0.01607,
     "end_time": "2022-09-02T01:31:02.433694",
     "exception": false,
     "start_time": "2022-09-02T01:31:02.417624",
     "status": "completed"
    },
    "tags": []
   },
   "outputs": [],
   "source": [
    "# The lines below will show you a hint or the solution.\n",
    "# step_1.hint() \n",
    "# step_1.solution()\n"
   ]
  },
  {
   "cell_type": "code",
   "execution_count": 4,
   "id": "5324ba77",
   "metadata": {
    "execution": {
     "iopub.execute_input": "2022-09-02T01:31:02.447807Z",
     "iopub.status.busy": "2022-09-02T01:31:02.447327Z",
     "iopub.status.idle": "2022-09-02T01:31:02.455181Z",
     "shell.execute_reply": "2022-09-02T01:31:02.453761Z"
    },
    "papermill": {
     "duration": 0.017648,
     "end_time": "2022-09-02T01:31:02.457359",
     "exception": false,
     "start_time": "2022-09-02T01:31:02.439711",
     "status": "completed"
    },
    "tags": []
   },
   "outputs": [
    {
     "data": {
      "text/plain": [
       "((365, 7), (1095, 7))"
      ]
     },
     "execution_count": 4,
     "metadata": {},
     "output_type": "execute_result"
    }
   ],
   "source": [
    "val_X.shape, train_X.shape"
   ]
  },
  {
   "cell_type": "code",
   "execution_count": 5,
   "id": "0d8d535b",
   "metadata": {
    "execution": {
     "iopub.execute_input": "2022-09-02T01:31:02.470868Z",
     "iopub.status.busy": "2022-09-02T01:31:02.470342Z",
     "iopub.status.idle": "2022-09-02T01:31:02.478378Z",
     "shell.execute_reply": "2022-09-02T01:31:02.477198Z"
    },
    "papermill": {
     "duration": 0.017666,
     "end_time": "2022-09-02T01:31:02.480809",
     "exception": false,
     "start_time": "2022-09-02T01:31:02.463143",
     "status": "completed"
    },
    "tags": []
   },
   "outputs": [
    {
     "data": {
      "text/plain": [
       "(1095, 7)"
      ]
     },
     "execution_count": 5,
     "metadata": {},
     "output_type": "execute_result"
    }
   ],
   "source": [
    "train_X.shape"
   ]
  },
  {
   "cell_type": "markdown",
   "id": "6affca04",
   "metadata": {
    "papermill": {
     "duration": 0.005414,
     "end_time": "2022-09-02T01:31:02.492300",
     "exception": false,
     "start_time": "2022-09-02T01:31:02.486886",
     "status": "completed"
    },
    "tags": []
   },
   "source": [
    "## Step 2: Specify and Fit the Model\n",
    "\n",
    "Create a `DecisionTreeRegressor` model and fit it to the relevant data.\n",
    "Set `random_state` to 1 again when creating the model."
   ]
  },
  {
   "cell_type": "code",
   "execution_count": 6,
   "id": "a1bc7b46",
   "metadata": {
    "execution": {
     "iopub.execute_input": "2022-09-02T01:31:02.507103Z",
     "iopub.status.busy": "2022-09-02T01:31:02.506119Z",
     "iopub.status.idle": "2022-09-02T01:31:02.537569Z",
     "shell.execute_reply": "2022-09-02T01:31:02.535749Z"
    },
    "papermill": {
     "duration": 0.041742,
     "end_time": "2022-09-02T01:31:02.540149",
     "exception": false,
     "start_time": "2022-09-02T01:31:02.498407",
     "status": "completed"
    },
    "tags": []
   },
   "outputs": [
    {
     "name": "stdout",
     "output_type": "stream",
     "text": [
      "[186500. 184000. 130000.  92000. 164500. 220000. 335000. 144152. 215000.\n",
      " 262000.]\n",
      "[186500. 184000. 130000.  92000. 164500. 220000. 335000. 144152. 215000.\n",
      " 262000.]\n"
     ]
    },
    {
     "data": {
      "application/javascript": [
       "parent.postMessage({\"jupyterEvent\": \"custom.exercise_interaction\", \"data\": {\"outcomeType\": 1, \"valueTowardsCompletion\": 0.25, \"interactionType\": 1, \"questionType\": 2, \"questionId\": \"2_FitModelWithTrain\", \"learnToolsVersion\": \"0.3.4\", \"failureMessage\": \"\", \"exceptionClass\": \"\", \"trace\": \"\"}}, \"*\")"
      ],
      "text/plain": [
       "<IPython.core.display.Javascript object>"
      ]
     },
     "metadata": {},
     "output_type": "display_data"
    },
    {
     "data": {
      "text/markdown": [
       "<span style=\"color:#33cc33\">Correct</span>"
      ],
      "text/plain": [
       "Correct"
      ]
     },
     "metadata": {},
     "output_type": "display_data"
    }
   ],
   "source": [
    "# You imported DecisionTreeRegressor in your last exercise\n",
    "# and that code has been copied to the setup code above. So, no need to\n",
    "# import it again\n",
    "\n",
    "# Specify the model\n",
    "iowa_model = DecisionTreeRegressor(random_state=1)\n",
    "\n",
    "# Fit iowa_model with the training data.\n",
    "iowa_model.fit(train_X, train_y)\n",
    "\n",
    "# Check your answer\n",
    "step_2.check()"
   ]
  },
  {
   "cell_type": "code",
   "execution_count": 7,
   "id": "86c9d35c",
   "metadata": {
    "execution": {
     "iopub.execute_input": "2022-09-02T01:31:02.555493Z",
     "iopub.status.busy": "2022-09-02T01:31:02.554478Z",
     "iopub.status.idle": "2022-09-02T01:31:02.559987Z",
     "shell.execute_reply": "2022-09-02T01:31:02.558907Z"
    },
    "papermill": {
     "duration": 0.016331,
     "end_time": "2022-09-02T01:31:02.562737",
     "exception": false,
     "start_time": "2022-09-02T01:31:02.546406",
     "status": "completed"
    },
    "tags": []
   },
   "outputs": [],
   "source": [
    "#step_2.hint()\n",
    "#step_2.solution()"
   ]
  },
  {
   "cell_type": "markdown",
   "id": "bc913ba6",
   "metadata": {
    "papermill": {
     "duration": 0.005926,
     "end_time": "2022-09-02T01:31:02.575206",
     "exception": false,
     "start_time": "2022-09-02T01:31:02.569280",
     "status": "completed"
    },
    "tags": []
   },
   "source": [
    "## Step 3: Make Predictions with Validation data\n"
   ]
  },
  {
   "cell_type": "code",
   "execution_count": 8,
   "id": "3ec5cdfd",
   "metadata": {
    "execution": {
     "iopub.execute_input": "2022-09-02T01:31:02.590318Z",
     "iopub.status.busy": "2022-09-02T01:31:02.589365Z",
     "iopub.status.idle": "2022-09-02T01:31:02.604142Z",
     "shell.execute_reply": "2022-09-02T01:31:02.603050Z"
    },
    "papermill": {
     "duration": 0.025162,
     "end_time": "2022-09-02T01:31:02.606539",
     "exception": false,
     "start_time": "2022-09-02T01:31:02.581377",
     "status": "completed"
    },
    "tags": []
   },
   "outputs": [
    {
     "data": {
      "application/javascript": [
       "parent.postMessage({\"jupyterEvent\": \"custom.exercise_interaction\", \"data\": {\"outcomeType\": 1, \"valueTowardsCompletion\": 0.25, \"interactionType\": 1, \"questionType\": 2, \"questionId\": \"3_ValPreds\", \"learnToolsVersion\": \"0.3.4\", \"failureMessage\": \"\", \"exceptionClass\": \"\", \"trace\": \"\"}}, \"*\")"
      ],
      "text/plain": [
       "<IPython.core.display.Javascript object>"
      ]
     },
     "metadata": {},
     "output_type": "display_data"
    },
    {
     "data": {
      "text/markdown": [
       "<span style=\"color:#33cc33\">Correct</span>"
      ],
      "text/plain": [
       "Correct"
      ]
     },
     "metadata": {},
     "output_type": "display_data"
    }
   ],
   "source": [
    "# Predict with all validation observations\n",
    "val_predictions = iowa_model.predict(val_X)\n",
    "\n",
    "# Check your answer\n",
    "step_3.check()"
   ]
  },
  {
   "cell_type": "code",
   "execution_count": 9,
   "id": "b8f64441",
   "metadata": {
    "execution": {
     "iopub.execute_input": "2022-09-02T01:31:02.623187Z",
     "iopub.status.busy": "2022-09-02T01:31:02.622276Z",
     "iopub.status.idle": "2022-09-02T01:31:02.627437Z",
     "shell.execute_reply": "2022-09-02T01:31:02.626489Z"
    },
    "papermill": {
     "duration": 0.01686,
     "end_time": "2022-09-02T01:31:02.629834",
     "exception": false,
     "start_time": "2022-09-02T01:31:02.612974",
     "status": "completed"
    },
    "tags": []
   },
   "outputs": [],
   "source": [
    "# step_3.hint()\n",
    "# step_3.solution()"
   ]
  },
  {
   "cell_type": "markdown",
   "id": "e4a52be2",
   "metadata": {
    "papermill": {
     "duration": 0.006051,
     "end_time": "2022-09-02T01:31:02.642567",
     "exception": false,
     "start_time": "2022-09-02T01:31:02.636516",
     "status": "completed"
    },
    "tags": []
   },
   "source": [
    "Inspect your predictions and actual values from validation data."
   ]
  },
  {
   "cell_type": "code",
   "execution_count": 10,
   "id": "24d08448",
   "metadata": {
    "execution": {
     "iopub.execute_input": "2022-09-02T01:31:02.657862Z",
     "iopub.status.busy": "2022-09-02T01:31:02.656918Z",
     "iopub.status.idle": "2022-09-02T01:31:02.664920Z",
     "shell.execute_reply": "2022-09-02T01:31:02.663777Z"
    },
    "papermill": {
     "duration": 0.018331,
     "end_time": "2022-09-02T01:31:02.667129",
     "exception": false,
     "start_time": "2022-09-02T01:31:02.648798",
     "status": "completed"
    },
    "tags": []
   },
   "outputs": [
    {
     "name": "stdout",
     "output_type": "stream",
     "text": [
      "Predictions [186500. 184000. 130000.  92000. 164500.]\n",
      "Targets    [231500 179500 122000  84500 142000]\n"
     ]
    }
   ],
   "source": [
    "# print the top few validation predictions\n",
    "print(\"Predictions\", val_predictions[:5])\n",
    "# print the top few actual prices from validation data\n",
    "print(\"Targets   \", val_y[:5].values)"
   ]
  },
  {
   "cell_type": "markdown",
   "id": "6df6df91",
   "metadata": {
    "papermill": {
     "duration": 0.005939,
     "end_time": "2022-09-02T01:31:02.679573",
     "exception": false,
     "start_time": "2022-09-02T01:31:02.673634",
     "status": "completed"
    },
    "tags": []
   },
   "source": [
    "What do you notice that is different from what you saw with in-sample predictions (which are printed after the top code cell in this page).\n",
    "\n",
    "Do you remember why validation predictions differ from in-sample (or training) predictions? This is an important idea from the last lesson.\n",
    "\n",
    "## Step 4: Calculate the Mean Absolute Error in Validation Data\n"
   ]
  },
  {
   "cell_type": "code",
   "execution_count": 11,
   "id": "f0359f6d",
   "metadata": {
    "execution": {
     "iopub.execute_input": "2022-09-02T01:31:02.694133Z",
     "iopub.status.busy": "2022-09-02T01:31:02.693630Z",
     "iopub.status.idle": "2022-09-02T01:31:02.706790Z",
     "shell.execute_reply": "2022-09-02T01:31:02.705290Z"
    },
    "papermill": {
     "duration": 0.02345,
     "end_time": "2022-09-02T01:31:02.709190",
     "exception": false,
     "start_time": "2022-09-02T01:31:02.685740",
     "status": "completed"
    },
    "tags": []
   },
   "outputs": [
    {
     "name": "stdout",
     "output_type": "stream",
     "text": [
      "29652.931506849316\n"
     ]
    },
    {
     "data": {
      "application/javascript": [
       "parent.postMessage({\"jupyterEvent\": \"custom.exercise_interaction\", \"data\": {\"outcomeType\": 1, \"valueTowardsCompletion\": 0.25, \"interactionType\": 1, \"questionType\": 1, \"questionId\": \"4_MAE\", \"learnToolsVersion\": \"0.3.4\", \"failureMessage\": \"\", \"exceptionClass\": \"\", \"trace\": \"\"}}, \"*\")"
      ],
      "text/plain": [
       "<IPython.core.display.Javascript object>"
      ]
     },
     "metadata": {},
     "output_type": "display_data"
    },
    {
     "data": {
      "text/markdown": [
       "<span style=\"color:#33cc33\">Correct</span>"
      ],
      "text/plain": [
       "Correct"
      ]
     },
     "metadata": {},
     "output_type": "display_data"
    }
   ],
   "source": [
    "from sklearn.metrics import mean_absolute_error\n",
    "val_mae = mean_absolute_error(val_y, val_predictions)\n",
    "\n",
    "# uncomment following line to see the validation_mae\n",
    "print(val_mae)\n",
    "\n",
    "# Check your answer\n",
    "step_4.check()"
   ]
  },
  {
   "cell_type": "code",
   "execution_count": 12,
   "id": "05ea06ce",
   "metadata": {
    "execution": {
     "iopub.execute_input": "2022-09-02T01:31:02.725634Z",
     "iopub.status.busy": "2022-09-02T01:31:02.724422Z",
     "iopub.status.idle": "2022-09-02T01:31:02.729967Z",
     "shell.execute_reply": "2022-09-02T01:31:02.728896Z"
    },
    "papermill": {
     "duration": 0.016647,
     "end_time": "2022-09-02T01:31:02.732578",
     "exception": false,
     "start_time": "2022-09-02T01:31:02.715931",
     "status": "completed"
    },
    "tags": []
   },
   "outputs": [],
   "source": [
    "# step_4.hint()\n",
    "# step_4.solution()"
   ]
  },
  {
   "cell_type": "code",
   "execution_count": 13,
   "id": "1ea0b262",
   "metadata": {
    "execution": {
     "iopub.execute_input": "2022-09-02T01:31:02.749245Z",
     "iopub.status.busy": "2022-09-02T01:31:02.748406Z",
     "iopub.status.idle": "2022-09-02T01:31:02.757692Z",
     "shell.execute_reply": "2022-09-02T01:31:02.756332Z"
    },
    "papermill": {
     "duration": 0.020573,
     "end_time": "2022-09-02T01:31:02.760104",
     "exception": false,
     "start_time": "2022-09-02T01:31:02.739531",
     "status": "completed"
    },
    "tags": []
   },
   "outputs": [
    {
     "data": {
      "text/plain": [
       "29652.931506849316"
      ]
     },
     "execution_count": 13,
     "metadata": {},
     "output_type": "execute_result"
    }
   ],
   "source": [
    "erro = (val_y - val_predictions)\n",
    "erro_abs = erro.abs()\n",
    "erro_abs.mean()"
   ]
  },
  {
   "cell_type": "markdown",
   "id": "81cbdeb9",
   "metadata": {
    "papermill": {
     "duration": 0.006764,
     "end_time": "2022-09-02T01:31:02.773915",
     "exception": false,
     "start_time": "2022-09-02T01:31:02.767151",
     "status": "completed"
    },
    "tags": []
   },
   "source": [
    "Is that MAE good?  There isn't a general rule for what values are good that applies across applications. But you'll see how to use (and improve) this number in the next step.\n",
    "\n",
    "# Keep Going\n",
    "\n",
    "You are ready for **[Underfitting and Overfitting](https://www.kaggle.com/dansbecker/underfitting-and-overfitting).**\n"
   ]
  },
  {
   "cell_type": "markdown",
   "id": "6a9ff75e",
   "metadata": {
    "papermill": {
     "duration": 0.006487,
     "end_time": "2022-09-02T01:31:02.787507",
     "exception": false,
     "start_time": "2022-09-02T01:31:02.781020",
     "status": "completed"
    },
    "tags": []
   },
   "source": [
    "---\n",
    "\n",
    "\n",
    "\n",
    "\n",
    "*Have questions or comments? Visit the [course discussion forum](https://www.kaggle.com/learn/intro-to-machine-learning/discussion) to chat with other learners.*"
   ]
  }
 ],
 "metadata": {
  "kernelspec": {
   "display_name": "Python 3",
   "language": "python",
   "name": "python3"
  },
  "language_info": {
   "codemirror_mode": {
    "name": "ipython",
    "version": 3
   },
   "file_extension": ".py",
   "mimetype": "text/x-python",
   "name": "python",
   "nbconvert_exporter": "python",
   "pygments_lexer": "ipython3",
   "version": "3.7.12"
  },
  "papermill": {
   "default_parameters": {},
   "duration": 13.311908,
   "end_time": "2022-09-02T01:31:03.922664",
   "environment_variables": {},
   "exception": null,
   "input_path": "__notebook__.ipynb",
   "output_path": "__notebook__.ipynb",
   "parameters": {},
   "start_time": "2022-09-02T01:30:50.610756",
   "version": "2.3.4"
  }
 },
 "nbformat": 4,
 "nbformat_minor": 5
}
