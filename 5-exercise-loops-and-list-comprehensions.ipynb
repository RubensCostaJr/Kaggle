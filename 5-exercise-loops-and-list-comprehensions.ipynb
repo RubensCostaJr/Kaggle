{
 "cells": [
  {
   "cell_type": "markdown",
   "id": "5d971bb0",
   "metadata": {
    "papermill": {
     "duration": 0.006872,
     "end_time": "2022-09-02T00:35:15.611755",
     "exception": false,
     "start_time": "2022-09-02T00:35:15.604883",
     "status": "completed"
    },
    "tags": []
   },
   "source": [
    "**This notebook is an exercise in the [Python](https://www.kaggle.com/learn/python) course.  You can reference the tutorial at [this link](https://www.kaggle.com/colinmorris/loops-and-list-comprehensions).**\n",
    "\n",
    "---\n"
   ]
  },
  {
   "cell_type": "markdown",
   "id": "9f62c4d3",
   "metadata": {
    "papermill": {
     "duration": 0.005567,
     "end_time": "2022-09-02T00:35:15.623404",
     "exception": false,
     "start_time": "2022-09-02T00:35:15.617837",
     "status": "completed"
    },
    "tags": []
   },
   "source": [
    "With all you've learned, you can start writing much more interesting programs. See if you can solve the problems below.\n",
    "\n",
    "As always, run the setup code below before working on the questions."
   ]
  },
  {
   "cell_type": "code",
   "execution_count": 1,
   "id": "9d0fe4be",
   "metadata": {
    "execution": {
     "iopub.execute_input": "2022-09-02T00:35:15.636774Z",
     "iopub.status.busy": "2022-09-02T00:35:15.636322Z",
     "iopub.status.idle": "2022-09-02T00:35:15.694404Z",
     "shell.execute_reply": "2022-09-02T00:35:15.693120Z"
    },
    "papermill": {
     "duration": 0.069307,
     "end_time": "2022-09-02T00:35:15.698395",
     "exception": false,
     "start_time": "2022-09-02T00:35:15.629088",
     "status": "completed"
    },
    "tags": []
   },
   "outputs": [
    {
     "name": "stdout",
     "output_type": "stream",
     "text": [
      "Setup complete.\n"
     ]
    }
   ],
   "source": [
    "from learntools.core import binder; binder.bind(globals())\n",
    "from learntools.python.ex5 import *\n",
    "print('Setup complete.')"
   ]
  },
  {
   "cell_type": "markdown",
   "id": "ac0a900a",
   "metadata": {
    "papermill": {
     "duration": 0.005599,
     "end_time": "2022-09-02T00:35:15.711126",
     "exception": false,
     "start_time": "2022-09-02T00:35:15.705527",
     "status": "completed"
    },
    "tags": []
   },
   "source": [
    "# 1.\n",
    "\n",
    "Have you ever felt debugging involved a bit of luck? The following program has a bug. Try to identify the bug and fix it."
   ]
  },
  {
   "cell_type": "code",
   "execution_count": 2,
   "id": "858bc089",
   "metadata": {
    "execution": {
     "iopub.execute_input": "2022-09-02T00:35:15.724616Z",
     "iopub.status.busy": "2022-09-02T00:35:15.724174Z",
     "iopub.status.idle": "2022-09-02T00:35:15.736376Z",
     "shell.execute_reply": "2022-09-02T00:35:15.735491Z"
    },
    "papermill": {
     "duration": 0.02183,
     "end_time": "2022-09-02T00:35:15.738787",
     "exception": false,
     "start_time": "2022-09-02T00:35:15.716957",
     "status": "completed"
    },
    "tags": []
   },
   "outputs": [
    {
     "name": "stdout",
     "output_type": "stream",
     "text": [
      "Number: 1\n",
      "Number: 3\n",
      "Number: 4\n",
      "Number: 6\n",
      "Number: 7\n"
     ]
    },
    {
     "data": {
      "text/plain": [
       "True"
      ]
     },
     "execution_count": 2,
     "metadata": {},
     "output_type": "execute_result"
    }
   ],
   "source": [
    "nums = [1, 3, 4, 6, 7, 10, 7]\n",
    "def has_lucky_number(nums):\n",
    "    \"\"\"Return whether the given list of numbers is lucky. A lucky list contains\n",
    "    at least one number divisible by 7.\n",
    "    \"\"\"\n",
    "    for num in nums:\n",
    "        print(\"Number:\", num)\n",
    "        if num % 7 == 0:\n",
    "            return True\n",
    "    return False\n",
    "has_lucky_number(nums)"
   ]
  },
  {
   "cell_type": "markdown",
   "id": "a49cb48c",
   "metadata": {
    "papermill": {
     "duration": 0.005649,
     "end_time": "2022-09-02T00:35:15.750900",
     "exception": false,
     "start_time": "2022-09-02T00:35:15.745251",
     "status": "completed"
    },
    "tags": []
   },
   "source": [
    "Try to identify the bug and fix it in the cell below:"
   ]
  },
  {
   "cell_type": "code",
   "execution_count": 3,
   "id": "4b08edc5",
   "metadata": {
    "execution": {
     "iopub.execute_input": "2022-09-02T00:35:15.764898Z",
     "iopub.status.busy": "2022-09-02T00:35:15.764456Z",
     "iopub.status.idle": "2022-09-02T00:35:15.773801Z",
     "shell.execute_reply": "2022-09-02T00:35:15.772829Z"
    },
    "papermill": {
     "duration": 0.01905,
     "end_time": "2022-09-02T00:35:15.775987",
     "exception": false,
     "start_time": "2022-09-02T00:35:15.756937",
     "status": "completed"
    },
    "tags": []
   },
   "outputs": [
    {
     "data": {
      "application/javascript": [
       "parent.postMessage({\"jupyterEvent\": \"custom.exercise_interaction\", \"data\": {\"outcomeType\": 1, \"valueTowardsCompletion\": 0.25, \"interactionType\": 1, \"questionType\": 2, \"questionId\": \"1_EarlyExitDebugging\", \"learnToolsVersion\": \"0.3.4\", \"failureMessage\": \"\", \"exceptionClass\": \"\", \"trace\": \"\"}}, \"*\")"
      ],
      "text/plain": [
       "<IPython.core.display.Javascript object>"
      ]
     },
     "metadata": {},
     "output_type": "display_data"
    },
    {
     "data": {
      "text/markdown": [
       "<span style=\"color:#33cc33\">Correct:</span> \n",
       "\n",
       "Remember that `return` causes a function to exit immediately. So our original implementation always ran for just one iteration. We can only return `False` if we've looked at every element of the list (and confirmed that none of them are lucky). Though we can return early if the answer is `True`:\n",
       "\n",
       "```python\n",
       "def has_lucky_number(nums):\n",
       "    for num in nums:\n",
       "        if num % 7 == 0:\n",
       "            return True\n",
       "    # We've exhausted the list without finding a lucky number\n",
       "    return False\n",
       "```\n",
       "\n",
       "Here's a one-line version using a list comprehension with Python's `any` function (you can read about what it does by calling `help(any)`):\n",
       "\n",
       "```python\n",
       "def has_lucky_number(nums):\n",
       "    return any([num % 7 == 0 for num in nums])\n",
       "```\n"
      ],
      "text/plain": [
       "Correct: \n",
       "\n",
       "Remember that `return` causes a function to exit immediately. So our original implementation always ran for just one iteration. We can only return `False` if we've looked at every element of the list (and confirmed that none of them are lucky). Though we can return early if the answer is `True`:\n",
       "\n",
       "```python\n",
       "def has_lucky_number(nums):\n",
       "    for num in nums:\n",
       "        if num % 7 == 0:\n",
       "            return True\n",
       "    # We've exhausted the list without finding a lucky number\n",
       "    return False\n",
       "```\n",
       "\n",
       "Here's a one-line version using a list comprehension with Python's `any` function (you can read about what it does by calling `help(any)`):\n",
       "\n",
       "```python\n",
       "def has_lucky_number(nums):\n",
       "    return any([num % 7 == 0 for num in nums])\n",
       "```"
      ]
     },
     "metadata": {},
     "output_type": "display_data"
    }
   ],
   "source": [
    "def has_lucky_number(nums):\n",
    "    \"\"\"Return whether the given list of numbers is lucky. A lucky list contains\n",
    "    at least one number divisible by 7.\n",
    "    \"\"\"\n",
    "    for num in nums:\n",
    "        if num % 7 == 0:\n",
    "            return True\n",
    "    return False\n",
    "\n",
    "#Alternative Solution (list comprehension):\n",
    "#return any([num % 7 == 0 for num in nums]\n",
    "\n",
    "# Check your answer\n",
    "q1.check()"
   ]
  },
  {
   "cell_type": "code",
   "execution_count": 4,
   "id": "6c555ed5",
   "metadata": {
    "execution": {
     "iopub.execute_input": "2022-09-02T00:35:15.791526Z",
     "iopub.status.busy": "2022-09-02T00:35:15.790286Z",
     "iopub.status.idle": "2022-09-02T00:35:15.795504Z",
     "shell.execute_reply": "2022-09-02T00:35:15.794463Z"
    },
    "papermill": {
     "duration": 0.015418,
     "end_time": "2022-09-02T00:35:15.798028",
     "exception": false,
     "start_time": "2022-09-02T00:35:15.782610",
     "status": "completed"
    },
    "tags": []
   },
   "outputs": [],
   "source": [
    "#q1.hint()\n",
    "#q1.solution()"
   ]
  },
  {
   "cell_type": "markdown",
   "id": "1b479a3e",
   "metadata": {
    "papermill": {
     "duration": 0.005879,
     "end_time": "2022-09-02T00:35:15.810470",
     "exception": false,
     "start_time": "2022-09-02T00:35:15.804591",
     "status": "completed"
    },
    "tags": []
   },
   "source": [
    "# 2.\n",
    "Look at the Python expression below. What do you think we'll get when we run it? When you've made your prediction, uncomment the code and run the cell to see if you were right."
   ]
  },
  {
   "cell_type": "markdown",
   "id": "e1926ef9",
   "metadata": {
    "papermill": {
     "duration": 0.006148,
     "end_time": "2022-09-02T00:35:15.823064",
     "exception": false,
     "start_time": "2022-09-02T00:35:15.816916",
     "status": "completed"
    },
    "tags": []
   },
   "source": [
    "We used a comparison operator between values of incompatible types (list and int) which caused the error."
   ]
  },
  {
   "cell_type": "code",
   "execution_count": 5,
   "id": "d42d4d3e",
   "metadata": {
    "execution": {
     "iopub.execute_input": "2022-09-02T00:35:15.837860Z",
     "iopub.status.busy": "2022-09-02T00:35:15.837465Z",
     "iopub.status.idle": "2022-09-02T00:35:15.842790Z",
     "shell.execute_reply": "2022-09-02T00:35:15.841729Z"
    },
    "papermill": {
     "duration": 0.015047,
     "end_time": "2022-09-02T00:35:15.845008",
     "exception": false,
     "start_time": "2022-09-02T00:35:15.829961",
     "status": "completed"
    },
    "tags": []
   },
   "outputs": [],
   "source": [
    "# [1, 2, 3, 4] > 2"
   ]
  },
  {
   "cell_type": "markdown",
   "id": "7aca391e",
   "metadata": {
    "papermill": {
     "duration": 0.005988,
     "end_time": "2022-09-02T00:35:15.857263",
     "exception": false,
     "start_time": "2022-09-02T00:35:15.851275",
     "status": "completed"
    },
    "tags": []
   },
   "source": [
    "R and Python have some libraries (like numpy and pandas) compare each element of the list to 2 (i.e. do an 'element-wise' comparison) and give us a list of booleans like `[False, False, True, True]`. \n",
    "\n",
    "Implement a function that reproduces this behaviour, returning a list of booleans corresponding to whether the corresponding element is greater than n."
   ]
  },
  {
   "cell_type": "code",
   "execution_count": 6,
   "id": "827d5bbd",
   "metadata": {
    "execution": {
     "iopub.execute_input": "2022-09-02T00:35:15.871528Z",
     "iopub.status.busy": "2022-09-02T00:35:15.871120Z",
     "iopub.status.idle": "2022-09-02T00:35:15.881570Z",
     "shell.execute_reply": "2022-09-02T00:35:15.880439Z"
    },
    "papermill": {
     "duration": 0.02021,
     "end_time": "2022-09-02T00:35:15.883733",
     "exception": false,
     "start_time": "2022-09-02T00:35:15.863523",
     "status": "completed"
    },
    "tags": []
   },
   "outputs": [
    {
     "data": {
      "application/javascript": [
       "parent.postMessage({\"jupyterEvent\": \"custom.exercise_interaction\", \"data\": {\"outcomeType\": 1, \"valueTowardsCompletion\": 0.25, \"interactionType\": 1, \"questionType\": 2, \"questionId\": \"2_ElementWiseComparison\", \"learnToolsVersion\": \"0.3.4\", \"failureMessage\": \"\", \"exceptionClass\": \"\", \"trace\": \"\"}}, \"*\")"
      ],
      "text/plain": [
       "<IPython.core.display.Javascript object>"
      ]
     },
     "metadata": {},
     "output_type": "display_data"
    },
    {
     "data": {
      "text/markdown": [
       "<span style=\"color:#33cc33\">Correct:</span> \n",
       "\n",
       "Here's one solution:\n",
       "```python\n",
       "def elementwise_greater_than(L, thresh):\n",
       "    res = []\n",
       "    for ele in L:\n",
       "        res.append(ele > thresh)\n",
       "    return res\n",
       "```\n",
       "\n",
       "And here's the list comprehension version:\n",
       "```python\n",
       "def elementwise_greater_than(L, thresh):\n",
       "    return [ele > thresh for ele in L]\n",
       "```\n"
      ],
      "text/plain": [
       "Correct: \n",
       "\n",
       "Here's one solution:\n",
       "```python\n",
       "def elementwise_greater_than(L, thresh):\n",
       "    res = []\n",
       "    for ele in L:\n",
       "        res.append(ele > thresh)\n",
       "    return res\n",
       "```\n",
       "\n",
       "And here's the list comprehension version:\n",
       "```python\n",
       "def elementwise_greater_than(L, thresh):\n",
       "    return [ele > thresh for ele in L]\n",
       "```"
      ]
     },
     "metadata": {},
     "output_type": "display_data"
    }
   ],
   "source": [
    "def elementwise_greater_than(L, thresh):\n",
    "    \"\"\"Return a list with the same length as L, where the value at index i is \n",
    "    True if L[i] is greater than thresh, and False otherwise.\n",
    "    \n",
    "    >>> elementwise_greater_than([1, 2, 3, 4], 2)\n",
    "    [False, False, True, True]\n",
    "    \"\"\"\n",
    "    return [ele > thresh for ele in L]\n",
    "\n",
    "# Check your answer\n",
    "q2.check()"
   ]
  },
  {
   "cell_type": "code",
   "execution_count": 7,
   "id": "264e31bf",
   "metadata": {
    "execution": {
     "iopub.execute_input": "2022-09-02T00:35:15.899945Z",
     "iopub.status.busy": "2022-09-02T00:35:15.898903Z",
     "iopub.status.idle": "2022-09-02T00:35:15.903323Z",
     "shell.execute_reply": "2022-09-02T00:35:15.902489Z"
    },
    "papermill": {
     "duration": 0.014526,
     "end_time": "2022-09-02T00:35:15.905504",
     "exception": false,
     "start_time": "2022-09-02T00:35:15.890978",
     "status": "completed"
    },
    "tags": []
   },
   "outputs": [],
   "source": [
    "#q2.solution()"
   ]
  },
  {
   "cell_type": "markdown",
   "id": "5e28ee35",
   "metadata": {
    "papermill": {
     "duration": 0.006118,
     "end_time": "2022-09-02T00:35:15.918123",
     "exception": false,
     "start_time": "2022-09-02T00:35:15.912005",
     "status": "completed"
    },
    "tags": []
   },
   "source": [
    "# 3.\n",
    "\n",
    "Complete the body of the function below according to its docstring."
   ]
  },
  {
   "cell_type": "code",
   "execution_count": 8,
   "id": "4ff3bdea",
   "metadata": {
    "execution": {
     "iopub.execute_input": "2022-09-02T00:35:15.933175Z",
     "iopub.status.busy": "2022-09-02T00:35:15.932428Z",
     "iopub.status.idle": "2022-09-02T00:35:15.942531Z",
     "shell.execute_reply": "2022-09-02T00:35:15.941435Z"
    },
    "papermill": {
     "duration": 0.020584,
     "end_time": "2022-09-02T00:35:15.945194",
     "exception": false,
     "start_time": "2022-09-02T00:35:15.924610",
     "status": "completed"
    },
    "tags": []
   },
   "outputs": [
    {
     "data": {
      "application/javascript": [
       "parent.postMessage({\"jupyterEvent\": \"custom.exercise_interaction\", \"data\": {\"outcomeType\": 1, \"valueTowardsCompletion\": 0.25, \"interactionType\": 1, \"questionType\": 2, \"questionId\": \"3_BoringMenu\", \"learnToolsVersion\": \"0.3.4\", \"failureMessage\": \"\", \"exceptionClass\": \"\", \"trace\": \"\"}}, \"*\")"
      ],
      "text/plain": [
       "<IPython.core.display.Javascript object>"
      ]
     },
     "metadata": {},
     "output_type": "display_data"
    },
    {
     "data": {
      "text/markdown": [
       "<span style=\"color:#33cc33\">Correct:</span> \n",
       "\n",
       "\n",
       "\n",
       "```python\n",
       "def menu_is_boring(meals):\n",
       "    # Iterate over all indices of the list, except the last one\n",
       "    for i in range(len(meals)-1):\n",
       "        if meals[i] == meals[i+1]:\n",
       "            return True\n",
       "    return False\n",
       "```\n",
       "\n",
       "The key to our solution is the call to `range`. `range(len(meals))` would give us all the indices of `meals`. If we had used that range, the last iteration of the loop would be comparing the last element to the element after it, which is... `IndexError`! `range(len(meals)-1)` gives us all the indices except the index of the last element.\n",
       "\n",
       "But don't we need to check if `meals` is empty? Turns out that `range(0) == range(-1)` - they're both empty. So if `meals` has length 0 or 1, we just won't do any iterations of our for loop.\n"
      ],
      "text/plain": [
       "Correct: \n",
       "\n",
       "\n",
       "\n",
       "```python\n",
       "def menu_is_boring(meals):\n",
       "    # Iterate over all indices of the list, except the last one\n",
       "    for i in range(len(meals)-1):\n",
       "        if meals[i] == meals[i+1]:\n",
       "            return True\n",
       "    return False\n",
       "```\n",
       "\n",
       "The key to our solution is the call to `range`. `range(len(meals))` would give us all the indices of `meals`. If we had used that range, the last iteration of the loop would be comparing the last element to the element after it, which is... `IndexError`! `range(len(meals)-1)` gives us all the indices except the index of the last element.\n",
       "\n",
       "But don't we need to check if `meals` is empty? Turns out that `range(0) == range(-1)` - they're both empty. So if `meals` has length 0 or 1, we just won't do any iterations of our for loop."
      ]
     },
     "metadata": {},
     "output_type": "display_data"
    }
   ],
   "source": [
    "def menu_is_boring(meals):\n",
    "    \"\"\"Given a list of meals served over some period of time, return True if the\n",
    "    same meal has ever been served two days in a row, and False otherwise.\n",
    "    \"\"\"\n",
    "    for i in range(len(meals) -1):\n",
    "        if meals[i] == meals[i+1]: \n",
    "            return True     \n",
    "    return False\n",
    "# Check your answer\n",
    "q3.check()"
   ]
  },
  {
   "cell_type": "code",
   "execution_count": 9,
   "id": "f5ee3716",
   "metadata": {
    "execution": {
     "iopub.execute_input": "2022-09-02T00:35:15.960451Z",
     "iopub.status.busy": "2022-09-02T00:35:15.960009Z",
     "iopub.status.idle": "2022-09-02T00:35:15.964701Z",
     "shell.execute_reply": "2022-09-02T00:35:15.963559Z"
    },
    "papermill": {
     "duration": 0.014982,
     "end_time": "2022-09-02T00:35:15.966946",
     "exception": false,
     "start_time": "2022-09-02T00:35:15.951964",
     "status": "completed"
    },
    "tags": []
   },
   "outputs": [],
   "source": [
    "#q3.hint()\n",
    "#q3.solution()"
   ]
  },
  {
   "cell_type": "markdown",
   "id": "e5021f0b",
   "metadata": {
    "papermill": {
     "duration": 0.006494,
     "end_time": "2022-09-02T00:35:15.980698",
     "exception": false,
     "start_time": "2022-09-02T00:35:15.974204",
     "status": "completed"
    },
    "tags": []
   },
   "source": [
    "# 4. <span title=\"A bit spicy\" style=\"color: darkgreen \">🌶️</span>\n",
    "\n",
    "Next to the Blackjack table, the Python Challenge Casino has a slot machine. You can get a result from the slot machine by calling `play_slot_machine()`. The number it returns is your winnings in dollars. Usually it returns 0.  But sometimes you'll get lucky and get a big payday. Try running it below:"
   ]
  },
  {
   "cell_type": "code",
   "execution_count": 10,
   "id": "6a5a8007",
   "metadata": {
    "execution": {
     "iopub.execute_input": "2022-09-02T00:35:15.995805Z",
     "iopub.status.busy": "2022-09-02T00:35:15.995434Z",
     "iopub.status.idle": "2022-09-02T00:35:16.001463Z",
     "shell.execute_reply": "2022-09-02T00:35:16.000627Z"
    },
    "papermill": {
     "duration": 0.016108,
     "end_time": "2022-09-02T00:35:16.003466",
     "exception": false,
     "start_time": "2022-09-02T00:35:15.987358",
     "status": "completed"
    },
    "tags": []
   },
   "outputs": [
    {
     "data": {
      "text/plain": [
       "0"
      ]
     },
     "execution_count": 10,
     "metadata": {},
     "output_type": "execute_result"
    }
   ],
   "source": [
    "play_slot_machine()"
   ]
  },
  {
   "cell_type": "markdown",
   "id": "ca9cf2f3",
   "metadata": {
    "papermill": {
     "duration": 0.006676,
     "end_time": "2022-09-02T00:35:16.017435",
     "exception": false,
     "start_time": "2022-09-02T00:35:16.010759",
     "status": "completed"
    },
    "tags": []
   },
   "source": [
    "By the way, did we mention that each play costs $1? Don't worry, we'll send you the bill later.\n",
    "\n",
    "On average, how much money can you expect to gain (or lose) every time you play the machine?  The casino keeps it a secret, but you can estimate the average value of each pull using a technique called the **Monte Carlo method**. To estimate the average outcome, we simulate the scenario many times, and return the average result.\n",
    "\n",
    "Complete the following function to calculate the average value per play of the slot machine."
   ]
  },
  {
   "cell_type": "code",
   "execution_count": 11,
   "id": "03767066",
   "metadata": {
    "execution": {
     "iopub.execute_input": "2022-09-02T00:35:16.033074Z",
     "iopub.status.busy": "2022-09-02T00:35:16.032415Z",
     "iopub.status.idle": "2022-09-02T00:35:20.146666Z",
     "shell.execute_reply": "2022-09-02T00:35:20.145800Z"
    },
    "papermill": {
     "duration": 4.124906,
     "end_time": "2022-09-02T00:35:20.149168",
     "exception": false,
     "start_time": "2022-09-02T00:35:16.024262",
     "status": "completed"
    },
    "tags": []
   },
   "outputs": [
    {
     "data": {
      "text/plain": [
       "0.0254853"
      ]
     },
     "execution_count": 11,
     "metadata": {},
     "output_type": "execute_result"
    }
   ],
   "source": [
    "def estimate_average_slot_payout(n_runs):\n",
    "    \"\"\"Run the slot machine n_runs times and return the average net profit per run.\n",
    "    Example calls (note that return value is nondeterministic!):\n",
    "    >>> estimate_average_slot_payout(1)\n",
    "    -1\n",
    "    >>> estimate_average_slot_payout(1)\n",
    "    0.5\n",
    "    \"\"\"    \n",
    "    # Play slot machine n_runs times, calculate payout of each\n",
    "    payouts = [play_slot_machine()-1 for i in range(n_runs)]\n",
    "    # Calculate the average value\n",
    "    avg_payout = sum(payouts) / n_runs\n",
    "    return avg_payout\n",
    "\n",
    "estimate_average_slot_payout(10000000)"
   ]
  },
  {
   "cell_type": "markdown",
   "id": "2fab98df",
   "metadata": {
    "papermill": {
     "duration": 0.006788,
     "end_time": "2022-09-02T00:35:20.162989",
     "exception": false,
     "start_time": "2022-09-02T00:35:20.156201",
     "status": "completed"
    },
    "tags": []
   },
   "source": [
    "When you think you know the expected value per spin, run the code cell below to view the solution and get credit for answering the question."
   ]
  },
  {
   "cell_type": "code",
   "execution_count": 12,
   "id": "433ab924",
   "metadata": {
    "execution": {
     "iopub.execute_input": "2022-09-02T00:35:20.179309Z",
     "iopub.status.busy": "2022-09-02T00:35:20.178587Z",
     "iopub.status.idle": "2022-09-02T00:35:20.185911Z",
     "shell.execute_reply": "2022-09-02T00:35:20.185048Z"
    },
    "papermill": {
     "duration": 0.018151,
     "end_time": "2022-09-02T00:35:20.187999",
     "exception": false,
     "start_time": "2022-09-02T00:35:20.169848",
     "status": "completed"
    },
    "tags": []
   },
   "outputs": [
    {
     "data": {
      "application/javascript": [
       "parent.postMessage({\"jupyterEvent\": \"custom.exercise_interaction\", \"data\": {\"interactionType\": 3, \"questionType\": 4, \"questionId\": \"4_ExpectedSlotsPayout\", \"learnToolsVersion\": \"0.3.4\", \"valueTowardsCompletion\": 0.0, \"failureMessage\": \"\", \"exceptionClass\": \"\", \"trace\": \"\", \"outcomeType\": 4}}, \"*\")"
      ],
      "text/plain": [
       "<IPython.core.display.Javascript object>"
      ]
     },
     "metadata": {},
     "output_type": "display_data"
    },
    {
     "data": {
      "text/markdown": [
       "<span style=\"color:#33cc99\">Solution:</span> \n",
       "    \n",
       "The exact expected value of one pull of the slot machine is 0.025 - i.e. a little more than 2 cents.  See?  Not every game in the Python Challenge Casino is rigged against the player!\n",
       "\n",
       "In order to get this answer, you'll need to implement the `estimate_average_slot_payout(n_runs)` function to simulate pulling the slot machine `n_runs` times.  It should return the payout averaged over those `n_runs`.\n",
       "\n",
       "Then, once the function is defined, in order to estimate the average slot payout, we need only call the function.\n",
       "\n",
       "Because of the high variance of the outcome (there are some very rare high payout results that significantly affect the average) you might need to run your function with a very high value of `n_runs` to get a stable answer close to the true expectation.  For instance, you might use a value for `n_runs` of 1000000.\n",
       "\n",
       "Here's an example for how the function could look:\n",
       "```python\n",
       "def estimate_average_slot_payout(n_runs):\n",
       "    # Play slot machine n_runs times, calculate payout of each\n",
       "    payouts = [play_slot_machine()-1 for i in range(n_runs)]\n",
       "    # Calculate the average value\n",
       "    avg_payout = sum(payouts) / n_runs\n",
       "    return avg_payout\n",
       "    \n",
       "estimate_average_slot_payout(10000000)\n",
       "\n",
       "```\n",
       "\n",
       "This should return an answer close to 0.025!\n",
       "            \n"
      ],
      "text/plain": [
       "Solution: \n",
       "    \n",
       "The exact expected value of one pull of the slot machine is 0.025 - i.e. a little more than 2 cents.  See?  Not every game in the Python Challenge Casino is rigged against the player!\n",
       "\n",
       "In order to get this answer, you'll need to implement the `estimate_average_slot_payout(n_runs)` function to simulate pulling the slot machine `n_runs` times.  It should return the payout averaged over those `n_runs`.\n",
       "\n",
       "Then, once the function is defined, in order to estimate the average slot payout, we need only call the function.\n",
       "\n",
       "Because of the high variance of the outcome (there are some very rare high payout results that significantly affect the average) you might need to run your function with a very high value of `n_runs` to get a stable answer close to the true expectation.  For instance, you might use a value for `n_runs` of 1000000.\n",
       "\n",
       "Here's an example for how the function could look:\n",
       "```python\n",
       "def estimate_average_slot_payout(n_runs):\n",
       "    # Play slot machine n_runs times, calculate payout of each\n",
       "    payouts = [play_slot_machine()-1 for i in range(n_runs)]\n",
       "    # Calculate the average value\n",
       "    avg_payout = sum(payouts) / n_runs\n",
       "    return avg_payout\n",
       "    \n",
       "estimate_average_slot_payout(10000000)\n",
       "\n",
       "```\n",
       "\n",
       "This should return an answer close to 0.025!\n",
       "            "
      ]
     },
     "metadata": {},
     "output_type": "display_data"
    }
   ],
   "source": [
    "# Check your answer (Run this code cell to receive credit!)\n",
    "q4.solution()"
   ]
  },
  {
   "cell_type": "markdown",
   "id": "6ad1a289",
   "metadata": {
    "papermill": {
     "duration": 0.007089,
     "end_time": "2022-09-02T00:35:20.202461",
     "exception": false,
     "start_time": "2022-09-02T00:35:20.195372",
     "status": "completed"
    },
    "tags": []
   },
   "source": [
    "# Keep Going\n",
    "\n",
    "Many programmers report that dictionaries are their favorite data structure. You'll get to **[learn about them](https://www.kaggle.com/colinmorris/strings-and-dictionaries)** (as well as strings) in the next lesson."
   ]
  },
  {
   "cell_type": "markdown",
   "id": "4f28ead2",
   "metadata": {
    "papermill": {
     "duration": 0.006986,
     "end_time": "2022-09-02T00:35:20.216757",
     "exception": false,
     "start_time": "2022-09-02T00:35:20.209771",
     "status": "completed"
    },
    "tags": []
   },
   "source": [
    "---\n",
    "\n",
    "\n",
    "\n",
    "\n",
    "*Have questions or comments? Visit the [course discussion forum](https://www.kaggle.com/learn/python/discussion) to chat with other learners.*"
   ]
  }
 ],
 "metadata": {
  "kernelspec": {
   "display_name": "Python 3",
   "language": "python",
   "name": "python3"
  },
  "language_info": {
   "codemirror_mode": {
    "name": "ipython",
    "version": 3
   },
   "file_extension": ".py",
   "mimetype": "text/x-python",
   "name": "python",
   "nbconvert_exporter": "python",
   "pygments_lexer": "ipython3",
   "version": "3.7.12"
  },
  "papermill": {
   "default_parameters": {},
   "duration": 15.100713,
   "end_time": "2022-09-02T00:35:20.847615",
   "environment_variables": {},
   "exception": null,
   "input_path": "__notebook__.ipynb",
   "output_path": "__notebook__.ipynb",
   "parameters": {},
   "start_time": "2022-09-02T00:35:05.746902",
   "version": "2.3.4"
  }
 },
 "nbformat": 4,
 "nbformat_minor": 5
}
