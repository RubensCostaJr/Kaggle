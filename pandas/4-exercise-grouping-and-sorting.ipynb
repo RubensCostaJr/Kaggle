{
 "cells": [
  {
   "cell_type": "markdown",
   "id": "e4c726c1",
   "metadata": {
    "papermill": {
     "duration": 0.007381,
     "end_time": "2022-09-09T00:49:40.056469",
     "exception": false,
     "start_time": "2022-09-09T00:49:40.049088",
     "status": "completed"
    },
    "tags": []
   },
   "source": [
    "**This notebook is an exercise in the [Pandas](https://www.kaggle.com/learn/pandas) course.  You can reference the tutorial at [this link](https://www.kaggle.com/residentmario/grouping-and-sorting).**\n",
    "\n",
    "---\n"
   ]
  },
  {
   "cell_type": "markdown",
   "id": "5fbf1517",
   "metadata": {
    "papermill": {
     "duration": 0.005853,
     "end_time": "2022-09-09T00:49:40.068809",
     "exception": false,
     "start_time": "2022-09-09T00:49:40.062956",
     "status": "completed"
    },
    "tags": []
   },
   "source": [
    "# Introduction\n",
    "\n",
    "In these exercises we'll apply groupwise analysis to our dataset.\n",
    "\n",
    "Run the code cell below to load the data before running the exercises."
   ]
  },
  {
   "cell_type": "code",
   "execution_count": 1,
   "id": "335d171f",
   "metadata": {
    "execution": {
     "iopub.execute_input": "2022-09-09T00:49:40.083568Z",
     "iopub.status.busy": "2022-09-09T00:49:40.082987Z",
     "iopub.status.idle": "2022-09-09T00:49:42.995132Z",
     "shell.execute_reply": "2022-09-09T00:49:42.994157Z"
    },
    "papermill": {
     "duration": 2.92451,
     "end_time": "2022-09-09T00:49:42.999469",
     "exception": false,
     "start_time": "2022-09-09T00:49:40.074959",
     "status": "completed"
    },
    "tags": []
   },
   "outputs": [
    {
     "name": "stdout",
     "output_type": "stream",
     "text": [
      "Setup complete.\n"
     ]
    }
   ],
   "source": [
    "import pandas as pd\n",
    "\n",
    "reviews = pd.read_csv(\"../input/wine-reviews/winemag-data-130k-v2.csv\", index_col=0)\n",
    "#pd.set_option(\"display.max_rows\", 5)\n",
    "\n",
    "from learntools.core import binder; binder.bind(globals())\n",
    "from learntools.pandas.grouping_and_sorting import *\n",
    "print(\"Setup complete.\")"
   ]
  },
  {
   "cell_type": "markdown",
   "id": "0e6532db",
   "metadata": {
    "papermill": {
     "duration": 0.006886,
     "end_time": "2022-09-09T00:49:43.013111",
     "exception": false,
     "start_time": "2022-09-09T00:49:43.006225",
     "status": "completed"
    },
    "tags": []
   },
   "source": [
    "# Exercises"
   ]
  },
  {
   "cell_type": "markdown",
   "id": "d3684528",
   "metadata": {
    "papermill": {
     "duration": 0.009003,
     "end_time": "2022-09-09T00:49:43.029125",
     "exception": false,
     "start_time": "2022-09-09T00:49:43.020122",
     "status": "completed"
    },
    "tags": []
   },
   "source": [
    "## 1.\n",
    "Who are the most common wine reviewers in the dataset? Create a `Series` whose index is the `taster_twitter_handle` category from the dataset, and whose values count how many reviews each person wrote."
   ]
  },
  {
   "cell_type": "code",
   "execution_count": 2,
   "id": "ca6a67ef",
   "metadata": {
    "execution": {
     "iopub.execute_input": "2022-09-09T00:49:43.050391Z",
     "iopub.status.busy": "2022-09-09T00:49:43.049114Z",
     "iopub.status.idle": "2022-09-09T00:49:43.078179Z",
     "shell.execute_reply": "2022-09-09T00:49:43.077129Z"
    },
    "papermill": {
     "duration": 0.042447,
     "end_time": "2022-09-09T00:49:43.080986",
     "exception": false,
     "start_time": "2022-09-09T00:49:43.038539",
     "status": "completed"
    },
    "tags": []
   },
   "outputs": [
    {
     "data": {
      "text/html": [
       "<div>\n",
       "<style scoped>\n",
       "    .dataframe tbody tr th:only-of-type {\n",
       "        vertical-align: middle;\n",
       "    }\n",
       "\n",
       "    .dataframe tbody tr th {\n",
       "        vertical-align: top;\n",
       "    }\n",
       "\n",
       "    .dataframe thead th {\n",
       "        text-align: right;\n",
       "    }\n",
       "</style>\n",
       "<table border=\"1\" class=\"dataframe\">\n",
       "  <thead>\n",
       "    <tr style=\"text-align: right;\">\n",
       "      <th></th>\n",
       "      <th>country</th>\n",
       "      <th>description</th>\n",
       "      <th>designation</th>\n",
       "      <th>points</th>\n",
       "      <th>price</th>\n",
       "      <th>province</th>\n",
       "      <th>region_1</th>\n",
       "      <th>region_2</th>\n",
       "      <th>taster_name</th>\n",
       "      <th>taster_twitter_handle</th>\n",
       "      <th>title</th>\n",
       "      <th>variety</th>\n",
       "      <th>winery</th>\n",
       "    </tr>\n",
       "  </thead>\n",
       "  <tbody>\n",
       "    <tr>\n",
       "      <th>0</th>\n",
       "      <td>Italy</td>\n",
       "      <td>Aromas include tropical fruit, broom, brimston...</td>\n",
       "      <td>Vulkà Bianco</td>\n",
       "      <td>87</td>\n",
       "      <td>NaN</td>\n",
       "      <td>Sicily &amp; Sardinia</td>\n",
       "      <td>Etna</td>\n",
       "      <td>NaN</td>\n",
       "      <td>Kerin O’Keefe</td>\n",
       "      <td>@kerinokeefe</td>\n",
       "      <td>Nicosia 2013 Vulkà Bianco  (Etna)</td>\n",
       "      <td>White Blend</td>\n",
       "      <td>Nicosia</td>\n",
       "    </tr>\n",
       "    <tr>\n",
       "      <th>1</th>\n",
       "      <td>Portugal</td>\n",
       "      <td>This is ripe and fruity, a wine that is smooth...</td>\n",
       "      <td>Avidagos</td>\n",
       "      <td>87</td>\n",
       "      <td>15.0</td>\n",
       "      <td>Douro</td>\n",
       "      <td>NaN</td>\n",
       "      <td>NaN</td>\n",
       "      <td>Roger Voss</td>\n",
       "      <td>@vossroger</td>\n",
       "      <td>Quinta dos Avidagos 2011 Avidagos Red (Douro)</td>\n",
       "      <td>Portuguese Red</td>\n",
       "      <td>Quinta dos Avidagos</td>\n",
       "    </tr>\n",
       "    <tr>\n",
       "      <th>2</th>\n",
       "      <td>US</td>\n",
       "      <td>Tart and snappy, the flavors of lime flesh and...</td>\n",
       "      <td>NaN</td>\n",
       "      <td>87</td>\n",
       "      <td>14.0</td>\n",
       "      <td>Oregon</td>\n",
       "      <td>Willamette Valley</td>\n",
       "      <td>Willamette Valley</td>\n",
       "      <td>Paul Gregutt</td>\n",
       "      <td>@paulgwine</td>\n",
       "      <td>Rainstorm 2013 Pinot Gris (Willamette Valley)</td>\n",
       "      <td>Pinot Gris</td>\n",
       "      <td>Rainstorm</td>\n",
       "    </tr>\n",
       "    <tr>\n",
       "      <th>3</th>\n",
       "      <td>US</td>\n",
       "      <td>Pineapple rind, lemon pith and orange blossom ...</td>\n",
       "      <td>Reserve Late Harvest</td>\n",
       "      <td>87</td>\n",
       "      <td>13.0</td>\n",
       "      <td>Michigan</td>\n",
       "      <td>Lake Michigan Shore</td>\n",
       "      <td>NaN</td>\n",
       "      <td>Alexander Peartree</td>\n",
       "      <td>NaN</td>\n",
       "      <td>St. Julian 2013 Reserve Late Harvest Riesling ...</td>\n",
       "      <td>Riesling</td>\n",
       "      <td>St. Julian</td>\n",
       "    </tr>\n",
       "    <tr>\n",
       "      <th>4</th>\n",
       "      <td>US</td>\n",
       "      <td>Much like the regular bottling from 2012, this...</td>\n",
       "      <td>Vintner's Reserve Wild Child Block</td>\n",
       "      <td>87</td>\n",
       "      <td>65.0</td>\n",
       "      <td>Oregon</td>\n",
       "      <td>Willamette Valley</td>\n",
       "      <td>Willamette Valley</td>\n",
       "      <td>Paul Gregutt</td>\n",
       "      <td>@paulgwine</td>\n",
       "      <td>Sweet Cheeks 2012 Vintner's Reserve Wild Child...</td>\n",
       "      <td>Pinot Noir</td>\n",
       "      <td>Sweet Cheeks</td>\n",
       "    </tr>\n",
       "  </tbody>\n",
       "</table>\n",
       "</div>"
      ],
      "text/plain": [
       "    country                                        description  \\\n",
       "0     Italy  Aromas include tropical fruit, broom, brimston...   \n",
       "1  Portugal  This is ripe and fruity, a wine that is smooth...   \n",
       "2        US  Tart and snappy, the flavors of lime flesh and...   \n",
       "3        US  Pineapple rind, lemon pith and orange blossom ...   \n",
       "4        US  Much like the regular bottling from 2012, this...   \n",
       "\n",
       "                          designation  points  price           province  \\\n",
       "0                        Vulkà Bianco      87    NaN  Sicily & Sardinia   \n",
       "1                            Avidagos      87   15.0              Douro   \n",
       "2                                 NaN      87   14.0             Oregon   \n",
       "3                Reserve Late Harvest      87   13.0           Michigan   \n",
       "4  Vintner's Reserve Wild Child Block      87   65.0             Oregon   \n",
       "\n",
       "              region_1           region_2         taster_name  \\\n",
       "0                 Etna                NaN       Kerin O’Keefe   \n",
       "1                  NaN                NaN          Roger Voss   \n",
       "2    Willamette Valley  Willamette Valley        Paul Gregutt   \n",
       "3  Lake Michigan Shore                NaN  Alexander Peartree   \n",
       "4    Willamette Valley  Willamette Valley        Paul Gregutt   \n",
       "\n",
       "  taster_twitter_handle                                              title  \\\n",
       "0          @kerinokeefe                  Nicosia 2013 Vulkà Bianco  (Etna)   \n",
       "1            @vossroger      Quinta dos Avidagos 2011 Avidagos Red (Douro)   \n",
       "2           @paulgwine       Rainstorm 2013 Pinot Gris (Willamette Valley)   \n",
       "3                   NaN  St. Julian 2013 Reserve Late Harvest Riesling ...   \n",
       "4           @paulgwine   Sweet Cheeks 2012 Vintner's Reserve Wild Child...   \n",
       "\n",
       "          variety               winery  \n",
       "0     White Blend              Nicosia  \n",
       "1  Portuguese Red  Quinta dos Avidagos  \n",
       "2      Pinot Gris            Rainstorm  \n",
       "3        Riesling           St. Julian  \n",
       "4      Pinot Noir         Sweet Cheeks  "
      ]
     },
     "execution_count": 2,
     "metadata": {},
     "output_type": "execute_result"
    }
   ],
   "source": [
    "reviews.head()"
   ]
  },
  {
   "cell_type": "code",
   "execution_count": 3,
   "id": "8f6569c4",
   "metadata": {
    "execution": {
     "iopub.execute_input": "2022-09-09T00:49:43.103399Z",
     "iopub.status.busy": "2022-09-09T00:49:43.102203Z",
     "iopub.status.idle": "2022-09-09T00:49:43.126622Z",
     "shell.execute_reply": "2022-09-09T00:49:43.125286Z"
    },
    "papermill": {
     "duration": 0.035634,
     "end_time": "2022-09-09T00:49:43.129069",
     "exception": false,
     "start_time": "2022-09-09T00:49:43.093435",
     "status": "completed"
    },
    "tags": []
   },
   "outputs": [
    {
     "name": "stdout",
     "output_type": "stream",
     "text": [
      "taster_twitter_handle\n",
      "@AnneInVino          3685\n",
      "@JoeCz               5147\n",
      "@bkfiona               27\n",
      "@gordone_cellars     4177\n",
      "@kerinokeefe        10776\n",
      "@laurbuzz            1835\n",
      "@mattkettmann        6332\n",
      "@paulgwine           9532\n",
      "@suskostrzewa        1085\n",
      "@vboone              9537\n",
      "@vossroger          25514\n",
      "@wawinereport        4966\n",
      "@wineschach         15134\n",
      "@winewchristina         6\n",
      "@worldwineguys       1005\n",
      "dtype: int64\n"
     ]
    },
    {
     "data": {
      "application/javascript": [
       "parent.postMessage({\"jupyterEvent\": \"custom.exercise_interaction\", \"data\": {\"outcomeType\": 1, \"valueTowardsCompletion\": 0.16666666666666666, \"interactionType\": 1, \"questionType\": 1, \"questionId\": \"1_ReviewsWritten\", \"learnToolsVersion\": \"0.3.4\", \"failureMessage\": \"\", \"exceptionClass\": \"\", \"trace\": \"\"}}, \"*\")"
      ],
      "text/plain": [
       "<IPython.core.display.Javascript object>"
      ]
     },
     "metadata": {},
     "output_type": "display_data"
    },
    {
     "data": {
      "text/markdown": [
       "<span style=\"color:#33cc33\">Correct:</span> \n",
       "\n",
       "\n",
       "```python\n",
       "reviews_written = reviews.groupby('taster_twitter_handle').size()\n",
       "```\n",
       "or\n",
       "```python\n",
       "reviews_written = reviews.groupby('taster_twitter_handle').taster_twitter_handle.count()\n",
       "```\n"
      ],
      "text/plain": [
       "Correct: \n",
       "\n",
       "\n",
       "```python\n",
       "reviews_written = reviews.groupby('taster_twitter_handle').size()\n",
       "```\n",
       "or\n",
       "```python\n",
       "reviews_written = reviews.groupby('taster_twitter_handle').taster_twitter_handle.count()\n",
       "```"
      ]
     },
     "metadata": {},
     "output_type": "display_data"
    }
   ],
   "source": [
    "# Your code here\n",
    "#reviews_written = reviews.groupby('taster_twitter_handle')['taster_twitter_handle'].count()\n",
    "#reviews_written = reviews.groupby('taster_twitter_handle')['taster_twitter_handle'].size()\n",
    "reviews_written = reviews.groupby('taster_twitter_handle').size()\n",
    "\n",
    "print(reviews_written)\n",
    "# Check your answer\n",
    "q1.check()"
   ]
  },
  {
   "cell_type": "code",
   "execution_count": 4,
   "id": "e8fee3ea",
   "metadata": {
    "execution": {
     "iopub.execute_input": "2022-09-09T00:49:43.144573Z",
     "iopub.status.busy": "2022-09-09T00:49:43.144167Z",
     "iopub.status.idle": "2022-09-09T00:49:43.148940Z",
     "shell.execute_reply": "2022-09-09T00:49:43.147764Z"
    },
    "papermill": {
     "duration": 0.015345,
     "end_time": "2022-09-09T00:49:43.151364",
     "exception": false,
     "start_time": "2022-09-09T00:49:43.136019",
     "status": "completed"
    },
    "tags": []
   },
   "outputs": [],
   "source": [
    "#q1.hint()\n",
    "#q1.solution()"
   ]
  },
  {
   "cell_type": "markdown",
   "id": "5ff34e70",
   "metadata": {
    "papermill": {
     "duration": 0.006599,
     "end_time": "2022-09-09T00:49:43.165090",
     "exception": false,
     "start_time": "2022-09-09T00:49:43.158491",
     "status": "completed"
    },
    "tags": []
   },
   "source": [
    "## 2.\n",
    "What is the best wine I can buy for a given amount of money? Create a `Series` whose index is wine prices and whose values is the maximum number of points a wine costing that much was given in a review. Sort the values by price, ascending (so that `4.0` dollars is at the top and `3300.0` dollars is at the bottom)."
   ]
  },
  {
   "cell_type": "code",
   "execution_count": 5,
   "id": "6bedc097",
   "metadata": {
    "execution": {
     "iopub.execute_input": "2022-09-09T00:49:43.180510Z",
     "iopub.status.busy": "2022-09-09T00:49:43.180097Z",
     "iopub.status.idle": "2022-09-09T00:49:43.198592Z",
     "shell.execute_reply": "2022-09-09T00:49:43.197585Z"
    },
    "papermill": {
     "duration": 0.028706,
     "end_time": "2022-09-09T00:49:43.200701",
     "exception": false,
     "start_time": "2022-09-09T00:49:43.171995",
     "status": "completed"
    },
    "tags": []
   },
   "outputs": [
    {
     "name": "stdout",
     "output_type": "stream",
     "text": [
      "price\n",
      "4.0       86\n",
      "5.0       87\n",
      "6.0       88\n",
      "7.0       91\n",
      "8.0       91\n",
      "          ..\n",
      "1900.0    98\n",
      "2000.0    97\n",
      "2013.0    91\n",
      "2500.0    96\n",
      "3300.0    88\n",
      "Name: points, Length: 390, dtype: int64\n"
     ]
    },
    {
     "data": {
      "application/javascript": [
       "parent.postMessage({\"jupyterEvent\": \"custom.exercise_interaction\", \"data\": {\"outcomeType\": 1, \"valueTowardsCompletion\": 0.16666666666666666, \"interactionType\": 1, \"questionType\": 1, \"questionId\": \"2_BestRatingPerPrice\", \"learnToolsVersion\": \"0.3.4\", \"failureMessage\": \"\", \"exceptionClass\": \"\", \"trace\": \"\"}}, \"*\")"
      ],
      "text/plain": [
       "<IPython.core.display.Javascript object>"
      ]
     },
     "metadata": {},
     "output_type": "display_data"
    },
    {
     "data": {
      "text/markdown": [
       "<span style=\"color:#33cc33\">Correct</span>"
      ],
      "text/plain": [
       "Correct"
      ]
     },
     "metadata": {},
     "output_type": "display_data"
    }
   ],
   "source": [
    "best_rating_per_price = reviews.groupby('price')['points'].max().sort_index(ascending=True)\n",
    "print(best_rating_per_price)\n",
    "# Check your answer\n",
    "q2.check()"
   ]
  },
  {
   "cell_type": "code",
   "execution_count": 6,
   "id": "dc895eb5",
   "metadata": {
    "execution": {
     "iopub.execute_input": "2022-09-09T00:49:43.217415Z",
     "iopub.status.busy": "2022-09-09T00:49:43.216677Z",
     "iopub.status.idle": "2022-09-09T00:49:43.221389Z",
     "shell.execute_reply": "2022-09-09T00:49:43.220472Z"
    },
    "papermill": {
     "duration": 0.015447,
     "end_time": "2022-09-09T00:49:43.223408",
     "exception": false,
     "start_time": "2022-09-09T00:49:43.207961",
     "status": "completed"
    },
    "tags": []
   },
   "outputs": [],
   "source": [
    "#q2.hint()\n",
    "#q2.solution()"
   ]
  },
  {
   "cell_type": "markdown",
   "id": "85bd8fd5",
   "metadata": {
    "papermill": {
     "duration": 0.006953,
     "end_time": "2022-09-09T00:49:43.237654",
     "exception": false,
     "start_time": "2022-09-09T00:49:43.230701",
     "status": "completed"
    },
    "tags": []
   },
   "source": [
    "## 3.\n",
    "What are the minimum and maximum prices for each `variety` of wine? Create a `DataFrame` whose index is the `variety` category from the dataset and whose values are the `min` and `max` values thereof."
   ]
  },
  {
   "cell_type": "code",
   "execution_count": 7,
   "id": "85db81e8",
   "metadata": {
    "execution": {
     "iopub.execute_input": "2022-09-09T00:49:43.254115Z",
     "iopub.status.busy": "2022-09-09T00:49:43.253364Z",
     "iopub.status.idle": "2022-09-09T00:49:43.284507Z",
     "shell.execute_reply": "2022-09-09T00:49:43.283224Z"
    },
    "papermill": {
     "duration": 0.041906,
     "end_time": "2022-09-09T00:49:43.286764",
     "exception": false,
     "start_time": "2022-09-09T00:49:43.244858",
     "status": "completed"
    },
    "tags": []
   },
   "outputs": [
    {
     "name": "stdout",
     "output_type": "stream",
     "text": [
      "              min    max\n",
      "variety                 \n",
      "Abouriou     15.0   75.0\n",
      "Agiorgitiko  10.0   66.0\n",
      "Aglianico     6.0  180.0\n",
      "Aidani       27.0   27.0\n",
      "Airen         8.0   10.0\n",
      "...           ...    ...\n",
      "Zinfandel     5.0  100.0\n",
      "Zlahtina     13.0   16.0\n",
      "Zweigelt      9.0   70.0\n",
      "Çalkarası    19.0   19.0\n",
      "Žilavka      15.0   15.0\n",
      "\n",
      "[707 rows x 2 columns]\n"
     ]
    },
    {
     "data": {
      "application/javascript": [
       "parent.postMessage({\"jupyterEvent\": \"custom.exercise_interaction\", \"data\": {\"outcomeType\": 1, \"valueTowardsCompletion\": 0.16666666666666666, \"interactionType\": 1, \"questionType\": 1, \"questionId\": \"3_PriceExtremes\", \"learnToolsVersion\": \"0.3.4\", \"failureMessage\": \"\", \"exceptionClass\": \"\", \"trace\": \"\"}}, \"*\")"
      ],
      "text/plain": [
       "<IPython.core.display.Javascript object>"
      ]
     },
     "metadata": {},
     "output_type": "display_data"
    },
    {
     "data": {
      "text/markdown": [
       "<span style=\"color:#33cc33\">Correct</span>"
      ],
      "text/plain": [
       "Correct"
      ]
     },
     "metadata": {},
     "output_type": "display_data"
    }
   ],
   "source": [
    "price_extremes = reviews.groupby('variety')['price'].agg([min, max]) \n",
    "print(price_extremes)\n",
    "# Check your answer\n",
    "q3.check()"
   ]
  },
  {
   "cell_type": "code",
   "execution_count": 8,
   "id": "6a60545b",
   "metadata": {
    "execution": {
     "iopub.execute_input": "2022-09-09T00:49:43.305102Z",
     "iopub.status.busy": "2022-09-09T00:49:43.304276Z",
     "iopub.status.idle": "2022-09-09T00:49:43.309292Z",
     "shell.execute_reply": "2022-09-09T00:49:43.308314Z"
    },
    "papermill": {
     "duration": 0.016495,
     "end_time": "2022-09-09T00:49:43.311723",
     "exception": false,
     "start_time": "2022-09-09T00:49:43.295228",
     "status": "completed"
    },
    "tags": []
   },
   "outputs": [],
   "source": [
    "#q3.hint()\n",
    "#q3.solution()"
   ]
  },
  {
   "cell_type": "markdown",
   "id": "58731467",
   "metadata": {
    "papermill": {
     "duration": 0.007254,
     "end_time": "2022-09-09T00:49:43.326814",
     "exception": false,
     "start_time": "2022-09-09T00:49:43.319560",
     "status": "completed"
    },
    "tags": []
   },
   "source": [
    "## 4.\n",
    "What are the most expensive wine varieties? Create a variable `sorted_varieties` containing a copy of the dataframe from the previous question where varieties are sorted in descending order based on minimum price, then on maximum price (to break ties)."
   ]
  },
  {
   "cell_type": "code",
   "execution_count": 9,
   "id": "be07eccb",
   "metadata": {
    "execution": {
     "iopub.execute_input": "2022-09-09T00:49:43.343928Z",
     "iopub.status.busy": "2022-09-09T00:49:43.343154Z",
     "iopub.status.idle": "2022-09-09T00:49:43.374616Z",
     "shell.execute_reply": "2022-09-09T00:49:43.373438Z"
    },
    "papermill": {
     "duration": 0.043909,
     "end_time": "2022-09-09T00:49:43.378215",
     "exception": false,
     "start_time": "2022-09-09T00:49:43.334306",
     "status": "completed"
    },
    "tags": []
   },
   "outputs": [
    {
     "name": "stdout",
     "output_type": "stream",
     "text": [
      "                                  min    max\n",
      "variety                                     \n",
      "Ramisco                         495.0  495.0\n",
      "Terrantez                       236.0  236.0\n",
      "Francisa                        160.0  160.0\n",
      "Rosenmuskateller                150.0  150.0\n",
      "Tinta Negra Mole                112.0  112.0\n",
      "...                               ...    ...\n",
      "Roscetto                          NaN    NaN\n",
      "Sauvignon Blanc-Sauvignon Gris    NaN    NaN\n",
      "Tempranillo-Malbec                NaN    NaN\n",
      "Vital                             NaN    NaN\n",
      "Zelen                             NaN    NaN\n",
      "\n",
      "[707 rows x 2 columns]\n"
     ]
    },
    {
     "data": {
      "application/javascript": [
       "parent.postMessage({\"jupyterEvent\": \"custom.exercise_interaction\", \"data\": {\"outcomeType\": 1, \"valueTowardsCompletion\": 0.16666666666666666, \"interactionType\": 1, \"questionType\": 1, \"questionId\": \"4_SortedVarieties\", \"learnToolsVersion\": \"0.3.4\", \"failureMessage\": \"\", \"exceptionClass\": \"\", \"trace\": \"\"}}, \"*\")"
      ],
      "text/plain": [
       "<IPython.core.display.Javascript object>"
      ]
     },
     "metadata": {},
     "output_type": "display_data"
    },
    {
     "data": {
      "text/markdown": [
       "<span style=\"color:#33cc33\">Correct</span>"
      ],
      "text/plain": [
       "Correct"
      ]
     },
     "metadata": {},
     "output_type": "display_data"
    }
   ],
   "source": [
    "sorted_varieties = (reviews.groupby('variety')['price']\n",
    "                    .agg([min, max])\n",
    "                    .sort_values(by=['min', 'max'], ascending=False))\n",
    "\n",
    "print(sorted_varieties)\n",
    "# Check your answer\n",
    "q4.check()"
   ]
  },
  {
   "cell_type": "code",
   "execution_count": 10,
   "id": "b9c6674f",
   "metadata": {
    "execution": {
     "iopub.execute_input": "2022-09-09T00:49:43.395795Z",
     "iopub.status.busy": "2022-09-09T00:49:43.395402Z",
     "iopub.status.idle": "2022-09-09T00:49:43.400578Z",
     "shell.execute_reply": "2022-09-09T00:49:43.399471Z"
    },
    "papermill": {
     "duration": 0.016704,
     "end_time": "2022-09-09T00:49:43.402896",
     "exception": false,
     "start_time": "2022-09-09T00:49:43.386192",
     "status": "completed"
    },
    "tags": []
   },
   "outputs": [],
   "source": [
    "#q4.hint()\n",
    "#q4.solution()"
   ]
  },
  {
   "cell_type": "markdown",
   "id": "13a151f3",
   "metadata": {
    "papermill": {
     "duration": 0.007709,
     "end_time": "2022-09-09T00:49:43.418541",
     "exception": false,
     "start_time": "2022-09-09T00:49:43.410832",
     "status": "completed"
    },
    "tags": []
   },
   "source": [
    "## 5.\n",
    "Create a `Series` whose index is reviewers and whose values is the average review score given out by that reviewer. Hint: you will need the `taster_name` and `points` columns."
   ]
  },
  {
   "cell_type": "code",
   "execution_count": 11,
   "id": "590257ea",
   "metadata": {
    "execution": {
     "iopub.execute_input": "2022-09-09T00:49:43.436391Z",
     "iopub.status.busy": "2022-09-09T00:49:43.435682Z",
     "iopub.status.idle": "2022-09-09T00:49:43.457500Z",
     "shell.execute_reply": "2022-09-09T00:49:43.456581Z"
    },
    "papermill": {
     "duration": 0.033217,
     "end_time": "2022-09-09T00:49:43.459691",
     "exception": false,
     "start_time": "2022-09-09T00:49:43.426474",
     "status": "completed"
    },
    "tags": []
   },
   "outputs": [
    {
     "data": {
      "application/javascript": [
       "parent.postMessage({\"jupyterEvent\": \"custom.exercise_interaction\", \"data\": {\"outcomeType\": 1, \"valueTowardsCompletion\": 0.16666666666666666, \"interactionType\": 1, \"questionType\": 1, \"questionId\": \"5_ReviewerMeanRatings\", \"learnToolsVersion\": \"0.3.4\", \"failureMessage\": \"\", \"exceptionClass\": \"\", \"trace\": \"\"}}, \"*\")"
      ],
      "text/plain": [
       "<IPython.core.display.Javascript object>"
      ]
     },
     "metadata": {},
     "output_type": "display_data"
    },
    {
     "data": {
      "text/markdown": [
       "<span style=\"color:#33cc33\">Correct</span>"
      ],
      "text/plain": [
       "Correct"
      ]
     },
     "metadata": {},
     "output_type": "display_data"
    }
   ],
   "source": [
    "reviewer_mean_ratings = reviews.groupby('taster_name')['points'].mean()\n",
    "\n",
    "# Check your answer\n",
    "q5.check()"
   ]
  },
  {
   "cell_type": "code",
   "execution_count": 12,
   "id": "fbc50010",
   "metadata": {
    "execution": {
     "iopub.execute_input": "2022-09-09T00:49:43.477821Z",
     "iopub.status.busy": "2022-09-09T00:49:43.477431Z",
     "iopub.status.idle": "2022-09-09T00:49:43.481901Z",
     "shell.execute_reply": "2022-09-09T00:49:43.480818Z"
    },
    "papermill": {
     "duration": 0.016288,
     "end_time": "2022-09-09T00:49:43.484148",
     "exception": false,
     "start_time": "2022-09-09T00:49:43.467860",
     "status": "completed"
    },
    "tags": []
   },
   "outputs": [],
   "source": [
    "#q5.hint()\n",
    "#q5.solution()"
   ]
  },
  {
   "cell_type": "markdown",
   "id": "13dca8e7",
   "metadata": {
    "papermill": {
     "duration": 0.007817,
     "end_time": "2022-09-09T00:49:43.500228",
     "exception": false,
     "start_time": "2022-09-09T00:49:43.492411",
     "status": "completed"
    },
    "tags": []
   },
   "source": [
    "Are there significant differences in the average scores assigned by the various reviewers? Run the cell below to use the `describe()` method to see a summary of the range of values."
   ]
  },
  {
   "cell_type": "code",
   "execution_count": 13,
   "id": "50f7a5a9",
   "metadata": {
    "execution": {
     "iopub.execute_input": "2022-09-09T00:49:43.518299Z",
     "iopub.status.busy": "2022-09-09T00:49:43.517840Z",
     "iopub.status.idle": "2022-09-09T00:49:43.529722Z",
     "shell.execute_reply": "2022-09-09T00:49:43.528923Z"
    },
    "papermill": {
     "duration": 0.023204,
     "end_time": "2022-09-09T00:49:43.531734",
     "exception": false,
     "start_time": "2022-09-09T00:49:43.508530",
     "status": "completed"
    },
    "tags": []
   },
   "outputs": [
    {
     "data": {
      "text/plain": [
       "count    19.000000\n",
       "mean     88.233026\n",
       "std       1.243610\n",
       "min      85.855422\n",
       "25%      87.323501\n",
       "50%      88.536235\n",
       "75%      88.975256\n",
       "max      90.562551\n",
       "Name: points, dtype: float64"
      ]
     },
     "execution_count": 13,
     "metadata": {},
     "output_type": "execute_result"
    }
   ],
   "source": [
    "reviewer_mean_ratings.describe()"
   ]
  },
  {
   "cell_type": "markdown",
   "id": "75461fe6",
   "metadata": {
    "papermill": {
     "duration": 0.008102,
     "end_time": "2022-09-09T00:49:43.547950",
     "exception": false,
     "start_time": "2022-09-09T00:49:43.539848",
     "status": "completed"
    },
    "tags": []
   },
   "source": [
    "## 6.\n",
    "What combination of countries and varieties are most common? Create a `Series` whose index is a `MultiIndex`of `{country, variety}` pairs. For example, a pinot noir produced in the US should map to `{\"US\", \"Pinot Noir\"}`. Sort the values in the `Series` in descending order based on wine count."
   ]
  },
  {
   "cell_type": "code",
   "execution_count": 14,
   "id": "7738384d",
   "metadata": {
    "execution": {
     "iopub.execute_input": "2022-09-09T00:49:43.566897Z",
     "iopub.status.busy": "2022-09-09T00:49:43.566273Z",
     "iopub.status.idle": "2022-09-09T00:49:43.603353Z",
     "shell.execute_reply": "2022-09-09T00:49:43.602340Z"
    },
    "papermill": {
     "duration": 0.048876,
     "end_time": "2022-09-09T00:49:43.605444",
     "exception": false,
     "start_time": "2022-09-09T00:49:43.556568",
     "status": "completed"
    },
    "tags": []
   },
   "outputs": [
    {
     "name": "stdout",
     "output_type": "stream",
     "text": [
      "country  variety                 \n",
      "US       Pinot Noir                  9885\n",
      "         Cabernet Sauvignon          7315\n",
      "         Chardonnay                  6801\n",
      "France   Bordeaux-style Red Blend    4725\n",
      "Italy    Red Blend                   3624\n",
      "                                     ... \n",
      "Mexico   Cinsault                       1\n",
      "         Grenache                       1\n",
      "         Merlot                         1\n",
      "         Rosado                         1\n",
      "Uruguay  White Blend                    1\n",
      "Length: 1612, dtype: int64\n"
     ]
    },
    {
     "data": {
      "application/javascript": [
       "parent.postMessage({\"jupyterEvent\": \"custom.exercise_interaction\", \"data\": {\"outcomeType\": 1, \"valueTowardsCompletion\": 0.16666666666666666, \"interactionType\": 1, \"questionType\": 1, \"questionId\": \"6_GroupbyCountryVariety\", \"learnToolsVersion\": \"0.3.4\", \"failureMessage\": \"\", \"exceptionClass\": \"\", \"trace\": \"\"}}, \"*\")"
      ],
      "text/plain": [
       "<IPython.core.display.Javascript object>"
      ]
     },
     "metadata": {},
     "output_type": "display_data"
    },
    {
     "data": {
      "text/markdown": [
       "<span style=\"color:#33cc33\">Correct</span>"
      ],
      "text/plain": [
       "Correct"
      ]
     },
     "metadata": {},
     "output_type": "display_data"
    }
   ],
   "source": [
    "country_variety_counts = (reviews.groupby(['country', 'variety']).size()\n",
    "                          .sort_values(ascending=False))\n",
    "print(country_variety_counts)\n",
    "# Check your answer\n",
    "q6.check()"
   ]
  },
  {
   "cell_type": "code",
   "execution_count": 15,
   "id": "fe27362c",
   "metadata": {
    "execution": {
     "iopub.execute_input": "2022-09-09T00:49:43.624496Z",
     "iopub.status.busy": "2022-09-09T00:49:43.623903Z",
     "iopub.status.idle": "2022-09-09T00:49:43.627513Z",
     "shell.execute_reply": "2022-09-09T00:49:43.626648Z"
    },
    "papermill": {
     "duration": 0.015477,
     "end_time": "2022-09-09T00:49:43.629509",
     "exception": false,
     "start_time": "2022-09-09T00:49:43.614032",
     "status": "completed"
    },
    "tags": []
   },
   "outputs": [],
   "source": [
    "#q6.hint()\n",
    "#q6.solution()"
   ]
  },
  {
   "cell_type": "code",
   "execution_count": 16,
   "id": "4a856ef2",
   "metadata": {
    "execution": {
     "iopub.execute_input": "2022-09-09T00:49:43.648562Z",
     "iopub.status.busy": "2022-09-09T00:49:43.647966Z",
     "iopub.status.idle": "2022-09-09T00:49:43.651484Z",
     "shell.execute_reply": "2022-09-09T00:49:43.650731Z"
    },
    "papermill": {
     "duration": 0.01551,
     "end_time": "2022-09-09T00:49:43.653571",
     "exception": false,
     "start_time": "2022-09-09T00:49:43.638061",
     "status": "completed"
    },
    "tags": []
   },
   "outputs": [],
   "source": [
    "#  for index, group in reviews.groupby(['country']):\n",
    "#         print(group)\n",
    "#         break"
   ]
  },
  {
   "cell_type": "markdown",
   "id": "069500b2",
   "metadata": {
    "papermill": {
     "duration": 0.008169,
     "end_time": "2022-09-09T00:49:43.670463",
     "exception": false,
     "start_time": "2022-09-09T00:49:43.662294",
     "status": "completed"
    },
    "tags": []
   },
   "source": [
    "# Keep going\n",
    "\n",
    "Move on to the [**data types and missing data**](https://www.kaggle.com/residentmario/data-types-and-missing-values)."
   ]
  },
  {
   "cell_type": "markdown",
   "id": "07b400f7",
   "metadata": {
    "papermill": {
     "duration": 0.008209,
     "end_time": "2022-09-09T00:49:43.687190",
     "exception": false,
     "start_time": "2022-09-09T00:49:43.678981",
     "status": "completed"
    },
    "tags": []
   },
   "source": [
    "---\n",
    "\n",
    "\n",
    "\n",
    "\n",
    "*Have questions or comments? Visit the [course discussion forum](https://www.kaggle.com/learn/pandas/discussion) to chat with other learners.*"
   ]
  }
 ],
 "metadata": {
  "kernelspec": {
   "display_name": "Python 3",
   "language": "python",
   "name": "python3"
  },
  "language_info": {
   "codemirror_mode": {
    "name": "ipython",
    "version": 3
   },
   "file_extension": ".py",
   "mimetype": "text/x-python",
   "name": "python",
   "nbconvert_exporter": "python",
   "pygments_lexer": "ipython3",
   "version": "3.7.12"
  },
  "papermill": {
   "default_parameters": {},
   "duration": 13.38096,
   "end_time": "2022-09-09T00:49:44.417750",
   "environment_variables": {},
   "exception": null,
   "input_path": "__notebook__.ipynb",
   "output_path": "__notebook__.ipynb",
   "parameters": {},
   "start_time": "2022-09-09T00:49:31.036790",
   "version": "2.3.4"
  }
 },
 "nbformat": 4,
 "nbformat_minor": 5
}
