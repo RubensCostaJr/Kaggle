{
 "cells": [
  {
   "cell_type": "markdown",
   "id": "96b65489",
   "metadata": {
    "papermill": {
     "duration": 0.005575,
     "end_time": "2022-09-09T00:52:54.361964",
     "exception": false,
     "start_time": "2022-09-09T00:52:54.356389",
     "status": "completed"
    },
    "tags": []
   },
   "source": [
    "**This notebook is an exercise in the [Pandas](https://www.kaggle.com/learn/pandas) course.  You can reference the tutorial at [this link](https://www.kaggle.com/residentmario/data-types-and-missing-values).**\n",
    "\n",
    "---\n"
   ]
  },
  {
   "cell_type": "markdown",
   "id": "141c656e",
   "metadata": {
    "papermill": {
     "duration": 0.004267,
     "end_time": "2022-09-09T00:52:54.370917",
     "exception": false,
     "start_time": "2022-09-09T00:52:54.366650",
     "status": "completed"
    },
    "tags": []
   },
   "source": [
    "# Introduction\n",
    "\n",
    "Run the following cell to load your data and some utility functions."
   ]
  },
  {
   "cell_type": "code",
   "execution_count": 1,
   "id": "42a8805f",
   "metadata": {
    "execution": {
     "iopub.execute_input": "2022-09-09T00:52:54.382329Z",
     "iopub.status.busy": "2022-09-09T00:52:54.381732Z",
     "iopub.status.idle": "2022-09-09T00:52:58.293280Z",
     "shell.execute_reply": "2022-09-09T00:52:58.291764Z"
    },
    "papermill": {
     "duration": 3.922256,
     "end_time": "2022-09-09T00:52:58.297689",
     "exception": false,
     "start_time": "2022-09-09T00:52:54.375433",
     "status": "completed"
    },
    "tags": []
   },
   "outputs": [
    {
     "name": "stdout",
     "output_type": "stream",
     "text": [
      "Setup complete.\n"
     ]
    }
   ],
   "source": [
    "import pandas as pd\n",
    "\n",
    "reviews = pd.read_csv(\"../input/wine-reviews/winemag-data-130k-v2.csv\", index_col=0)\n",
    "\n",
    "from learntools.core import binder; binder.bind(globals())\n",
    "from learntools.pandas.data_types_and_missing_data import *\n",
    "print(\"Setup complete.\")"
   ]
  },
  {
   "cell_type": "markdown",
   "id": "e0d67613",
   "metadata": {
    "papermill": {
     "duration": 0.004316,
     "end_time": "2022-09-09T00:52:58.306863",
     "exception": false,
     "start_time": "2022-09-09T00:52:58.302547",
     "status": "completed"
    },
    "tags": []
   },
   "source": [
    "# Exercises"
   ]
  },
  {
   "cell_type": "markdown",
   "id": "4f722958",
   "metadata": {
    "papermill": {
     "duration": 0.004194,
     "end_time": "2022-09-09T00:52:58.315586",
     "exception": false,
     "start_time": "2022-09-09T00:52:58.311392",
     "status": "completed"
    },
    "tags": []
   },
   "source": [
    "## 1. \n",
    "What is the data type of the `points` column in the dataset?"
   ]
  },
  {
   "cell_type": "code",
   "execution_count": 2,
   "id": "1f48cf9c",
   "metadata": {
    "execution": {
     "iopub.execute_input": "2022-09-09T00:52:58.327028Z",
     "iopub.status.busy": "2022-09-09T00:52:58.326230Z",
     "iopub.status.idle": "2022-09-09T00:52:58.340692Z",
     "shell.execute_reply": "2022-09-09T00:52:58.339300Z"
    },
    "papermill": {
     "duration": 0.023176,
     "end_time": "2022-09-09T00:52:58.343232",
     "exception": false,
     "start_time": "2022-09-09T00:52:58.320056",
     "status": "completed"
    },
    "tags": []
   },
   "outputs": [
    {
     "name": "stdout",
     "output_type": "stream",
     "text": [
      "int64\n"
     ]
    },
    {
     "data": {
      "application/javascript": [
       "parent.postMessage({\"jupyterEvent\": \"custom.exercise_interaction\", \"data\": {\"outcomeType\": 1, \"valueTowardsCompletion\": 0.25, \"interactionType\": 1, \"questionType\": 1, \"questionId\": \"1_PointsDtype\", \"learnToolsVersion\": \"0.3.4\", \"failureMessage\": \"\", \"exceptionClass\": \"\", \"trace\": \"\"}}, \"*\")"
      ],
      "text/plain": [
       "<IPython.core.display.Javascript object>"
      ]
     },
     "metadata": {},
     "output_type": "display_data"
    },
    {
     "data": {
      "text/markdown": [
       "<span style=\"color:#33cc33\">Correct</span>"
      ],
      "text/plain": [
       "Correct"
      ]
     },
     "metadata": {},
     "output_type": "display_data"
    }
   ],
   "source": [
    "# Your code here\n",
    "dtype = reviews['points'].dtype\n",
    "print(dtype)\n",
    "# Check your answer\n",
    "q1.check()"
   ]
  },
  {
   "cell_type": "code",
   "execution_count": 3,
   "id": "54b22e43",
   "metadata": {
    "execution": {
     "iopub.execute_input": "2022-09-09T00:52:58.355628Z",
     "iopub.status.busy": "2022-09-09T00:52:58.355123Z",
     "iopub.status.idle": "2022-09-09T00:52:58.360436Z",
     "shell.execute_reply": "2022-09-09T00:52:58.359103Z"
    },
    "papermill": {
     "duration": 0.014604,
     "end_time": "2022-09-09T00:52:58.362798",
     "exception": false,
     "start_time": "2022-09-09T00:52:58.348194",
     "status": "completed"
    },
    "tags": []
   },
   "outputs": [],
   "source": [
    "#q1.hint()\n",
    "#q1.solution()"
   ]
  },
  {
   "cell_type": "markdown",
   "id": "0c5329b7",
   "metadata": {
    "papermill": {
     "duration": 0.004741,
     "end_time": "2022-09-09T00:52:58.372547",
     "exception": false,
     "start_time": "2022-09-09T00:52:58.367806",
     "status": "completed"
    },
    "tags": []
   },
   "source": [
    "## 2. \n",
    "Create a Series from entries in the `points` column, but convert the entries to strings. Hint: strings are `str` in native Python."
   ]
  },
  {
   "cell_type": "code",
   "execution_count": 4,
   "id": "d9d759ee",
   "metadata": {
    "execution": {
     "iopub.execute_input": "2022-09-09T00:52:58.385901Z",
     "iopub.status.busy": "2022-09-09T00:52:58.384439Z",
     "iopub.status.idle": "2022-09-09T00:52:58.471257Z",
     "shell.execute_reply": "2022-09-09T00:52:58.469500Z"
    },
    "papermill": {
     "duration": 0.096205,
     "end_time": "2022-09-09T00:52:58.474041",
     "exception": false,
     "start_time": "2022-09-09T00:52:58.377836",
     "status": "completed"
    },
    "tags": []
   },
   "outputs": [
    {
     "data": {
      "application/javascript": [
       "parent.postMessage({\"jupyterEvent\": \"custom.exercise_interaction\", \"data\": {\"outcomeType\": 1, \"valueTowardsCompletion\": 0.25, \"interactionType\": 1, \"questionType\": 1, \"questionId\": \"2_StrPoints\", \"learnToolsVersion\": \"0.3.4\", \"failureMessage\": \"\", \"exceptionClass\": \"\", \"trace\": \"\"}}, \"*\")"
      ],
      "text/plain": [
       "<IPython.core.display.Javascript object>"
      ]
     },
     "metadata": {},
     "output_type": "display_data"
    },
    {
     "data": {
      "text/markdown": [
       "<span style=\"color:#33cc33\">Correct</span>"
      ],
      "text/plain": [
       "Correct"
      ]
     },
     "metadata": {},
     "output_type": "display_data"
    }
   ],
   "source": [
    "point_strings = reviews['points'].astype(str)\n",
    "\n",
    "# Check your answer\n",
    "q2.check()"
   ]
  },
  {
   "cell_type": "code",
   "execution_count": 5,
   "id": "7717003c",
   "metadata": {
    "execution": {
     "iopub.execute_input": "2022-09-09T00:52:58.487299Z",
     "iopub.status.busy": "2022-09-09T00:52:58.486791Z",
     "iopub.status.idle": "2022-09-09T00:52:58.491656Z",
     "shell.execute_reply": "2022-09-09T00:52:58.490359Z"
    },
    "papermill": {
     "duration": 0.015191,
     "end_time": "2022-09-09T00:52:58.494623",
     "exception": false,
     "start_time": "2022-09-09T00:52:58.479432",
     "status": "completed"
    },
    "tags": []
   },
   "outputs": [],
   "source": [
    "# q2.hint()\n",
    "#q2.solution()"
   ]
  },
  {
   "cell_type": "markdown",
   "id": "97ad49b8",
   "metadata": {
    "papermill": {
     "duration": 0.004791,
     "end_time": "2022-09-09T00:52:58.504601",
     "exception": false,
     "start_time": "2022-09-09T00:52:58.499810",
     "status": "completed"
    },
    "tags": []
   },
   "source": [
    "## 3.\n",
    "Sometimes the price column is null. How many reviews in the dataset are missing a price?"
   ]
  },
  {
   "cell_type": "code",
   "execution_count": 6,
   "id": "9e01139b",
   "metadata": {
    "execution": {
     "iopub.execute_input": "2022-09-09T00:52:58.517050Z",
     "iopub.status.busy": "2022-09-09T00:52:58.515912Z",
     "iopub.status.idle": "2022-09-09T00:52:58.528442Z",
     "shell.execute_reply": "2022-09-09T00:52:58.526971Z"
    },
    "papermill": {
     "duration": 0.021583,
     "end_time": "2022-09-09T00:52:58.531096",
     "exception": false,
     "start_time": "2022-09-09T00:52:58.509513",
     "status": "completed"
    },
    "tags": []
   },
   "outputs": [
    {
     "data": {
      "application/javascript": [
       "parent.postMessage({\"jupyterEvent\": \"custom.exercise_interaction\", \"data\": {\"outcomeType\": 1, \"valueTowardsCompletion\": 0.25, \"interactionType\": 1, \"questionType\": 1, \"questionId\": \"3_CountMissingPrices\", \"learnToolsVersion\": \"0.3.4\", \"failureMessage\": \"\", \"exceptionClass\": \"\", \"trace\": \"\"}}, \"*\")"
      ],
      "text/plain": [
       "<IPython.core.display.Javascript object>"
      ]
     },
     "metadata": {},
     "output_type": "display_data"
    },
    {
     "data": {
      "text/markdown": [
       "<span style=\"color:#33cc33\">Correct</span>"
      ],
      "text/plain": [
       "Correct"
      ]
     },
     "metadata": {},
     "output_type": "display_data"
    }
   ],
   "source": [
    "n_missing_prices = reviews['price'].isnull().sum()\n",
    "\n",
    "# Check your answer\n",
    "q3.check()"
   ]
  },
  {
   "cell_type": "code",
   "execution_count": 7,
   "id": "8138dc18",
   "metadata": {
    "execution": {
     "iopub.execute_input": "2022-09-09T00:52:58.544105Z",
     "iopub.status.busy": "2022-09-09T00:52:58.543649Z",
     "iopub.status.idle": "2022-09-09T00:52:58.549053Z",
     "shell.execute_reply": "2022-09-09T00:52:58.547625Z"
    },
    "papermill": {
     "duration": 0.015369,
     "end_time": "2022-09-09T00:52:58.551835",
     "exception": false,
     "start_time": "2022-09-09T00:52:58.536466",
     "status": "completed"
    },
    "tags": []
   },
   "outputs": [],
   "source": [
    "# q3.hint()\n",
    "# q3.solution()"
   ]
  },
  {
   "cell_type": "markdown",
   "id": "f2f2611a",
   "metadata": {
    "papermill": {
     "duration": 0.005012,
     "end_time": "2022-09-09T00:52:58.562126",
     "exception": false,
     "start_time": "2022-09-09T00:52:58.557114",
     "status": "completed"
    },
    "tags": []
   },
   "source": [
    "## 4.\n",
    "What are the most common wine-producing regions? Create a Series counting the number of times each value occurs in the `region_1` field. This field is often missing data, so replace missing values with `Unknown`. Sort in descending order.  Your output should look something like this:\n",
    "\n",
    "```\n",
    "Unknown                    21247\n",
    "Napa Valley                 4480\n",
    "                           ...  \n",
    "Bardolino Superiore            1\n",
    "Primitivo del Tarantino        1\n",
    "Name: region_1, Length: 1230, dtype: int64\n",
    "```"
   ]
  },
  {
   "cell_type": "code",
   "execution_count": 8,
   "id": "5abffee9",
   "metadata": {
    "execution": {
     "iopub.execute_input": "2022-09-09T00:52:58.576021Z",
     "iopub.status.busy": "2022-09-09T00:52:58.575542Z",
     "iopub.status.idle": "2022-09-09T00:52:58.623469Z",
     "shell.execute_reply": "2022-09-09T00:52:58.621992Z"
    },
    "papermill": {
     "duration": 0.058264,
     "end_time": "2022-09-09T00:52:58.626251",
     "exception": false,
     "start_time": "2022-09-09T00:52:58.567987",
     "status": "completed"
    },
    "tags": []
   },
   "outputs": [
    {
     "data": {
      "application/javascript": [
       "parent.postMessage({\"jupyterEvent\": \"custom.exercise_interaction\", \"data\": {\"outcomeType\": 1, \"valueTowardsCompletion\": 0.25, \"interactionType\": 1, \"questionType\": 2, \"questionId\": \"4_ReviewsPerRegion\", \"learnToolsVersion\": \"0.3.4\", \"failureMessage\": \"\", \"exceptionClass\": \"\", \"trace\": \"\"}}, \"*\")"
      ],
      "text/plain": [
       "<IPython.core.display.Javascript object>"
      ]
     },
     "metadata": {},
     "output_type": "display_data"
    },
    {
     "data": {
      "text/markdown": [
       "<span style=\"color:#33cc33\">Correct</span>"
      ],
      "text/plain": [
       "Correct"
      ]
     },
     "metadata": {},
     "output_type": "display_data"
    }
   ],
   "source": [
    "reviews_per_region = (reviews.region_1.fillna('Unknown')#replacing missing values \n",
    "                      .value_counts()#counting values \n",
    "                     .sort_values(ascending=False))#down sorting\n",
    "\n",
    "# Check your answer\n",
    "q4.check()"
   ]
  },
  {
   "cell_type": "code",
   "execution_count": 9,
   "id": "7e04712b",
   "metadata": {
    "execution": {
     "iopub.execute_input": "2022-09-09T00:52:58.639689Z",
     "iopub.status.busy": "2022-09-09T00:52:58.639221Z",
     "iopub.status.idle": "2022-09-09T00:52:58.644478Z",
     "shell.execute_reply": "2022-09-09T00:52:58.643326Z"
    },
    "papermill": {
     "duration": 0.015433,
     "end_time": "2022-09-09T00:52:58.647241",
     "exception": false,
     "start_time": "2022-09-09T00:52:58.631808",
     "status": "completed"
    },
    "tags": []
   },
   "outputs": [],
   "source": [
    "# q4.hint()\n",
    "# q4.solution()"
   ]
  },
  {
   "cell_type": "markdown",
   "id": "42def7cd",
   "metadata": {
    "papermill": {
     "duration": 0.005191,
     "end_time": "2022-09-09T00:52:58.658150",
     "exception": false,
     "start_time": "2022-09-09T00:52:58.652959",
     "status": "completed"
    },
    "tags": []
   },
   "source": [
    "# Keep going\n",
    "\n",
    "Move on to **[renaming and combining](https://www.kaggle.com/residentmario/renaming-and-combining)**."
   ]
  },
  {
   "cell_type": "markdown",
   "id": "572b3aa5",
   "metadata": {
    "papermill": {
     "duration": 0.005112,
     "end_time": "2022-09-09T00:52:58.668743",
     "exception": false,
     "start_time": "2022-09-09T00:52:58.663631",
     "status": "completed"
    },
    "tags": []
   },
   "source": [
    "---\n",
    "\n",
    "\n",
    "\n",
    "\n",
    "*Have questions or comments? Visit the [course discussion forum](https://www.kaggle.com/learn/pandas/discussion) to chat with other learners.*"
   ]
  }
 ],
 "metadata": {
  "kernelspec": {
   "display_name": "Python 3",
   "language": "python",
   "name": "python3"
  },
  "language_info": {
   "codemirror_mode": {
    "name": "ipython",
    "version": 3
   },
   "file_extension": ".py",
   "mimetype": "text/x-python",
   "name": "python",
   "nbconvert_exporter": "python",
   "pygments_lexer": "ipython3",
   "version": "3.7.12"
  },
  "papermill": {
   "default_parameters": {},
   "duration": 17.219578,
   "end_time": "2022-09-09T00:53:01.570819",
   "environment_variables": {},
   "exception": null,
   "input_path": "__notebook__.ipynb",
   "output_path": "__notebook__.ipynb",
   "parameters": {},
   "start_time": "2022-09-09T00:52:44.351241",
   "version": "2.3.4"
  }
 },
 "nbformat": 4,
 "nbformat_minor": 5
}
