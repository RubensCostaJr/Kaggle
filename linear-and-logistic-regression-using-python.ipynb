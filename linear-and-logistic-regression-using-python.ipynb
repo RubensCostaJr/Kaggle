{
 "cells": [
  {
   "cell_type": "code",
   "execution_count": 1,
   "id": "fd5f7e64",
   "metadata": {
    "_cell_guid": "b1076dfc-b9ad-4769-8c92-a6c4dae69d19",
    "_uuid": "8f2839f25d086af736a60e9eeb907d3b93b6e0e5",
    "execution": {
     "iopub.execute_input": "2022-09-22T15:02:00.622270Z",
     "iopub.status.busy": "2022-09-22T15:02:00.621744Z",
     "iopub.status.idle": "2022-09-22T15:02:02.012367Z",
     "shell.execute_reply": "2022-09-22T15:02:02.011213Z"
    },
    "papermill": {
     "duration": 1.399346,
     "end_time": "2022-09-22T15:02:02.015398",
     "exception": false,
     "start_time": "2022-09-22T15:02:00.616052",
     "status": "completed"
    },
    "tags": []
   },
   "outputs": [],
   "source": [
    "import numpy as np # linear algebra\n",
    "import pandas as pd # data processing, CSV file I/O (e.g. pd.read_csv)\n",
    "import seaborn as sns \n",
    "from sklearn import datasets\n",
    "import matplotlib.pyplot as plt\n",
    "from sklearn.linear_model import LinearRegression\n",
    "import os"
   ]
  },
  {
   "cell_type": "code",
   "execution_count": 2,
   "id": "f5f28784",
   "metadata": {
    "execution": {
     "iopub.execute_input": "2022-09-22T15:02:02.023812Z",
     "iopub.status.busy": "2022-09-22T15:02:02.023445Z",
     "iopub.status.idle": "2022-09-22T15:02:02.028965Z",
     "shell.execute_reply": "2022-09-22T15:02:02.027274Z"
    },
    "papermill": {
     "duration": 0.012372,
     "end_time": "2022-09-22T15:02:02.031323",
     "exception": false,
     "start_time": "2022-09-22T15:02:02.018951",
     "status": "completed"
    },
    "tags": []
   },
   "outputs": [],
   "source": [
    "# x from 0 to 30\n",
    "x = 30 * np.random.random((20, 1))"
   ]
  },
  {
   "cell_type": "code",
   "execution_count": 3,
   "id": "56a2c11e",
   "metadata": {
    "execution": {
     "iopub.execute_input": "2022-09-22T15:02:02.038488Z",
     "iopub.status.busy": "2022-09-22T15:02:02.038108Z",
     "iopub.status.idle": "2022-09-22T15:02:02.044034Z",
     "shell.execute_reply": "2022-09-22T15:02:02.042581Z"
    },
    "papermill": {
     "duration": 0.012247,
     "end_time": "2022-09-22T15:02:02.046611",
     "exception": false,
     "start_time": "2022-09-22T15:02:02.034364",
     "status": "completed"
    },
    "tags": []
   },
   "outputs": [],
   "source": [
    "# y = a*x + b with noise\n",
    "y = 0.5 * x + 1.0 + np.random.normal(size=x.shape)"
   ]
  },
  {
   "cell_type": "code",
   "execution_count": 4,
   "id": "b5f7ad79",
   "metadata": {
    "execution": {
     "iopub.execute_input": "2022-09-22T15:02:02.053574Z",
     "iopub.status.busy": "2022-09-22T15:02:02.053180Z",
     "iopub.status.idle": "2022-09-22T15:02:02.084737Z",
     "shell.execute_reply": "2022-09-22T15:02:02.083749Z"
    },
    "papermill": {
     "duration": 0.037445,
     "end_time": "2022-09-22T15:02:02.086902",
     "exception": false,
     "start_time": "2022-09-22T15:02:02.049457",
     "status": "completed"
    },
    "tags": []
   },
   "outputs": [
    {
     "data": {
      "text/plain": [
       "LinearRegression()"
      ]
     },
     "execution_count": 4,
     "metadata": {},
     "output_type": "execute_result"
    }
   ],
   "source": [
    "# create a linear regression model\n",
    "model = LinearRegression()\n",
    "model.fit(x, y)"
   ]
  },
  {
   "cell_type": "code",
   "execution_count": 5,
   "id": "539cc676",
   "metadata": {
    "execution": {
     "iopub.execute_input": "2022-09-22T15:02:02.095032Z",
     "iopub.status.busy": "2022-09-22T15:02:02.094127Z",
     "iopub.status.idle": "2022-09-22T15:02:02.101776Z",
     "shell.execute_reply": "2022-09-22T15:02:02.100801Z"
    },
    "papermill": {
     "duration": 0.01418,
     "end_time": "2022-09-22T15:02:02.104276",
     "exception": false,
     "start_time": "2022-09-22T15:02:02.090096",
     "status": "completed"
    },
    "tags": []
   },
   "outputs": [],
   "source": [
    "# predict y from the data\n",
    "x_new = np.linspace(0, 30, 100)\n",
    "y_new = model.predict(x_new[:, np.newaxis])"
   ]
  },
  {
   "cell_type": "code",
   "execution_count": 6,
   "id": "13869350",
   "metadata": {
    "execution": {
     "iopub.execute_input": "2022-09-22T15:02:02.111396Z",
     "iopub.status.busy": "2022-09-22T15:02:02.111045Z",
     "iopub.status.idle": "2022-09-22T15:02:02.294632Z",
     "shell.execute_reply": "2022-09-22T15:02:02.293730Z"
    },
    "papermill": {
     "duration": 0.189719,
     "end_time": "2022-09-22T15:02:02.296937",
     "exception": false,
     "start_time": "2022-09-22T15:02:02.107218",
     "status": "completed"
    },
    "tags": []
   },
   "outputs": [
    {
     "data": {
      "image/png": "[encoded data removed]",
      "text/plain": [
       "<Figure size 288x216 with 1 Axes>"
      ]
     },
     "metadata": {
      "needs_background": "light"
     },
     "output_type": "display_data"
    }
   ],
   "source": [
    "# plot the results\n",
    "plt.figure(figsize=(4, 3))\n",
    "ax = plt.axes()\n",
    "ax.scatter(x, y)\n",
    "ax.plot(x_new, y_new)\n",
    "\n",
    "ax.set_xlabel('x')\n",
    "ax.set_ylabel('y')\n",
    "\n",
    "ax.axis('tight')\n",
    "\n",
    "\n",
    "plt.show()"
   ]
  },
  {
   "cell_type": "code",
   "execution_count": 7,
   "id": "1ea73bb6",
   "metadata": {
    "execution": {
     "iopub.execute_input": "2022-09-22T15:02:02.304911Z",
     "iopub.status.busy": "2022-09-22T15:02:02.304108Z",
     "iopub.status.idle": "2022-09-22T15:02:02.317575Z",
     "shell.execute_reply": "2022-09-22T15:02:02.316470Z"
    },
    "papermill": {
     "duration": 0.020034,
     "end_time": "2022-09-22T15:02:02.320173",
     "exception": false,
     "start_time": "2022-09-22T15:02:02.300139",
     "status": "completed"
    },
    "tags": []
   },
   "outputs": [
    {
     "name": "stdout",
     "output_type": "stream",
     "text": [
      "DataFrame diabetes successfully loaded!\n"
     ]
    }
   ],
   "source": [
    "for dirname, _, filenames in os.walk('/kaggle/input'):\n",
    "    for filename in filenames:\n",
    "        filepath = os.path.join(dirname, filename)\n",
    "        print(f'DataFrame {filename[:-4]} successfully loaded!')"
   ]
  },
  {
   "cell_type": "code",
   "execution_count": 8,
   "id": "088460b9",
   "metadata": {
    "execution": {
     "iopub.execute_input": "2022-09-22T15:02:02.328197Z",
     "iopub.status.busy": "2022-09-22T15:02:02.327876Z",
     "iopub.status.idle": "2022-09-22T15:02:02.370718Z",
     "shell.execute_reply": "2022-09-22T15:02:02.369294Z"
    },
    "papermill": {
     "duration": 0.049801,
     "end_time": "2022-09-22T15:02:02.373404",
     "exception": false,
     "start_time": "2022-09-22T15:02:02.323603",
     "status": "completed"
    },
    "tags": []
   },
   "outputs": [
    {
     "data": {
      "text/html": [
       "<div>\n",
       "<style scoped>\n",
       "    .dataframe tbody tr th:only-of-type {\n",
       "        vertical-align: middle;\n",
       "    }\n",
       "\n",
       "    .dataframe tbody tr th {\n",
       "        vertical-align: top;\n",
       "    }\n",
       "\n",
       "    .dataframe thead th {\n",
       "        text-align: right;\n",
       "    }\n",
       "</style>\n",
       "<table border=\"1\" class=\"dataframe\">\n",
       "  <thead>\n",
       "    <tr style=\"text-align: right;\">\n",
       "      <th></th>\n",
       "      <th>Pregnancies</th>\n",
       "      <th>Glucose</th>\n",
       "      <th>BloodPressure</th>\n",
       "      <th>SkinThickness</th>\n",
       "      <th>Insulin</th>\n",
       "      <th>BMI</th>\n",
       "      <th>DiabetesPedigreeFunction</th>\n",
       "      <th>Age</th>\n",
       "      <th>Outcome</th>\n",
       "    </tr>\n",
       "  </thead>\n",
       "  <tbody>\n",
       "    <tr>\n",
       "      <th>0</th>\n",
       "      <td>6</td>\n",
       "      <td>148</td>\n",
       "      <td>72</td>\n",
       "      <td>35</td>\n",
       "      <td>0</td>\n",
       "      <td>33.6</td>\n",
       "      <td>0.627</td>\n",
       "      <td>50</td>\n",
       "      <td>1</td>\n",
       "    </tr>\n",
       "    <tr>\n",
       "      <th>1</th>\n",
       "      <td>1</td>\n",
       "      <td>85</td>\n",
       "      <td>66</td>\n",
       "      <td>29</td>\n",
       "      <td>0</td>\n",
       "      <td>26.6</td>\n",
       "      <td>0.351</td>\n",
       "      <td>31</td>\n",
       "      <td>0</td>\n",
       "    </tr>\n",
       "    <tr>\n",
       "      <th>2</th>\n",
       "      <td>8</td>\n",
       "      <td>183</td>\n",
       "      <td>64</td>\n",
       "      <td>0</td>\n",
       "      <td>0</td>\n",
       "      <td>23.3</td>\n",
       "      <td>0.672</td>\n",
       "      <td>32</td>\n",
       "      <td>1</td>\n",
       "    </tr>\n",
       "    <tr>\n",
       "      <th>3</th>\n",
       "      <td>1</td>\n",
       "      <td>89</td>\n",
       "      <td>66</td>\n",
       "      <td>23</td>\n",
       "      <td>94</td>\n",
       "      <td>28.1</td>\n",
       "      <td>0.167</td>\n",
       "      <td>21</td>\n",
       "      <td>0</td>\n",
       "    </tr>\n",
       "    <tr>\n",
       "      <th>4</th>\n",
       "      <td>0</td>\n",
       "      <td>137</td>\n",
       "      <td>40</td>\n",
       "      <td>35</td>\n",
       "      <td>168</td>\n",
       "      <td>43.1</td>\n",
       "      <td>2.288</td>\n",
       "      <td>33</td>\n",
       "      <td>1</td>\n",
       "    </tr>\n",
       "    <tr>\n",
       "      <th>...</th>\n",
       "      <td>...</td>\n",
       "      <td>...</td>\n",
       "      <td>...</td>\n",
       "      <td>...</td>\n",
       "      <td>...</td>\n",
       "      <td>...</td>\n",
       "      <td>...</td>\n",
       "      <td>...</td>\n",
       "      <td>...</td>\n",
       "    </tr>\n",
       "    <tr>\n",
       "      <th>763</th>\n",
       "      <td>10</td>\n",
       "      <td>101</td>\n",
       "      <td>76</td>\n",
       "      <td>48</td>\n",
       "      <td>180</td>\n",
       "      <td>32.9</td>\n",
       "      <td>0.171</td>\n",
       "      <td>63</td>\n",
       "      <td>0</td>\n",
       "    </tr>\n",
       "    <tr>\n",
       "      <th>764</th>\n",
       "      <td>2</td>\n",
       "      <td>122</td>\n",
       "      <td>70</td>\n",
       "      <td>27</td>\n",
       "      <td>0</td>\n",
       "      <td>36.8</td>\n",
       "      <td>0.340</td>\n",
       "      <td>27</td>\n",
       "      <td>0</td>\n",
       "    </tr>\n",
       "    <tr>\n",
       "      <th>765</th>\n",
       "      <td>5</td>\n",
       "      <td>121</td>\n",
       "      <td>72</td>\n",
       "      <td>23</td>\n",
       "      <td>112</td>\n",
       "      <td>26.2</td>\n",
       "      <td>0.245</td>\n",
       "      <td>30</td>\n",
       "      <td>0</td>\n",
       "    </tr>\n",
       "    <tr>\n",
       "      <th>766</th>\n",
       "      <td>1</td>\n",
       "      <td>126</td>\n",
       "      <td>60</td>\n",
       "      <td>0</td>\n",
       "      <td>0</td>\n",
       "      <td>30.1</td>\n",
       "      <td>0.349</td>\n",
       "      <td>47</td>\n",
       "      <td>1</td>\n",
       "    </tr>\n",
       "    <tr>\n",
       "      <th>767</th>\n",
       "      <td>1</td>\n",
       "      <td>93</td>\n",
       "      <td>70</td>\n",
       "      <td>31</td>\n",
       "      <td>0</td>\n",
       "      <td>30.4</td>\n",
       "      <td>0.315</td>\n",
       "      <td>23</td>\n",
       "      <td>0</td>\n",
       "    </tr>\n",
       "  </tbody>\n",
       "</table>\n",
       "<p>768 rows × 9 columns</p>\n",
       "</div>"
      ],
      "text/plain": [
       "     Pregnancies  Glucose  BloodPressure  SkinThickness  Insulin   BMI  \\\n",
       "0              6      148             72             35        0  33.6   \n",
       "1              1       85             66             29        0  26.6   \n",
       "2              8      183             64              0        0  23.3   \n",
       "3              1       89             66             23       94  28.1   \n",
       "4              0      137             40             35      168  43.1   \n",
       "..           ...      ...            ...            ...      ...   ...   \n",
       "763           10      101             76             48      180  32.9   \n",
       "764            2      122             70             27        0  36.8   \n",
       "765            5      121             72             23      112  26.2   \n",
       "766            1      126             60              0        0  30.1   \n",
       "767            1       93             70             31        0  30.4   \n",
       "\n",
       "     DiabetesPedigreeFunction  Age  Outcome  \n",
       "0                       0.627   50        1  \n",
       "1                       0.351   31        0  \n",
       "2                       0.672   32        1  \n",
       "3                       0.167   21        0  \n",
       "4                       2.288   33        1  \n",
       "..                        ...  ...      ...  \n",
       "763                     0.171   63        0  \n",
       "764                     0.340   27        0  \n",
       "765                     0.245   30        0  \n",
       "766                     0.349   47        1  \n",
       "767                     0.315   23        0  \n",
       "\n",
       "[768 rows x 9 columns]"
      ]
     },
     "execution_count": 8,
     "metadata": {},
     "output_type": "execute_result"
    }
   ],
   "source": [
    "diabetes= pd.read_csv(filepath) \n",
    "diabetes"
   ]
  },
  {
   "cell_type": "code",
   "execution_count": 9,
   "id": "534df29c",
   "metadata": {
    "execution": {
     "iopub.execute_input": "2022-09-22T15:02:02.382125Z",
     "iopub.status.busy": "2022-09-22T15:02:02.381761Z",
     "iopub.status.idle": "2022-09-22T15:02:02.749494Z",
     "shell.execute_reply": "2022-09-22T15:02:02.748581Z"
    },
    "papermill": {
     "duration": 0.374303,
     "end_time": "2022-09-22T15:02:02.751325",
     "exception": false,
     "start_time": "2022-09-22T15:02:02.377022",
     "status": "completed"
    },
    "tags": []
   },
   "outputs": [
    {
     "data": {
      "image/png": "[encoded data removed]",
      "text/plain": [
       "<Figure size 432x288 with 1 Axes>"
      ]
     },
     "metadata": {
      "needs_background": "light"
     },
     "output_type": "display_data"
    }
   ],
   "source": [
    "sns_plot=sns.regplot(\n",
    "    x=\"DiabetesPedigreeFunction\", \n",
    "    y = \"Outcome\", \n",
    "    y_jitter = 0.03,\n",
    "    data = diabetes,\n",
    "    logistic =True,\n",
    "    ci = None\n",
    ")\n",
    "\n",
    "fig = sns_plot.get_figure()\n",
    "fig.savefig(\"output.png\",bbox_inches =\"tight\", \n",
    "            pad_inches = 1, \n",
    "            transparent = True, \n",
    "            facecolor =\"w\", \n",
    "            edgecolor ='w', \n",
    "            orientation ='landscape')"
   ]
  }
 ],
 "metadata": {
  "kernelspec": {
   "display_name": "Python 3",
   "language": "python",
   "name": "python3"
  },
  "language_info": {
   "codemirror_mode": {
    "name": "ipython",
    "version": 3
   },
   "file_extension": ".py",
   "mimetype": "text/x-python",
   "name": "python",
   "nbconvert_exporter": "python",
   "pygments_lexer": "ipython3",
   "version": "3.7.12"
  },
  "papermill": {
   "default_parameters": {},
   "duration": 11.06502,
   "end_time": "2022-09-22T15:02:03.575726",
   "environment_variables": {},
   "exception": null,
   "input_path": "__notebook__.ipynb",
   "output_path": "__notebook__.ipynb",
   "parameters": {},
   "start_time": "2022-09-22T15:01:52.510706",
   "version": "2.3.4"
  }
 },
 "nbformat": 4,
 "nbformat_minor": 5
}
