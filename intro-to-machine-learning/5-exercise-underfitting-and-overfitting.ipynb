{
 "cells": [
  {
   "cell_type": "markdown",
   "id": "65ab17a7",
   "metadata": {
    "papermill": {
     "duration": 0.006144,
     "end_time": "2022-09-02T01:33:35.151112",
     "exception": false,
     "start_time": "2022-09-02T01:33:35.144968",
     "status": "completed"
    },
    "tags": []
   },
   "source": [
    "**This notebook is an exercise in the [Introduction to Machine Learning](https://www.kaggle.com/learn/intro-to-machine-learning) course.  You can reference the tutorial at [this link](https://www.kaggle.com/dansbecker/underfitting-and-overfitting).**\n",
    "\n",
    "---\n"
   ]
  },
  {
   "cell_type": "markdown",
   "id": "6d6af31d",
   "metadata": {
    "papermill": {
     "duration": 0.004612,
     "end_time": "2022-09-02T01:33:35.160014",
     "exception": false,
     "start_time": "2022-09-02T01:33:35.155402",
     "status": "completed"
    },
    "tags": []
   },
   "source": [
    "## Recap\n",
    "You've built your first model, and now it's time to optimize the size of the tree to make better predictions. Run this cell to set up your coding environment where the previous step left off."
   ]
  },
  {
   "cell_type": "code",
   "execution_count": 1,
   "id": "66fd6cf4",
   "metadata": {
    "execution": {
     "iopub.execute_input": "2022-09-02T01:33:35.171156Z",
     "iopub.status.busy": "2022-09-02T01:33:35.170727Z",
     "iopub.status.idle": "2022-09-02T01:33:36.530253Z",
     "shell.execute_reply": "2022-09-02T01:33:36.529098Z"
    },
    "papermill": {
     "duration": 1.368828,
     "end_time": "2022-09-02T01:33:36.533383",
     "exception": false,
     "start_time": "2022-09-02T01:33:35.164555",
     "status": "completed"
    },
    "tags": []
   },
   "outputs": [
    {
     "name": "stdout",
     "output_type": "stream",
     "text": [
      "Validation MAE: 29,653\n",
      "\n",
      "Setup complete\n"
     ]
    }
   ],
   "source": [
    "# Code you have previously used to load data\n",
    "import pandas as pd\n",
    "from sklearn.metrics import mean_absolute_error\n",
    "from sklearn.model_selection import train_test_split\n",
    "from sklearn.tree import DecisionTreeRegressor\n",
    "\n",
    "\n",
    "# Path of the file to read\n",
    "iowa_file_path = '../input/home-data-for-ml-course/train.csv'\n",
    "\n",
    "home_data = pd.read_csv(iowa_file_path)\n",
    "# Create target object and call it y\n",
    "y = home_data.SalePrice\n",
    "# Create X\n",
    "features = ['LotArea', 'YearBuilt', '1stFlrSF', '2ndFlrSF', 'FullBath', 'BedroomAbvGr', 'TotRmsAbvGrd']\n",
    "X = home_data[features]\n",
    "\n",
    "# Split into validation and training data\n",
    "train_X, val_X, train_y, val_y = train_test_split(X, y, random_state=1)\n",
    "\n",
    "# Specify Model\n",
    "iowa_model = DecisionTreeRegressor(random_state=1)\n",
    "# Fit Model\n",
    "iowa_model.fit(train_X, train_y)\n",
    "\n",
    "# Make validation predictions and calculate mean absolute error\n",
    "val_predictions = iowa_model.predict(val_X)\n",
    "val_mae = mean_absolute_error(val_predictions, val_y)\n",
    "print(\"Validation MAE: {:,.0f}\".format(val_mae))\n",
    "\n",
    "# Set up code checking\n",
    "from learntools.core import binder\n",
    "binder.bind(globals())\n",
    "from learntools.machine_learning.ex5 import *\n",
    "print(\"\\nSetup complete\")"
   ]
  },
  {
   "cell_type": "markdown",
   "id": "a840dd14",
   "metadata": {
    "papermill": {
     "duration": 0.003184,
     "end_time": "2022-09-02T01:33:36.540542",
     "exception": false,
     "start_time": "2022-09-02T01:33:36.537358",
     "status": "completed"
    },
    "tags": []
   },
   "source": [
    "# Exercises\n",
    "You could write the function `get_mae` yourself. For now, we'll supply it. This is the same function you read about in the previous lesson. Just run the cell below."
   ]
  },
  {
   "cell_type": "code",
   "execution_count": 2,
   "id": "125c89dc",
   "metadata": {
    "execution": {
     "iopub.execute_input": "2022-09-02T01:33:36.548865Z",
     "iopub.status.busy": "2022-09-02T01:33:36.548482Z",
     "iopub.status.idle": "2022-09-02T01:33:36.554074Z",
     "shell.execute_reply": "2022-09-02T01:33:36.553016Z"
    },
    "papermill": {
     "duration": 0.012427,
     "end_time": "2022-09-02T01:33:36.556310",
     "exception": false,
     "start_time": "2022-09-02T01:33:36.543883",
     "status": "completed"
    },
    "tags": []
   },
   "outputs": [],
   "source": [
    "def get_mae(max_leaf_nodes, train_X, val_X, train_y, val_y):\n",
    "    model = DecisionTreeRegressor(max_leaf_nodes=max_leaf_nodes, random_state=0)\n",
    "    model.fit(train_X, train_y)\n",
    "    preds_val = model.predict(val_X)\n",
    "    mae = mean_absolute_error(val_y, preds_val)\n",
    "    return(mae)"
   ]
  },
  {
   "cell_type": "markdown",
   "id": "12c0e7d4",
   "metadata": {
    "papermill": {
     "duration": 0.003216,
     "end_time": "2022-09-02T01:33:36.562931",
     "exception": false,
     "start_time": "2022-09-02T01:33:36.559715",
     "status": "completed"
    },
    "tags": []
   },
   "source": [
    "## Step 1: Compare Different Tree Sizes\n",
    "Write a loop that tries the following values for *max_leaf_nodes* from a set of possible values.\n",
    "\n",
    "Call the *get_mae* function on each value of max_leaf_nodes. Store the output in some way that allows you to select the value of `max_leaf_nodes` that gives the most accurate model on your data."
   ]
  },
  {
   "cell_type": "code",
   "execution_count": 3,
   "id": "26a66c0e",
   "metadata": {
    "execution": {
     "iopub.execute_input": "2022-09-02T01:33:36.571401Z",
     "iopub.status.busy": "2022-09-02T01:33:36.570726Z",
     "iopub.status.idle": "2022-09-02T01:33:36.624266Z",
     "shell.execute_reply": "2022-09-02T01:33:36.623211Z"
    },
    "papermill": {
     "duration": 0.060318,
     "end_time": "2022-09-02T01:33:36.626623",
     "exception": false,
     "start_time": "2022-09-02T01:33:36.566305",
     "status": "completed"
    },
    "tags": []
   },
   "outputs": [
    {
     "name": "stdout",
     "output_type": "stream",
     "text": [
      "Candidate =  5 Error =  35044.51299744237 Best Error =  35044.51299744237\n",
      "Candidate =  25 Error =  29016.41319191076 Best Error =  29016.41319191076\n",
      "Candidate =  50 Error =  27405.930473214907 Best Error =  27405.930473214907\n",
      "Candidate =  100 Error =  27282.50803885739 Best Error =  27282.50803885739\n",
      "Candidate =  250 Error =  27893.822225701646 Best Error =  27282.50803885739\n",
      "Candidate =  500 Error =  29454.18598068598 Best Error =  27282.50803885739\n"
     ]
    },
    {
     "data": {
      "application/javascript": [
       "parent.postMessage({\"jupyterEvent\": \"custom.exercise_interaction\", \"data\": {\"outcomeType\": 1, \"valueTowardsCompletion\": 0.5, \"interactionType\": 1, \"questionType\": 1, \"questionId\": \"1_BestTreeSize\", \"learnToolsVersion\": \"0.3.4\", \"failureMessage\": \"\", \"exceptionClass\": \"\", \"trace\": \"\"}}, \"*\")"
      ],
      "text/plain": [
       "<IPython.core.display.Javascript object>"
      ]
     },
     "metadata": {},
     "output_type": "display_data"
    },
    {
     "data": {
      "text/markdown": [
       "<span style=\"color:#33cc33\">Correct</span>"
      ],
      "text/plain": [
       "Correct"
      ]
     },
     "metadata": {},
     "output_type": "display_data"
    }
   ],
   "source": [
    "candidate_max_leaf_nodes = [5, 25, 50, 100, 250, 500]\n",
    "# Write loop to find the ideal tree size from candidate_max_leaf_nodes\n",
    "error = 1e10\n",
    "for candidate in  candidate_max_leaf_nodes:\n",
    "    candidate_error = get_mae(candidate, train_X, val_X, train_y, val_y)\n",
    "    if candidate_error < error:\n",
    "        error = candidate_error\n",
    "        best_tree_size = candidate\n",
    "    print(\"Candidate = \", candidate, \"Error = \", candidate_error, \"Best Error = \", error)\n",
    "\n",
    "\n",
    "# Store the best value of max_leaf_nodes (it will be either 5, 25, 50, 100, 250 or 500)\n",
    "#best_tree_size = ____\n",
    "# Check your answer\n",
    "step_1.check()"
   ]
  },
  {
   "cell_type": "code",
   "execution_count": 4,
   "id": "6deb112c",
   "metadata": {
    "execution": {
     "iopub.execute_input": "2022-09-02T01:33:36.636582Z",
     "iopub.status.busy": "2022-09-02T01:33:36.635478Z",
     "iopub.status.idle": "2022-09-02T01:33:36.639686Z",
     "shell.execute_reply": "2022-09-02T01:33:36.638934Z"
    },
    "papermill": {
     "duration": 0.011136,
     "end_time": "2022-09-02T01:33:36.641605",
     "exception": false,
     "start_time": "2022-09-02T01:33:36.630469",
     "status": "completed"
    },
    "tags": []
   },
   "outputs": [],
   "source": [
    "# The lines below will show you a hint or the solution.\n",
    "# step_1.hint() \n",
    "# step_1.solution()"
   ]
  },
  {
   "cell_type": "markdown",
   "id": "06563453",
   "metadata": {
    "papermill": {
     "duration": 0.003827,
     "end_time": "2022-09-02T01:33:36.649286",
     "exception": false,
     "start_time": "2022-09-02T01:33:36.645459",
     "status": "completed"
    },
    "tags": []
   },
   "source": [
    "## Step 2: Fit Model Using All Data\n",
    "You know the best tree size. If you were going to deploy this model in practice, you would make it even more accurate by using all of the data and keeping that tree size.  That is, you don't need to hold out the validation data now that you've made all your modeling decisions."
   ]
  },
  {
   "cell_type": "code",
   "execution_count": 5,
   "id": "ff992f83",
   "metadata": {
    "execution": {
     "iopub.execute_input": "2022-09-02T01:33:36.658826Z",
     "iopub.status.busy": "2022-09-02T01:33:36.658433Z",
     "iopub.status.idle": "2022-09-02T01:33:36.675724Z",
     "shell.execute_reply": "2022-09-02T01:33:36.674621Z"
    },
    "papermill": {
     "duration": 0.024745,
     "end_time": "2022-09-02T01:33:36.678121",
     "exception": false,
     "start_time": "2022-09-02T01:33:36.653376",
     "status": "completed"
    },
    "tags": []
   },
   "outputs": [
    {
     "data": {
      "application/javascript": [
       "parent.postMessage({\"jupyterEvent\": \"custom.exercise_interaction\", \"data\": {\"outcomeType\": 1, \"valueTowardsCompletion\": 0.5, \"interactionType\": 1, \"questionType\": 2, \"questionId\": \"2_FitModelWithAllData\", \"learnToolsVersion\": \"0.3.4\", \"failureMessage\": \"\", \"exceptionClass\": \"\", \"trace\": \"\"}}, \"*\")"
      ],
      "text/plain": [
       "<IPython.core.display.Javascript object>"
      ]
     },
     "metadata": {},
     "output_type": "display_data"
    },
    {
     "data": {
      "text/markdown": [
       "<span style=\"color:#33cc33\">Correct</span>"
      ],
      "text/plain": [
       "Correct"
      ]
     },
     "metadata": {},
     "output_type": "display_data"
    }
   ],
   "source": [
    "# Fill in argument to make optimal size and uncomment\n",
    "final_model = DecisionTreeRegressor(max_leaf_nodes=100, random_state=0)\n",
    "\n",
    "# fit the final model and uncomment the next two lines\n",
    "final_model.fit(X, y)\n",
    "\n",
    "# Check your answer\n",
    "step_2.check()"
   ]
  },
  {
   "cell_type": "code",
   "execution_count": 6,
   "id": "ed747cf2",
   "metadata": {
    "execution": {
     "iopub.execute_input": "2022-09-02T01:33:36.688284Z",
     "iopub.status.busy": "2022-09-02T01:33:36.687624Z",
     "iopub.status.idle": "2022-09-02T01:33:36.692857Z",
     "shell.execute_reply": "2022-09-02T01:33:36.691638Z"
    },
    "papermill": {
     "duration": 0.012876,
     "end_time": "2022-09-02T01:33:36.695262",
     "exception": false,
     "start_time": "2022-09-02T01:33:36.682386",
     "status": "completed"
    },
    "tags": []
   },
   "outputs": [],
   "source": [
    "# step_2.hint()\n",
    "# step_2.solution()"
   ]
  },
  {
   "cell_type": "markdown",
   "id": "74317a00",
   "metadata": {
    "papermill": {
     "duration": 0.003673,
     "end_time": "2022-09-02T01:33:36.703171",
     "exception": false,
     "start_time": "2022-09-02T01:33:36.699498",
     "status": "completed"
    },
    "tags": []
   },
   "source": [
    "You've tuned this model and improved your results. But we are still using Decision Tree models, which are not very sophisticated by modern machine learning standards. In the next step you will learn to use Random Forests to improve your models even more.\n",
    "\n",
    "# Keep Going\n",
    "\n",
    "You are ready for **[Random Forests](https://www.kaggle.com/dansbecker/random-forests).**\n"
   ]
  },
  {
   "cell_type": "markdown",
   "id": "6b31de5a",
   "metadata": {
    "papermill": {
     "duration": 0.003616,
     "end_time": "2022-09-02T01:33:36.710604",
     "exception": false,
     "start_time": "2022-09-02T01:33:36.706988",
     "status": "completed"
    },
    "tags": []
   },
   "source": [
    "---\n",
    "\n",
    "\n",
    "\n",
    "\n",
    "*Have questions or comments? Visit the [course discussion forum](https://www.kaggle.com/learn/intro-to-machine-learning/discussion) to chat with other learners.*"
   ]
  }
 ],
 "metadata": {
  "kernelspec": {
   "display_name": "Python 3",
   "language": "python",
   "name": "python3"
  },
  "language_info": {
   "codemirror_mode": {
    "name": "ipython",
    "version": 3
   },
   "file_extension": ".py",
   "mimetype": "text/x-python",
   "name": "python",
   "nbconvert_exporter": "python",
   "pygments_lexer": "ipython3",
   "version": "3.7.12"
  },
  "papermill": {
   "default_parameters": {},
   "duration": 11.272139,
   "end_time": "2022-09-02T01:33:37.435315",
   "environment_variables": {},
   "exception": null,
   "input_path": "__notebook__.ipynb",
   "output_path": "__notebook__.ipynb",
   "parameters": {},
   "start_time": "2022-09-02T01:33:26.163176",
   "version": "2.3.4"
  }
 },
 "nbformat": 4,
 "nbformat_minor": 5
}
