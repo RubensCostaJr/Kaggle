{
 "cells": [
  {
   "cell_type": "markdown",
   "id": "b4ba76a4",
   "metadata": {
    "papermill": {
     "duration": 0.010975,
     "end_time": "2022-09-02T00:25:38.704658",
     "exception": false,
     "start_time": "2022-09-02T00:25:38.693683",
     "status": "completed"
    },
    "tags": []
   },
   "source": [
    "**This notebook is an exercise in the [Python](https://www.kaggle.com/learn/python) course.  You can reference the tutorial at [this link](https://www.kaggle.com/colinmorris/booleans-and-conditionals).**\n",
    "\n",
    "---\n"
   ]
  },
  {
   "cell_type": "markdown",
   "id": "e991f2c9",
   "metadata": {
    "papermill": {
     "duration": 0.008827,
     "end_time": "2022-09-02T00:25:38.722814",
     "exception": false,
     "start_time": "2022-09-02T00:25:38.713987",
     "status": "completed"
    },
    "tags": []
   },
   "source": [
    "In this exercise, you'll put to work what you have learned about booleans and conditionals.\n",
    "\n",
    "To get started, **run the setup code below** before writing your own code (and if you leave this notebook and come back later, don't forget to run the setup code again)."
   ]
  },
  {
   "cell_type": "code",
   "execution_count": 1,
   "id": "de41f032",
   "metadata": {
    "execution": {
     "iopub.execute_input": "2022-09-02T00:25:38.743163Z",
     "iopub.status.busy": "2022-09-02T00:25:38.742722Z",
     "iopub.status.idle": "2022-09-02T00:25:38.803896Z",
     "shell.execute_reply": "2022-09-02T00:25:38.802936Z"
    },
    "papermill": {
     "duration": 0.075555,
     "end_time": "2022-09-02T00:25:38.807549",
     "exception": false,
     "start_time": "2022-09-02T00:25:38.731994",
     "status": "completed"
    },
    "tags": []
   },
   "outputs": [
    {
     "name": "stdout",
     "output_type": "stream",
     "text": [
      "Setup complete.\n"
     ]
    }
   ],
   "source": [
    "from learntools.core import binder; binder.bind(globals())\n",
    "from learntools.python.ex3 import *\n",
    "print('Setup complete.')"
   ]
  },
  {
   "cell_type": "markdown",
   "id": "452d8641",
   "metadata": {
    "papermill": {
     "duration": 0.008983,
     "end_time": "2022-09-02T00:25:38.827243",
     "exception": false,
     "start_time": "2022-09-02T00:25:38.818260",
     "status": "completed"
    },
    "tags": []
   },
   "source": [
    "# 1.\n",
    "\n",
    "Many programming languages have [`sign`](https://en.wikipedia.org/wiki/Sign_function) available as a built-in function. Python doesn't, but we can define our own!\n",
    "\n",
    "In the cell below, define a function called `sign` which takes a numerical argument and returns -1 if it's negative, 1 if it's positive, and 0 if it's 0."
   ]
  },
  {
   "cell_type": "code",
   "execution_count": 2,
   "id": "6093e988",
   "metadata": {
    "execution": {
     "iopub.execute_input": "2022-09-02T00:25:38.848556Z",
     "iopub.status.busy": "2022-09-02T00:25:38.848158Z",
     "iopub.status.idle": "2022-09-02T00:25:38.861336Z",
     "shell.execute_reply": "2022-09-02T00:25:38.859895Z"
    },
    "papermill": {
     "duration": 0.026782,
     "end_time": "2022-09-02T00:25:38.863743",
     "exception": false,
     "start_time": "2022-09-02T00:25:38.836961",
     "status": "completed"
    },
    "tags": []
   },
   "outputs": [
    {
     "data": {
      "application/javascript": [
       "parent.postMessage({\"jupyterEvent\": \"custom.exercise_interaction\", \"data\": {\"outcomeType\": 1, \"valueTowardsCompletion\": 0.2, \"interactionType\": 1, \"questionType\": 2, \"questionId\": \"1_SignFunctionProblem\", \"learnToolsVersion\": \"0.3.4\", \"failureMessage\": \"\", \"exceptionClass\": \"\", \"trace\": \"\"}}, \"*\")"
      ],
      "text/plain": [
       "<IPython.core.display.Javascript object>"
      ]
     },
     "metadata": {},
     "output_type": "display_data"
    },
    {
     "data": {
      "text/markdown": [
       "<span style=\"color:#33cc33\">Correct</span>"
      ],
      "text/plain": [
       "Correct"
      ]
     },
     "metadata": {},
     "output_type": "display_data"
    }
   ],
   "source": [
    "# Your code goes here. Define a function called 'sign'\n",
    "def sign(x):\n",
    "    if x > 0:\n",
    "        return 1\n",
    "    elif x< 0:\n",
    "        return -1\n",
    "    else:\n",
    "        return 0\n",
    "# Check your answer\n",
    "q1.check()"
   ]
  },
  {
   "cell_type": "code",
   "execution_count": 3,
   "id": "6a18cbd5",
   "metadata": {
    "execution": {
     "iopub.execute_input": "2022-09-02T00:25:38.885276Z",
     "iopub.status.busy": "2022-09-02T00:25:38.884898Z",
     "iopub.status.idle": "2022-09-02T00:25:38.889539Z",
     "shell.execute_reply": "2022-09-02T00:25:38.888237Z"
    },
    "papermill": {
     "duration": 0.018934,
     "end_time": "2022-09-02T00:25:38.892107",
     "exception": false,
     "start_time": "2022-09-02T00:25:38.873173",
     "status": "completed"
    },
    "tags": []
   },
   "outputs": [],
   "source": [
    "# q1.solution()"
   ]
  },
  {
   "cell_type": "markdown",
   "id": "333297c8",
   "metadata": {
    "papermill": {
     "duration": 0.009031,
     "end_time": "2022-09-02T00:25:38.911968",
     "exception": false,
     "start_time": "2022-09-02T00:25:38.902937",
     "status": "completed"
    },
    "tags": []
   },
   "source": [
    "# 2.\n",
    "\n",
    "We've decided to add \"logging\" to our `to_smash` function from the previous exercise."
   ]
  },
  {
   "cell_type": "code",
   "execution_count": 4,
   "id": "95ada999",
   "metadata": {
    "execution": {
     "iopub.execute_input": "2022-09-02T00:25:38.932589Z",
     "iopub.status.busy": "2022-09-02T00:25:38.932175Z",
     "iopub.status.idle": "2022-09-02T00:25:38.941972Z",
     "shell.execute_reply": "2022-09-02T00:25:38.940775Z"
    },
    "papermill": {
     "duration": 0.023498,
     "end_time": "2022-09-02T00:25:38.944907",
     "exception": false,
     "start_time": "2022-09-02T00:25:38.921409",
     "status": "completed"
    },
    "tags": []
   },
   "outputs": [
    {
     "name": "stdout",
     "output_type": "stream",
     "text": [
      "Splitting 91 candies\n"
     ]
    },
    {
     "data": {
      "text/plain": [
       "1"
      ]
     },
     "execution_count": 4,
     "metadata": {},
     "output_type": "execute_result"
    }
   ],
   "source": [
    "def to_smash(total_candies):\n",
    "    \"\"\"Return the number of leftover candies that must be smashed after distributing\n",
    "    the given number of candies evenly between 3 friends.\n",
    "    \n",
    "    >>> to_smash(91)\n",
    "    1\n",
    "    \"\"\"\n",
    "    print(\"Splitting\", total_candies, \"candies\")\n",
    "    return total_candies % 3\n",
    "\n",
    "to_smash(91)"
   ]
  },
  {
   "cell_type": "markdown",
   "id": "7e2d4df8",
   "metadata": {
    "papermill": {
     "duration": 0.009191,
     "end_time": "2022-09-02T00:25:38.963793",
     "exception": false,
     "start_time": "2022-09-02T00:25:38.954602",
     "status": "completed"
    },
    "tags": []
   },
   "source": [
    "What happens if we call it with `total_candies = 1`?"
   ]
  },
  {
   "cell_type": "code",
   "execution_count": 5,
   "id": "31a2a861",
   "metadata": {
    "execution": {
     "iopub.execute_input": "2022-09-02T00:25:38.985324Z",
     "iopub.status.busy": "2022-09-02T00:25:38.984934Z",
     "iopub.status.idle": "2022-09-02T00:25:38.993803Z",
     "shell.execute_reply": "2022-09-02T00:25:38.991384Z"
    },
    "papermill": {
     "duration": 0.022937,
     "end_time": "2022-09-02T00:25:38.996643",
     "exception": false,
     "start_time": "2022-09-02T00:25:38.973706",
     "status": "completed"
    },
    "tags": []
   },
   "outputs": [
    {
     "name": "stdout",
     "output_type": "stream",
     "text": [
      "Splitting 1 candies\n"
     ]
    },
    {
     "data": {
      "text/plain": [
       "1"
      ]
     },
     "execution_count": 5,
     "metadata": {},
     "output_type": "execute_result"
    }
   ],
   "source": [
    "to_smash(1)"
   ]
  },
  {
   "cell_type": "markdown",
   "id": "70b962f2",
   "metadata": {
    "papermill": {
     "duration": 0.009317,
     "end_time": "2022-09-02T00:25:39.016209",
     "exception": false,
     "start_time": "2022-09-02T00:25:39.006892",
     "status": "completed"
    },
    "tags": []
   },
   "source": [
    "That isn't great grammar!\n",
    "\n",
    "Modify the definition in the cell below to correct the grammar of our print statement. (If there's only one candy, we should use the singular \"candy\" instead of the plural \"candies\")"
   ]
  },
  {
   "cell_type": "code",
   "execution_count": 6,
   "id": "8ada3cd4",
   "metadata": {
    "execution": {
     "iopub.execute_input": "2022-09-02T00:25:39.037609Z",
     "iopub.status.busy": "2022-09-02T00:25:39.037189Z",
     "iopub.status.idle": "2022-09-02T00:25:39.049414Z",
     "shell.execute_reply": "2022-09-02T00:25:39.047784Z"
    },
    "papermill": {
     "duration": 0.02636,
     "end_time": "2022-09-02T00:25:39.052337",
     "exception": false,
     "start_time": "2022-09-02T00:25:39.025977",
     "status": "completed"
    },
    "tags": []
   },
   "outputs": [
    {
     "name": "stdout",
     "output_type": "stream",
     "text": [
      "Splitting 91 candies\n",
      "Splitting 1 candie\n"
     ]
    },
    {
     "data": {
      "application/javascript": [
       "parent.postMessage({\"jupyterEvent\": \"custom.exercise_interaction\", \"data\": {\"outcomeType\": 1, \"valueTowardsCompletion\": 0.2, \"interactionType\": 1, \"questionType\": 4, \"questionId\": \"2_PluralizationProblem\", \"learnToolsVersion\": \"0.3.4\", \"failureMessage\": \"\", \"exceptionClass\": \"\", \"trace\": \"\"}}, \"*\")"
      ],
      "text/plain": [
       "<IPython.core.display.Javascript object>"
      ]
     },
     "metadata": {},
     "output_type": "display_data"
    },
    {
     "data": {
      "text/markdown": [
       "<span style=\"color:#33cc33\">Correct:</span> \n",
       "\n",
       "A straightforward (and totally fine) solution is to replace the original `print` call with:\n",
       "\n",
       "```python\n",
       "if total_candies == 1:\n",
       "    print(\"Splitting 1 candy\")\n",
       "else:\n",
       "    print(\"Splitting\", total_candies, \"candies\")\n",
       "```\n",
       "\n",
       "Here's a slightly more succinct solution using a conditional expression:\n",
       "\n",
       "```python\n",
       "print(\"Splitting\", total_candies, \"candy\" if total_candies == 1 else \"candies\")\n",
       "```"
      ],
      "text/plain": [
       "Correct: \n",
       "\n",
       "A straightforward (and totally fine) solution is to replace the original `print` call with:\n",
       "\n",
       "```python\n",
       "if total_candies == 1:\n",
       "    print(\"Splitting 1 candy\")\n",
       "else:\n",
       "    print(\"Splitting\", total_candies, \"candies\")\n",
       "```\n",
       "\n",
       "Here's a slightly more succinct solution using a conditional expression:\n",
       "\n",
       "```python\n",
       "print(\"Splitting\", total_candies, \"candy\" if total_candies == 1 else \"candies\")\n",
       "```"
      ]
     },
     "metadata": {},
     "output_type": "display_data"
    }
   ],
   "source": [
    "def to_smash(total_candies):\n",
    "    \"\"\"Return the number of leftover candies that must be smashed after distributing\n",
    "    the given number of candies evenly between 3 friends.\n",
    "    \n",
    "    >>> to_smash(91)\n",
    "    1\n",
    "    \"\"\"\n",
    "    if total_candies == 1:\n",
    "        print(\"Splitting\", total_candies, \"candie\")\n",
    "    else:\n",
    "        print(\"Splitting\", total_candies, \"candies\")\n",
    "    return total_candies % 3\n",
    "\n",
    "to_smash(91)\n",
    "to_smash(1)\n",
    "\n",
    "q2.check()"
   ]
  },
  {
   "cell_type": "markdown",
   "id": "ee0b45b5",
   "metadata": {
    "papermill": {
     "duration": 0.009885,
     "end_time": "2022-09-02T00:25:39.072780",
     "exception": false,
     "start_time": "2022-09-02T00:25:39.062895",
     "status": "completed"
    },
    "tags": []
   },
   "source": [
    "To get credit for completing this problem, and to see the official answer, run the code cell below."
   ]
  },
  {
   "cell_type": "code",
   "execution_count": 7,
   "id": "30dd13f7",
   "metadata": {
    "execution": {
     "iopub.execute_input": "2022-09-02T00:25:39.095041Z",
     "iopub.status.busy": "2022-09-02T00:25:39.094614Z",
     "iopub.status.idle": "2022-09-02T00:25:39.100072Z",
     "shell.execute_reply": "2022-09-02T00:25:39.098664Z"
    },
    "papermill": {
     "duration": 0.019729,
     "end_time": "2022-09-02T00:25:39.102922",
     "exception": false,
     "start_time": "2022-09-02T00:25:39.083193",
     "status": "completed"
    },
    "tags": []
   },
   "outputs": [],
   "source": [
    "# Check your answer (Run this code cell to receive credit!)\n",
    "# q2.solution()"
   ]
  },
  {
   "cell_type": "markdown",
   "id": "c1bba0a9",
   "metadata": {
    "papermill": {
     "duration": 0.009925,
     "end_time": "2022-09-02T00:25:39.123204",
     "exception": false,
     "start_time": "2022-09-02T00:25:39.113279",
     "status": "completed"
    },
    "tags": []
   },
   "source": [
    "# 3. <span title=\"A bit spicy\" style=\"color: darkgreen \">🌶️</span>\n",
    "\n",
    "In the tutorial, we talked about deciding whether we're prepared for the weather. I said that I'm safe from today's weather if...\n",
    "- I have an umbrella...\n",
    "- or if the rain isn't too heavy and I have a hood...\n",
    "- otherwise, I'm still fine unless it's raining *and* it's a workday\n",
    "\n",
    "The function below uses our first attempt at turning this logic into a Python expression. I claimed that there was a bug in that code. Can you find it?\n",
    "\n",
    "To prove that `prepared_for_weather` is buggy, come up with a set of inputs where either:\n",
    "- the function returns `False` (but should have returned `True`), or\n",
    "- the function returned `True` (but should have returned `False`).\n",
    "\n",
    "To get credit for completing this question, your code should return a <font color='#33cc33'>Correct</font> result."
   ]
  },
  {
   "cell_type": "code",
   "execution_count": 8,
   "id": "65488d52",
   "metadata": {
    "execution": {
     "iopub.execute_input": "2022-09-02T00:25:39.146046Z",
     "iopub.status.busy": "2022-09-02T00:25:39.144853Z",
     "iopub.status.idle": "2022-09-02T00:25:39.158477Z",
     "shell.execute_reply": "2022-09-02T00:25:39.156917Z"
    },
    "papermill": {
     "duration": 0.027614,
     "end_time": "2022-09-02T00:25:39.160937",
     "exception": false,
     "start_time": "2022-09-02T00:25:39.133323",
     "status": "completed"
    },
    "tags": []
   },
   "outputs": [
    {
     "name": "stdout",
     "output_type": "stream",
     "text": [
      "False\n"
     ]
    },
    {
     "data": {
      "application/javascript": [
       "parent.postMessage({\"jupyterEvent\": \"custom.exercise_interaction\", \"data\": {\"outcomeType\": 1, \"valueTowardsCompletion\": 0.2, \"interactionType\": 1, \"questionType\": 1, \"questionId\": \"3_WeatherDebug\", \"learnToolsVersion\": \"0.3.4\", \"failureMessage\": \"\", \"exceptionClass\": \"\", \"trace\": \"\"}}, \"*\")"
      ],
      "text/plain": [
       "<IPython.core.display.Javascript object>"
      ]
     },
     "metadata": {},
     "output_type": "display_data"
    },
    {
     "data": {
      "text/markdown": [
       "<span style=\"color:#33cc33\">Correct:</span> \n",
       "\n",
       "One example of a failing test case is:\n",
       "\n",
       "```python\n",
       "have_umbrella = False\n",
       "rain_level = 0.0\n",
       "have_hood = False\n",
       "is_workday = False\n",
       "```\n",
       "\n",
       "Clearly we're prepared for the weather in this case. It's not raining. Not only that, it's not a workday, so we don't even need to leave the house! But our function will return False on these inputs.\n",
       "\n",
       "The key problem is that Python implictly parenthesizes the last part as:\n",
       "\n",
       "```python\n",
       "(not (rain_level > 0)) and is_workday\n",
       "```\n",
       "\n",
       "Whereas what we were trying to express would look more like:\n",
       "\n",
       "```python\n",
       "not (rain_level > 0 and is_workday)\n",
       "```\n"
      ],
      "text/plain": [
       "Correct: \n",
       "\n",
       "One example of a failing test case is:\n",
       "\n",
       "```python\n",
       "have_umbrella = False\n",
       "rain_level = 0.0\n",
       "have_hood = False\n",
       "is_workday = False\n",
       "```\n",
       "\n",
       "Clearly we're prepared for the weather in this case. It's not raining. Not only that, it's not a workday, so we don't even need to leave the house! But our function will return False on these inputs.\n",
       "\n",
       "The key problem is that Python implictly parenthesizes the last part as:\n",
       "\n",
       "```python\n",
       "(not (rain_level > 0)) and is_workday\n",
       "```\n",
       "\n",
       "Whereas what we were trying to express would look more like:\n",
       "\n",
       "```python\n",
       "not (rain_level > 0 and is_workday)\n",
       "```"
      ]
     },
     "metadata": {},
     "output_type": "display_data"
    }
   ],
   "source": [
    "def prepared_for_weather(have_umbrella, rain_level, have_hood, is_workday):\n",
    "    # Don't change this code. Our goal is just to find the bug, not fix it!\n",
    "    return have_umbrella or rain_level < 5 and have_hood or not rain_level > 0 and is_workday\n",
    "    \"\"\"prepared_for_weather = have_umbrella or \n",
    "    ((rain_level < 5) and have_hood) or \n",
    "    (not (rain_level > 0 and is_workday))\n",
    "    \"\"\"\n",
    "# Change the values of these inputs so they represent a case where prepared_for_weather\n",
    "# returns the wrong answer.\n",
    "have_umbrella = False\n",
    "rain_level = 0.0\n",
    "have_hood = False\n",
    "is_workday = False\n",
    "\n",
    "# Check what the function returns given the current values of the variables above\n",
    "actual = prepared_for_weather(have_umbrella, rain_level, have_hood, is_workday)\n",
    "print(actual)\n",
    "\n",
    "# Check your answer\n",
    "q3.check()"
   ]
  },
  {
   "cell_type": "code",
   "execution_count": 9,
   "id": "c1546eec",
   "metadata": {
    "execution": {
     "iopub.execute_input": "2022-09-02T00:25:39.184154Z",
     "iopub.status.busy": "2022-09-02T00:25:39.183725Z",
     "iopub.status.idle": "2022-09-02T00:25:39.188780Z",
     "shell.execute_reply": "2022-09-02T00:25:39.187476Z"
    },
    "papermill": {
     "duration": 0.019592,
     "end_time": "2022-09-02T00:25:39.191128",
     "exception": false,
     "start_time": "2022-09-02T00:25:39.171536",
     "status": "completed"
    },
    "tags": []
   },
   "outputs": [],
   "source": [
    "# q3.hint()\n",
    "# q3.solution()"
   ]
  },
  {
   "cell_type": "markdown",
   "id": "348f7635",
   "metadata": {
    "papermill": {
     "duration": 0.009933,
     "end_time": "2022-09-02T00:25:39.211704",
     "exception": false,
     "start_time": "2022-09-02T00:25:39.201771",
     "status": "completed"
    },
    "tags": []
   },
   "source": [
    "# 4.\n",
    "\n",
    "The function `is_negative` below is implemented correctly - it returns True if the given number is negative and False otherwise.\n",
    "\n",
    "However, it's more verbose than it needs to be. We can actually reduce the number of lines of code in this function by *75%* while keeping the same behaviour. \n",
    "\n",
    "See if you can come up with an equivalent body that uses just **one line** of code, and put it in the function `concise_is_negative`. (HINT: you don't even need Python's ternary syntax)"
   ]
  },
  {
   "cell_type": "code",
   "execution_count": 10,
   "id": "4eabb0c5",
   "metadata": {
    "execution": {
     "iopub.execute_input": "2022-09-02T00:25:39.235036Z",
     "iopub.status.busy": "2022-09-02T00:25:39.234534Z",
     "iopub.status.idle": "2022-09-02T00:25:39.245401Z",
     "shell.execute_reply": "2022-09-02T00:25:39.244244Z"
    },
    "papermill": {
     "duration": 0.025566,
     "end_time": "2022-09-02T00:25:39.247760",
     "exception": false,
     "start_time": "2022-09-02T00:25:39.222194",
     "status": "completed"
    },
    "tags": []
   },
   "outputs": [
    {
     "data": {
      "application/javascript": [
       "parent.postMessage({\"jupyterEvent\": \"custom.exercise_interaction\", \"data\": {\"outcomeType\": 1, \"valueTowardsCompletion\": 0.2, \"interactionType\": 1, \"questionType\": 2, \"questionId\": \"4_ConciseIsNegative\", \"learnToolsVersion\": \"0.3.4\", \"failureMessage\": \"\", \"exceptionClass\": \"\", \"trace\": \"\"}}, \"*\")"
      ],
      "text/plain": [
       "<IPython.core.display.Javascript object>"
      ]
     },
     "metadata": {},
     "output_type": "display_data"
    },
    {
     "data": {
      "text/markdown": [
       "<span style=\"color:#33cc33\">Correct</span>"
      ],
      "text/plain": [
       "Correct"
      ]
     },
     "metadata": {},
     "output_type": "display_data"
    }
   ],
   "source": [
    "def is_negative(number):\n",
    "    if number < 0:\n",
    "        return True\n",
    "    else:\n",
    "        return False\n",
    "\n",
    "def concise_is_negative(number):\n",
    "    return True if number < 0 else False # Your code goes here (try to keep it to one line!)\n",
    "# Check your answer\n",
    "q4.check()"
   ]
  },
  {
   "cell_type": "code",
   "execution_count": 11,
   "id": "76ebe196",
   "metadata": {
    "execution": {
     "iopub.execute_input": "2022-09-02T00:25:39.271949Z",
     "iopub.status.busy": "2022-09-02T00:25:39.271494Z",
     "iopub.status.idle": "2022-09-02T00:25:39.276057Z",
     "shell.execute_reply": "2022-09-02T00:25:39.274842Z"
    },
    "papermill": {
     "duration": 0.019239,
     "end_time": "2022-09-02T00:25:39.278357",
     "exception": false,
     "start_time": "2022-09-02T00:25:39.259118",
     "status": "completed"
    },
    "tags": []
   },
   "outputs": [],
   "source": [
    "#q4.hint()\n",
    "#q4.solution()"
   ]
  },
  {
   "cell_type": "markdown",
   "id": "67cf61b4",
   "metadata": {
    "papermill": {
     "duration": 0.010309,
     "end_time": "2022-09-02T00:25:39.299919",
     "exception": false,
     "start_time": "2022-09-02T00:25:39.289610",
     "status": "completed"
    },
    "tags": []
   },
   "source": [
    "# 5a.\n",
    "\n",
    "The boolean variables `ketchup`, `mustard` and `onion` represent whether a customer wants a particular topping on their hot dog. We want to implement a number of boolean functions that correspond to some yes-or-no questions about the customer's order. For example:"
   ]
  },
  {
   "cell_type": "code",
   "execution_count": 12,
   "id": "05d1e024",
   "metadata": {
    "execution": {
     "iopub.execute_input": "2022-09-02T00:25:39.323280Z",
     "iopub.status.busy": "2022-09-02T00:25:39.322909Z",
     "iopub.status.idle": "2022-09-02T00:25:39.328093Z",
     "shell.execute_reply": "2022-09-02T00:25:39.326899Z"
    },
    "papermill": {
     "duration": 0.019853,
     "end_time": "2022-09-02T00:25:39.330467",
     "exception": false,
     "start_time": "2022-09-02T00:25:39.310614",
     "status": "completed"
    },
    "tags": []
   },
   "outputs": [],
   "source": [
    "def onionless(ketchup, mustard, onion):\n",
    "    \"\"\"Return whether the customer doesn't want onions.\n",
    "    \"\"\"\n",
    "    return not onion"
   ]
  },
  {
   "cell_type": "code",
   "execution_count": 13,
   "id": "113b1ceb",
   "metadata": {
    "execution": {
     "iopub.execute_input": "2022-09-02T00:25:39.354209Z",
     "iopub.status.busy": "2022-09-02T00:25:39.353795Z",
     "iopub.status.idle": "2022-09-02T00:25:39.364249Z",
     "shell.execute_reply": "2022-09-02T00:25:39.363017Z"
    },
    "papermill": {
     "duration": 0.025481,
     "end_time": "2022-09-02T00:25:39.366759",
     "exception": false,
     "start_time": "2022-09-02T00:25:39.341278",
     "status": "completed"
    },
    "tags": []
   },
   "outputs": [
    {
     "data": {
      "application/javascript": [
       "parent.postMessage({\"jupyterEvent\": \"custom.exercise_interaction\", \"data\": {\"outcomeType\": 1, \"valueTowardsCompletion\": 0.2, \"interactionType\": 1, \"questionType\": 2, \"questionId\": \"5.1_AllToppings\", \"learnToolsVersion\": \"0.3.4\", \"failureMessage\": \"\", \"exceptionClass\": \"\", \"trace\": \"\"}}, \"*\")"
      ],
      "text/plain": [
       "<IPython.core.display.Javascript object>"
      ]
     },
     "metadata": {},
     "output_type": "display_data"
    },
    {
     "data": {
      "text/markdown": [
       "<span style=\"color:#33cc33\">Correct</span>"
      ],
      "text/plain": [
       "Correct"
      ]
     },
     "metadata": {},
     "output_type": "display_data"
    }
   ],
   "source": [
    "def wants_all_toppings(ketchup, mustard, onion):\n",
    "    \"\"\"Return whether the customer wants \"the works\" (all 3 toppings)\n",
    "    \"\"\"\n",
    "    return ketchup and mustard and onion\n",
    "\n",
    "# Check your answer\n",
    "q5.a.check()"
   ]
  },
  {
   "cell_type": "code",
   "execution_count": 14,
   "id": "70d6fb25",
   "metadata": {
    "execution": {
     "iopub.execute_input": "2022-09-02T00:25:39.391009Z",
     "iopub.status.busy": "2022-09-02T00:25:39.390090Z",
     "iopub.status.idle": "2022-09-02T00:25:39.395336Z",
     "shell.execute_reply": "2022-09-02T00:25:39.394435Z"
    },
    "papermill": {
     "duration": 0.019894,
     "end_time": "2022-09-02T00:25:39.397724",
     "exception": false,
     "start_time": "2022-09-02T00:25:39.377830",
     "status": "completed"
    },
    "tags": []
   },
   "outputs": [],
   "source": [
    "# q5.a.hint()\n",
    "#q5.a.solution()"
   ]
  },
  {
   "cell_type": "markdown",
   "id": "6e24e710",
   "metadata": {
    "papermill": {
     "duration": 0.010626,
     "end_time": "2022-09-02T00:25:39.419452",
     "exception": false,
     "start_time": "2022-09-02T00:25:39.408826",
     "status": "completed"
    },
    "tags": []
   },
   "source": [
    "# 5b.\n",
    "\n",
    "For the next function, fill in the body to match the English description in the docstring. "
   ]
  },
  {
   "cell_type": "code",
   "execution_count": 15,
   "id": "d377b26e",
   "metadata": {
    "execution": {
     "iopub.execute_input": "2022-09-02T00:25:39.444011Z",
     "iopub.status.busy": "2022-09-02T00:25:39.442807Z",
     "iopub.status.idle": "2022-09-02T00:25:39.452932Z",
     "shell.execute_reply": "2022-09-02T00:25:39.451653Z"
    },
    "papermill": {
     "duration": 0.024831,
     "end_time": "2022-09-02T00:25:39.455260",
     "exception": false,
     "start_time": "2022-09-02T00:25:39.430429",
     "status": "completed"
    },
    "tags": []
   },
   "outputs": [
    {
     "data": {
      "application/javascript": [
       "parent.postMessage({\"jupyterEvent\": \"custom.exercise_interaction\", \"data\": {\"outcomeType\": 1, \"valueTowardsCompletion\": 0.2, \"interactionType\": 1, \"questionType\": 2, \"questionId\": \"5.2_PlainDog\", \"learnToolsVersion\": \"0.3.4\", \"failureMessage\": \"\", \"exceptionClass\": \"\", \"trace\": \"\"}}, \"*\")"
      ],
      "text/plain": [
       "<IPython.core.display.Javascript object>"
      ]
     },
     "metadata": {},
     "output_type": "display_data"
    },
    {
     "data": {
      "text/markdown": [
       "<span style=\"color:#33cc33\">Correct:</span> \n",
       "\n",
       "One solution looks like:\n",
       "```python\n",
       "return not ketchup and not mustard and not onion\n",
       "```\n",
       "\n",
       "We can also [\"factor out\" the nots](https://en.wikipedia.org/wiki/De_Morgan%27s_laws) to get:\n",
       "\n",
       "```python\n",
       "return not (ketchup or mustard or onion)\n",
       "```"
      ],
      "text/plain": [
       "Correct: \n",
       "\n",
       "One solution looks like:\n",
       "```python\n",
       "return not ketchup and not mustard and not onion\n",
       "```\n",
       "\n",
       "We can also [\"factor out\" the nots](https://en.wikipedia.org/wiki/De_Morgan%27s_laws) to get:\n",
       "\n",
       "```python\n",
       "return not (ketchup or mustard or onion)\n",
       "```"
      ]
     },
     "metadata": {},
     "output_type": "display_data"
    }
   ],
   "source": [
    "def wants_plain_hotdog(ketchup, mustard, onion):\n",
    "    \"\"\"Return whether the customer wants a plain hot dog with no toppings.\n",
    "    \"\"\"\n",
    "    return not ketchup and not mustard and not onion\n",
    "\n",
    "# Check your answer\n",
    "q5.b.check()"
   ]
  },
  {
   "cell_type": "code",
   "execution_count": 16,
   "id": "95f15192",
   "metadata": {
    "execution": {
     "iopub.execute_input": "2022-09-02T00:25:39.480830Z",
     "iopub.status.busy": "2022-09-02T00:25:39.480102Z",
     "iopub.status.idle": "2022-09-02T00:25:39.484196Z",
     "shell.execute_reply": "2022-09-02T00:25:39.483107Z"
    },
    "papermill": {
     "duration": 0.019736,
     "end_time": "2022-09-02T00:25:39.486684",
     "exception": false,
     "start_time": "2022-09-02T00:25:39.466948",
     "status": "completed"
    },
    "tags": []
   },
   "outputs": [],
   "source": [
    "#q5.b.hint()\n",
    "#q5.b.solution()"
   ]
  },
  {
   "cell_type": "markdown",
   "id": "cc594558",
   "metadata": {
    "papermill": {
     "duration": 0.010996,
     "end_time": "2022-09-02T00:25:39.509141",
     "exception": false,
     "start_time": "2022-09-02T00:25:39.498145",
     "status": "completed"
    },
    "tags": []
   },
   "source": [
    "# 5c.\n",
    "\n",
    "You know what to do: for the next function, fill in the body to match the English description in the docstring."
   ]
  },
  {
   "cell_type": "code",
   "execution_count": 17,
   "id": "c81c6d54",
   "metadata": {
    "execution": {
     "iopub.execute_input": "2022-09-02T00:25:39.534331Z",
     "iopub.status.busy": "2022-09-02T00:25:39.533904Z",
     "iopub.status.idle": "2022-09-02T00:25:39.542443Z",
     "shell.execute_reply": "2022-09-02T00:25:39.541480Z"
    },
    "papermill": {
     "duration": 0.024021,
     "end_time": "2022-09-02T00:25:39.544475",
     "exception": false,
     "start_time": "2022-09-02T00:25:39.520454",
     "status": "completed"
    },
    "tags": []
   },
   "outputs": [
    {
     "data": {
      "application/javascript": [
       "parent.postMessage({\"jupyterEvent\": \"custom.exercise_interaction\", \"data\": {\"outcomeType\": 1, \"valueTowardsCompletion\": 0.2, \"interactionType\": 1, \"questionType\": 2, \"questionId\": \"5.3_OneSauce\", \"learnToolsVersion\": \"0.3.4\", \"failureMessage\": \"\", \"exceptionClass\": \"\", \"trace\": \"\"}}, \"*\")"
      ],
      "text/plain": [
       "<IPython.core.display.Javascript object>"
      ]
     },
     "metadata": {},
     "output_type": "display_data"
    },
    {
     "data": {
      "text/markdown": [
       "<span style=\"color:#33cc33\">Correct</span>"
      ],
      "text/plain": [
       "Correct"
      ]
     },
     "metadata": {},
     "output_type": "display_data"
    }
   ],
   "source": [
    "def exactly_one_sauce(ketchup, mustard, onion):\n",
    "    \"\"\"Return whether the customer wants either ketchup or mustard, but not both.\n",
    "    (You may be familiar with this operation under the name \"exclusive or\")\n",
    "    \"\"\"\n",
    "    return onion and (ketchup and not mustard) or (not ketchup and mustard)\n",
    "\n",
    "# Check your answer\n",
    "q5.c.check()"
   ]
  },
  {
   "cell_type": "code",
   "execution_count": 18,
   "id": "fc3d60f4",
   "metadata": {
    "execution": {
     "iopub.execute_input": "2022-09-02T00:25:39.569790Z",
     "iopub.status.busy": "2022-09-02T00:25:39.568989Z",
     "iopub.status.idle": "2022-09-02T00:25:39.573437Z",
     "shell.execute_reply": "2022-09-02T00:25:39.572533Z"
    },
    "papermill": {
     "duration": 0.02055,
     "end_time": "2022-09-02T00:25:39.576557",
     "exception": false,
     "start_time": "2022-09-02T00:25:39.556007",
     "status": "completed"
    },
    "tags": []
   },
   "outputs": [],
   "source": [
    "# q5.c.hint()\n",
    "#q5.c.solution()"
   ]
  },
  {
   "cell_type": "markdown",
   "id": "0c464b5e",
   "metadata": {
    "papermill": {
     "duration": 0.011689,
     "end_time": "2022-09-02T00:25:39.600374",
     "exception": false,
     "start_time": "2022-09-02T00:25:39.588685",
     "status": "completed"
    },
    "tags": []
   },
   "source": [
    "# 6. <span title=\"A bit spicy\" style=\"color: darkgreen \">🌶️</span>\n",
    "\n",
    "We’ve seen that calling `bool()` on an integer returns `False` if it’s equal to 0 and `True` otherwise. What happens if we call `int()` on a bool? Try it out in the notebook cell below.\n",
    "\n",
    "Can you take advantage of this to write a succinct function that corresponds to the English sentence \"does the customer want exactly one topping?\"?"
   ]
  },
  {
   "cell_type": "code",
   "execution_count": 19,
   "id": "51b8ec60",
   "metadata": {
    "execution": {
     "iopub.execute_input": "2022-09-02T00:25:39.626137Z",
     "iopub.status.busy": "2022-09-02T00:25:39.625380Z",
     "iopub.status.idle": "2022-09-02T00:25:39.634519Z",
     "shell.execute_reply": "2022-09-02T00:25:39.633652Z"
    },
    "papermill": {
     "duration": 0.024939,
     "end_time": "2022-09-02T00:25:39.636810",
     "exception": false,
     "start_time": "2022-09-02T00:25:39.611871",
     "status": "completed"
    },
    "tags": []
   },
   "outputs": [
    {
     "data": {
      "application/javascript": [
       "parent.postMessage({\"jupyterEvent\": \"custom.exercise_interaction\", \"data\": {\"outcomeType\": 1, \"valueTowardsCompletion\": 0.2, \"interactionType\": 1, \"questionType\": 2, \"questionId\": \"6_OneTopping\", \"learnToolsVersion\": \"0.3.4\", \"failureMessage\": \"\", \"exceptionClass\": \"\", \"trace\": \"\"}}, \"*\")"
      ],
      "text/plain": [
       "<IPython.core.display.Javascript object>"
      ]
     },
     "metadata": {},
     "output_type": "display_data"
    },
    {
     "data": {
      "text/markdown": [
       "<span style=\"color:#33cc33\">Correct:</span> \n",
       "\n",
       "This condition would be pretty complicated to express using just `and`, `or` and `not`, but using boolean-to-integer conversion gives us this short solution:\n",
       "```python\n",
       "return (int(ketchup) + int(mustard) + int(onion)) == 1\n",
       "```\n",
       "\n",
       "Fun fact: we don't technically need to call `int` on the arguments. Just by doing addition with booleans, Python implicitly does the integer conversion. So we could also write...\n",
       "\n",
       "```python\n",
       "return (ketchup + mustard + onion) == 1\n",
       "```"
      ],
      "text/plain": [
       "Correct: \n",
       "\n",
       "This condition would be pretty complicated to express using just `and`, `or` and `not`, but using boolean-to-integer conversion gives us this short solution:\n",
       "```python\n",
       "return (int(ketchup) + int(mustard) + int(onion)) == 1\n",
       "```\n",
       "\n",
       "Fun fact: we don't technically need to call `int` on the arguments. Just by doing addition with booleans, Python implicitly does the integer conversion. So we could also write...\n",
       "\n",
       "```python\n",
       "return (ketchup + mustard + onion) == 1\n",
       "```"
      ]
     },
     "metadata": {},
     "output_type": "display_data"
    }
   ],
   "source": [
    "def exactly_one_topping(ketchup, mustard, onion):\n",
    "    \"\"\"Return whether the customer wants exactly one of the three available toppings\n",
    "    on their hot dog.\n",
    "    \"\"\"\n",
    "    return (int(ketchup) + int(mustard) + int(onion)) == 1\n",
    "\n",
    "# Check your answer\n",
    "q6.check()"
   ]
  },
  {
   "cell_type": "code",
   "execution_count": 20,
   "id": "31772613",
   "metadata": {
    "execution": {
     "iopub.execute_input": "2022-09-02T00:25:39.662871Z",
     "iopub.status.busy": "2022-09-02T00:25:39.662123Z",
     "iopub.status.idle": "2022-09-02T00:25:39.665973Z",
     "shell.execute_reply": "2022-09-02T00:25:39.665148Z"
    },
    "papermill": {
     "duration": 0.02098,
     "end_time": "2022-09-02T00:25:39.670021",
     "exception": false,
     "start_time": "2022-09-02T00:25:39.649041",
     "status": "completed"
    },
    "tags": []
   },
   "outputs": [],
   "source": [
    "# q6.hint()\n",
    "#q6.solution()"
   ]
  },
  {
   "cell_type": "markdown",
   "id": "5854ae55",
   "metadata": {
    "papermill": {
     "duration": 0.016436,
     "end_time": "2022-09-02T00:25:39.702425",
     "exception": false,
     "start_time": "2022-09-02T00:25:39.685989",
     "status": "completed"
    },
    "tags": []
   },
   "source": [
    "# 7. <span title=\"A bit spicy\" style=\"color: darkgreen \">🌶️</span> (Optional)\n",
    "\n",
    "In this problem we'll be working with a simplified version of [blackjack](https://en.wikipedia.org/wiki/Blackjack) (aka twenty-one). In this version there is one player (who you'll control) and a dealer. Play proceeds as follows:\n",
    "\n",
    "- The player is dealt two face-up cards. The dealer is dealt one face-up card.\n",
    "- The player may ask to be dealt another card ('hit') as many times as they wish. If the sum of their cards exceeds 21, they lose the round immediately.\n",
    "- The dealer then deals additional cards to himself until either:\n",
    "    - the sum of the dealer's cards exceeds 21, in which case the player wins the round\n",
    "    - the sum of the dealer's cards is greater than or equal to 17. If the player's total is greater than the dealer's, the player wins. Otherwise, the dealer wins (even in case of a tie).\n",
    "    \n",
    "When calculating the sum of cards, Jack, Queen, and King count for 10. Aces can count as 1 or 11 (when referring to a player's \"total\" above, we mean the largest total that can be made without exceeding 21. So e.g. A+8 = 19, A+8+8 = 17)\n",
    "\n",
    "For this problem, you'll write a function representing the player's decision-making strategy in this game. We've provided a very unintelligent implementation below:"
   ]
  },
  {
   "cell_type": "code",
   "execution_count": 21,
   "id": "0e75d140",
   "metadata": {
    "execution": {
     "iopub.execute_input": "2022-09-02T00:25:39.741691Z",
     "iopub.status.busy": "2022-09-02T00:25:39.740725Z",
     "iopub.status.idle": "2022-09-02T00:25:39.749022Z",
     "shell.execute_reply": "2022-09-02T00:25:39.747835Z"
    },
    "papermill": {
     "duration": 0.034653,
     "end_time": "2022-09-02T00:25:39.752432",
     "exception": false,
     "start_time": "2022-09-02T00:25:39.717779",
     "status": "completed"
    },
    "tags": []
   },
   "outputs": [],
   "source": [
    "def should_hit(dealer_total, player_total, player_low_aces, player_high_aces):\n",
    "    \"\"\"Return True if the player should hit (request another card) given the current game\n",
    "    state, or False if the player should stay.\n",
    "    When calculating a hand's total value, we count aces as \"high\" (with value 11) if doing so\n",
    "    doesn't bring the total above 21, otherwise we count them as low (with value 1). \n",
    "    For example, if the player's hand is {A, A, A, 7}, we will count it as 11 + 1 + 1 + 7,\n",
    "    and therefore set player_total=20, player_low_aces=2, player_high_aces=1.\n",
    "    \"\"\"\n",
    "    if player_total <= 11:\n",
    "        return True\n",
    "    elif player_total <= 16 and dealer_total >= 7:\n",
    "        return True\n",
    "    elif player_total == 12 and (dealer_total > 7 or dealer_total < 4):\n",
    "        return True\n",
    "    elif player_total == 13 and (dealer_total > 7 or dealer_total < 3):\n",
    "        return True\n",
    "    elif player_total == 17 and dealer_total == 1:\n",
    "        return True\n",
    "    else:\n",
    "        return False"
   ]
  },
  {
   "cell_type": "markdown",
   "id": "10b3572b",
   "metadata": {
    "papermill": {
     "duration": 0.015576,
     "end_time": "2022-09-02T00:25:39.784451",
     "exception": false,
     "start_time": "2022-09-02T00:25:39.768875",
     "status": "completed"
    },
    "tags": []
   },
   "source": [
    "This very conservative agent *always* sticks with the hand of two cards that they're dealt.\n",
    "\n",
    "We'll be simulating games between your player agent and our own dealer agent by calling your function.\n",
    "\n",
    "Try running the function below to see an example of a simulated game:"
   ]
  },
  {
   "cell_type": "code",
   "execution_count": 22,
   "id": "95916499",
   "metadata": {
    "execution": {
     "iopub.execute_input": "2022-09-02T00:25:39.816047Z",
     "iopub.status.busy": "2022-09-02T00:25:39.815346Z",
     "iopub.status.idle": "2022-09-02T00:25:39.820773Z",
     "shell.execute_reply": "2022-09-02T00:25:39.819605Z"
    },
    "papermill": {
     "duration": 0.02187,
     "end_time": "2022-09-02T00:25:39.823155",
     "exception": false,
     "start_time": "2022-09-02T00:25:39.801285",
     "status": "completed"
    },
    "tags": []
   },
   "outputs": [
    {
     "name": "stdout",
     "output_type": "stream",
     "text": [
      "Player starts with J and J (total = 20)\n",
      "Dealer starts with 5\n",
      "\n",
      "__Player's turn__\n",
      "Player stays\n",
      "\n",
      "__Dealer's turn__\n",
      "Dealer hits and receives 6. (total = 11)\n",
      "Dealer hits and receives J. (total = 21)\n",
      "Dealer stands.\n",
      "Dealer wins. 21 >= 20\n"
     ]
    }
   ],
   "source": [
    "q7.simulate_one_game()"
   ]
  },
  {
   "cell_type": "markdown",
   "id": "e26a055b",
   "metadata": {
    "papermill": {
     "duration": 0.011645,
     "end_time": "2022-09-02T00:25:39.846887",
     "exception": false,
     "start_time": "2022-09-02T00:25:39.835242",
     "status": "completed"
    },
    "tags": []
   },
   "source": [
    "The real test of your agent's mettle is their average win rate over many games. Try calling the function below to simulate 50000 games of blackjack (it may take a couple seconds):"
   ]
  },
  {
   "cell_type": "code",
   "execution_count": 23,
   "id": "81ee4b16",
   "metadata": {
    "execution": {
     "iopub.execute_input": "2022-09-02T00:25:39.872716Z",
     "iopub.status.busy": "2022-09-02T00:25:39.872248Z",
     "iopub.status.idle": "2022-09-02T00:25:41.744001Z",
     "shell.execute_reply": "2022-09-02T00:25:41.742614Z"
    },
    "papermill": {
     "duration": 1.888354,
     "end_time": "2022-09-02T00:25:41.747002",
     "exception": false,
     "start_time": "2022-09-02T00:25:39.858648",
     "status": "completed"
    },
    "tags": []
   },
   "outputs": [
    {
     "name": "stdout",
     "output_type": "stream",
     "text": [
      "Player won 21209 out of 50000 games (win rate = 42.4%)\n"
     ]
    }
   ],
   "source": [
    "q7.simulate(n_games=50000)"
   ]
  },
  {
   "cell_type": "markdown",
   "id": "4081e5d6",
   "metadata": {
    "papermill": {
     "duration": 0.011828,
     "end_time": "2022-09-02T00:25:41.770916",
     "exception": false,
     "start_time": "2022-09-02T00:25:41.759088",
     "status": "completed"
    },
    "tags": []
   },
   "source": [
    "Our dumb agent that completely ignores the game state still manages to win shockingly often!\n",
    "\n",
    "Try adding some more smarts to the `should_hit` function and see how it affects the results."
   ]
  },
  {
   "cell_type": "code",
   "execution_count": 24,
   "id": "73c9863a",
   "metadata": {
    "execution": {
     "iopub.execute_input": "2022-09-02T00:25:41.797645Z",
     "iopub.status.busy": "2022-09-02T00:25:41.796874Z",
     "iopub.status.idle": "2022-09-02T00:25:43.435179Z",
     "shell.execute_reply": "2022-09-02T00:25:43.433870Z"
    },
    "papermill": {
     "duration": 1.655219,
     "end_time": "2022-09-02T00:25:43.438263",
     "exception": false,
     "start_time": "2022-09-02T00:25:41.783044",
     "status": "completed"
    },
    "tags": []
   },
   "outputs": [
    {
     "name": "stdout",
     "output_type": "stream",
     "text": [
      "Player won 19043 out of 50000 games (win rate = 38.1%)\n"
     ]
    }
   ],
   "source": [
    "def should_hit(dealer_total, player_total, player_low_aces, player_high_aces):\n",
    "    \"\"\"Return True if the player should hit (request another card) given the current game\n",
    "    state, or False if the player should stay.\n",
    "    When calculating a hand's total value, we count aces as \"high\" (with value 11) if doing so\n",
    "    doesn't bring the total above 21, otherwise we count them as low (with value 1). \n",
    "    For example, if the player's hand is {A, A, A, 7}, we will count it as 11 + 1 + 1 + 7,\n",
    "    and therefore set player_total=20, player_low_aces=2, player_high_aces=1.\n",
    "    \"\"\"\n",
    "    return False\n",
    "\n",
    "q7.simulate(n_games=50000)"
   ]
  },
  {
   "cell_type": "markdown",
   "id": "1eef5403",
   "metadata": {
    "papermill": {
     "duration": 0.012202,
     "end_time": "2022-09-02T00:25:43.463333",
     "exception": false,
     "start_time": "2022-09-02T00:25:43.451131",
     "status": "completed"
    },
    "tags": []
   },
   "source": [
    "# Keep Going\n",
    "\n",
    "Learn about **[lists and tuples](https://www.kaggle.com/colinmorris/lists)** to handle multiple items of data in a systematic way."
   ]
  },
  {
   "cell_type": "markdown",
   "id": "c9e50824",
   "metadata": {
    "papermill": {
     "duration": 0.011631,
     "end_time": "2022-09-02T00:25:43.487541",
     "exception": false,
     "start_time": "2022-09-02T00:25:43.475910",
     "status": "completed"
    },
    "tags": []
   },
   "source": [
    "---\n",
    "\n",
    "\n",
    "\n",
    "\n",
    "*Have questions or comments? Visit the [course discussion forum](https://www.kaggle.com/learn/python/discussion) to chat with other learners.*"
   ]
  }
 ],
 "metadata": {
  "kernelspec": {
   "display_name": "Python 3",
   "language": "python",
   "name": "python3"
  },
  "language_info": {
   "codemirror_mode": {
    "name": "ipython",
    "version": 3
   },
   "file_extension": ".py",
   "mimetype": "text/x-python",
   "name": "python",
   "nbconvert_exporter": "python",
   "pygments_lexer": "ipython3",
   "version": "3.7.12"
  },
  "papermill": {
   "default_parameters": {},
   "duration": 15.130669,
   "end_time": "2022-09-02T00:25:44.121894",
   "environment_variables": {},
   "exception": null,
   "input_path": "__notebook__.ipynb",
   "output_path": "__notebook__.ipynb",
   "parameters": {},
   "start_time": "2022-09-02T00:25:28.991225",
   "version": "2.3.4"
  }
 },
 "nbformat": 4,
 "nbformat_minor": 5
}
