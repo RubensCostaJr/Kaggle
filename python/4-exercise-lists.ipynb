{
 "cells": [
  {
   "cell_type": "markdown",
   "id": "3773d10b",
   "metadata": {
    "papermill": {
     "duration": 0.006599,
     "end_time": "2022-09-02T00:29:00.695938",
     "exception": false,
     "start_time": "2022-09-02T00:29:00.689339",
     "status": "completed"
    },
    "tags": []
   },
   "source": [
    "**This notebook is an exercise in the [Python](https://www.kaggle.com/learn/python) course.  You can reference the tutorial at [this link](https://www.kaggle.com/colinmorris/lists).**\n",
    "\n",
    "---\n"
   ]
  },
  {
   "cell_type": "markdown",
   "id": "f8bf86c5",
   "metadata": {
    "papermill": {
     "duration": 0.004978,
     "end_time": "2022-09-02T00:29:00.706901",
     "exception": false,
     "start_time": "2022-09-02T00:29:00.701923",
     "status": "completed"
    },
    "tags": []
   },
   "source": [
    "Things get more interesting with lists. You'll apply your new knowledge to solve the questions below. Remember to run the following cell first."
   ]
  },
  {
   "cell_type": "code",
   "execution_count": 1,
   "id": "7c32d82d",
   "metadata": {
    "execution": {
     "iopub.execute_input": "2022-09-02T00:29:00.720006Z",
     "iopub.status.busy": "2022-09-02T00:29:00.718705Z",
     "iopub.status.idle": "2022-09-02T00:29:00.778029Z",
     "shell.execute_reply": "2022-09-02T00:29:00.776426Z"
    },
    "papermill": {
     "duration": 0.068974,
     "end_time": "2022-09-02T00:29:00.781150",
     "exception": false,
     "start_time": "2022-09-02T00:29:00.712176",
     "status": "completed"
    },
    "tags": []
   },
   "outputs": [
    {
     "name": "stdout",
     "output_type": "stream",
     "text": [
      "Setup complete.\n"
     ]
    }
   ],
   "source": [
    "from learntools.core import binder; binder.bind(globals())\n",
    "from learntools.python.ex4 import *\n",
    "print('Setup complete.')"
   ]
  },
  {
   "cell_type": "markdown",
   "id": "0f8c04f5",
   "metadata": {
    "papermill": {
     "duration": 0.004885,
     "end_time": "2022-09-02T00:29:00.791365",
     "exception": false,
     "start_time": "2022-09-02T00:29:00.786480",
     "status": "completed"
    },
    "tags": []
   },
   "source": [
    "# 1.\n",
    "\n",
    "Complete the function below according to its docstring."
   ]
  },
  {
   "cell_type": "code",
   "execution_count": 2,
   "id": "4d5fcf50",
   "metadata": {
    "execution": {
     "iopub.execute_input": "2022-09-02T00:29:00.803834Z",
     "iopub.status.busy": "2022-09-02T00:29:00.802998Z",
     "iopub.status.idle": "2022-09-02T00:29:00.816621Z",
     "shell.execute_reply": "2022-09-02T00:29:00.815501Z"
    },
    "papermill": {
     "duration": 0.02269,
     "end_time": "2022-09-02T00:29:00.819155",
     "exception": false,
     "start_time": "2022-09-02T00:29:00.796465",
     "status": "completed"
    },
    "tags": []
   },
   "outputs": [
    {
     "data": {
      "application/javascript": [
       "parent.postMessage({\"jupyterEvent\": \"custom.exercise_interaction\", \"data\": {\"outcomeType\": 1, \"valueTowardsCompletion\": 0.2, \"interactionType\": 1, \"questionType\": 2, \"questionId\": \"1_SelectSecondItem\", \"learnToolsVersion\": \"0.3.4\", \"failureMessage\": \"\", \"exceptionClass\": \"\", \"trace\": \"\"}}, \"*\")"
      ],
      "text/plain": [
       "<IPython.core.display.Javascript object>"
      ]
     },
     "metadata": {},
     "output_type": "display_data"
    },
    {
     "data": {
      "text/markdown": [
       "<span style=\"color:#33cc33\">Correct</span>"
      ],
      "text/plain": [
       "Correct"
      ]
     },
     "metadata": {},
     "output_type": "display_data"
    }
   ],
   "source": [
    "def select_second(L):\n",
    "    \"\"\"Return the second element of the given list. If the list has no second\n",
    "    element, return None.\n",
    "    \"\"\"\n",
    "    if len(L) < 2:\n",
    "        return None\n",
    "    return L[1]\n",
    "\n",
    "# Check your answer\n",
    "q1.check()"
   ]
  },
  {
   "cell_type": "code",
   "execution_count": 3,
   "id": "dfa873b5",
   "metadata": {
    "execution": {
     "iopub.execute_input": "2022-09-02T00:29:00.831617Z",
     "iopub.status.busy": "2022-09-02T00:29:00.831213Z",
     "iopub.status.idle": "2022-09-02T00:29:00.835634Z",
     "shell.execute_reply": "2022-09-02T00:29:00.834604Z"
    },
    "papermill": {
     "duration": 0.013285,
     "end_time": "2022-09-02T00:29:00.837800",
     "exception": false,
     "start_time": "2022-09-02T00:29:00.824515",
     "status": "completed"
    },
    "tags": []
   },
   "outputs": [],
   "source": [
    "# q1.hint()\n",
    "# q1.solution()"
   ]
  },
  {
   "cell_type": "markdown",
   "id": "7e461bc6",
   "metadata": {
    "papermill": {
     "duration": 0.004963,
     "end_time": "2022-09-02T00:29:00.848132",
     "exception": false,
     "start_time": "2022-09-02T00:29:00.843169",
     "status": "completed"
    },
    "tags": []
   },
   "source": [
    "# 2.\n",
    "\n",
    "You are analyzing sports teams.  Members of each team are stored in a list. The Coach is the first name in the list, the captain is the second name in the list, and other players are listed after that. \n",
    "These lists are stored in another list, which starts with the best team and proceeds through the list to the worst team last.  Complete the function below to select the **captain** of the worst team."
   ]
  },
  {
   "cell_type": "code",
   "execution_count": 4,
   "id": "5663cfbe",
   "metadata": {
    "execution": {
     "iopub.execute_input": "2022-09-02T00:29:00.861146Z",
     "iopub.status.busy": "2022-09-02T00:29:00.860528Z",
     "iopub.status.idle": "2022-09-02T00:29:00.867988Z",
     "shell.execute_reply": "2022-09-02T00:29:00.867035Z"
    },
    "papermill": {
     "duration": 0.016708,
     "end_time": "2022-09-02T00:29:00.870129",
     "exception": false,
     "start_time": "2022-09-02T00:29:00.853421",
     "status": "completed"
    },
    "tags": []
   },
   "outputs": [
    {
     "data": {
      "application/javascript": [
       "parent.postMessage({\"jupyterEvent\": \"custom.exercise_interaction\", \"data\": {\"outcomeType\": 1, \"valueTowardsCompletion\": 0.2, \"interactionType\": 1, \"questionType\": 2, \"questionId\": \"2_LosingTeamCaptain\", \"learnToolsVersion\": \"0.3.4\", \"failureMessage\": \"\", \"exceptionClass\": \"\", \"trace\": \"\"}}, \"*\")"
      ],
      "text/plain": [
       "<IPython.core.display.Javascript object>"
      ]
     },
     "metadata": {},
     "output_type": "display_data"
    },
    {
     "data": {
      "text/markdown": [
       "<span style=\"color:#33cc33\">Correct</span>"
      ],
      "text/plain": [
       "Correct"
      ]
     },
     "metadata": {},
     "output_type": "display_data"
    }
   ],
   "source": [
    "def losing_team_captain(teams):\n",
    "    \"\"\"Given a list of teams, where each team is a list of names, return the 2nd player (captain)\n",
    "    from the last listed team\n",
    "    \"\"\"\n",
    "    return teams[-1][1]\n",
    "\n",
    "# Check your answer\n",
    "q2.check()"
   ]
  },
  {
   "cell_type": "code",
   "execution_count": 5,
   "id": "52e6eacd",
   "metadata": {
    "execution": {
     "iopub.execute_input": "2022-09-02T00:29:00.883411Z",
     "iopub.status.busy": "2022-09-02T00:29:00.882795Z",
     "iopub.status.idle": "2022-09-02T00:29:00.886377Z",
     "shell.execute_reply": "2022-09-02T00:29:00.885594Z"
    },
    "papermill": {
     "duration": 0.012719,
     "end_time": "2022-09-02T00:29:00.888560",
     "exception": false,
     "start_time": "2022-09-02T00:29:00.875841",
     "status": "completed"
    },
    "tags": []
   },
   "outputs": [],
   "source": [
    "#q2.hint()\n",
    "#q2.solution()"
   ]
  },
  {
   "cell_type": "markdown",
   "id": "650a1627",
   "metadata": {
    "papermill": {
     "duration": 0.005331,
     "end_time": "2022-09-02T00:29:00.900240",
     "exception": false,
     "start_time": "2022-09-02T00:29:00.894909",
     "status": "completed"
    },
    "tags": []
   },
   "source": [
    "# 3.\n",
    "\n",
    "The next iteration of Mario Kart will feature an extra-infuriating new item, the *Purple Shell*. When used, it warps the last place racer into first place and the first place racer into last place. Complete the function below to implement the Purple Shell's effect."
   ]
  },
  {
   "cell_type": "code",
   "execution_count": 6,
   "id": "7c8371e5",
   "metadata": {
    "execution": {
     "iopub.execute_input": "2022-09-02T00:29:00.914077Z",
     "iopub.status.busy": "2022-09-02T00:29:00.913333Z",
     "iopub.status.idle": "2022-09-02T00:29:00.921836Z",
     "shell.execute_reply": "2022-09-02T00:29:00.920866Z"
    },
    "papermill": {
     "duration": 0.018227,
     "end_time": "2022-09-02T00:29:00.924163",
     "exception": false,
     "start_time": "2022-09-02T00:29:00.905936",
     "status": "completed"
    },
    "tags": []
   },
   "outputs": [
    {
     "data": {
      "application/javascript": [
       "parent.postMessage({\"jupyterEvent\": \"custom.exercise_interaction\", \"data\": {\"outcomeType\": 1, \"valueTowardsCompletion\": 0.2, \"interactionType\": 1, \"questionType\": 2, \"questionId\": \"3_PurpleShell\", \"learnToolsVersion\": \"0.3.4\", \"failureMessage\": \"\", \"exceptionClass\": \"\", \"trace\": \"\"}}, \"*\")"
      ],
      "text/plain": [
       "<IPython.core.display.Javascript object>"
      ]
     },
     "metadata": {},
     "output_type": "display_data"
    },
    {
     "data": {
      "text/markdown": [
       "<span style=\"color:#33cc33\">Correct</span>"
      ],
      "text/plain": [
       "Correct"
      ]
     },
     "metadata": {},
     "output_type": "display_data"
    }
   ],
   "source": [
    "def purple_shell(racers):\n",
    "    \"\"\"Given a list of racers, set the first place racer (at the front of the list) to last\n",
    "    place and vice versa.\n",
    "    \n",
    "    >>> r = [\"Mario\", \"Bowser\", \"Luigi\"]\n",
    "    >>> purple_shell(r)\n",
    "    >>> r\n",
    "    [\"Luigi\", \"Bowser\", \"Mario\"]\n",
    "    \"\"\"\n",
    "    racers[-1], racers[0] = racers[0], racers[-1]\n",
    "\n",
    "# Check your answer\n",
    "q3.check()"
   ]
  },
  {
   "cell_type": "code",
   "execution_count": 7,
   "id": "ef8045d2",
   "metadata": {
    "execution": {
     "iopub.execute_input": "2022-09-02T00:29:00.938391Z",
     "iopub.status.busy": "2022-09-02T00:29:00.937635Z",
     "iopub.status.idle": "2022-09-02T00:29:00.941497Z",
     "shell.execute_reply": "2022-09-02T00:29:00.940686Z"
    },
    "papermill": {
     "duration": 0.013542,
     "end_time": "2022-09-02T00:29:00.943810",
     "exception": false,
     "start_time": "2022-09-02T00:29:00.930268",
     "status": "completed"
    },
    "tags": []
   },
   "outputs": [],
   "source": [
    "#q3.hint()\n",
    "#q3.solution()"
   ]
  },
  {
   "cell_type": "markdown",
   "id": "11a8a0d0",
   "metadata": {
    "papermill": {
     "duration": 0.005445,
     "end_time": "2022-09-02T00:29:00.955161",
     "exception": false,
     "start_time": "2022-09-02T00:29:00.949716",
     "status": "completed"
    },
    "tags": []
   },
   "source": [
    "# 4.\n",
    "\n",
    "What are the lengths of the following lists? Fill in the variable `lengths` with your predictions. (Try to make a prediction for each list *without* just calling `len()` on it.)"
   ]
  },
  {
   "cell_type": "code",
   "execution_count": 8,
   "id": "ad6ab388",
   "metadata": {
    "execution": {
     "iopub.execute_input": "2022-09-02T00:29:00.968958Z",
     "iopub.status.busy": "2022-09-02T00:29:00.968211Z",
     "iopub.status.idle": "2022-09-02T00:29:00.978370Z",
     "shell.execute_reply": "2022-09-02T00:29:00.977249Z"
    },
    "papermill": {
     "duration": 0.020125,
     "end_time": "2022-09-02T00:29:00.981135",
     "exception": false,
     "start_time": "2022-09-02T00:29:00.961010",
     "status": "completed"
    },
    "tags": []
   },
   "outputs": [
    {
     "data": {
      "application/javascript": [
       "parent.postMessage({\"jupyterEvent\": \"custom.exercise_interaction\", \"data\": {\"outcomeType\": 1, \"valueTowardsCompletion\": 0.2, \"interactionType\": 1, \"questionType\": 1, \"questionId\": \"4_UnderstandLen\", \"learnToolsVersion\": \"0.3.4\", \"failureMessage\": \"\", \"exceptionClass\": \"\", \"trace\": \"\"}}, \"*\")"
      ],
      "text/plain": [
       "<IPython.core.display.Javascript object>"
      ]
     },
     "metadata": {},
     "output_type": "display_data"
    },
    {
     "data": {
      "text/markdown": [
       "<span style=\"color:#33cc33\">Correct:</span> \n",
       "\n",
       "\n",
       "- a: There are three items in this list. Nothing tricky yet.\n",
       "- b: The list `[2, 3]` counts as a single item. It has one item before it. So we have 2 items in the list\n",
       "- c: The empty list has 0 items\n",
       "- d: The expression is the same as the list `[2, 3]`, which has length 2."
      ],
      "text/plain": [
       "Correct: \n",
       "\n",
       "\n",
       "- a: There are three items in this list. Nothing tricky yet.\n",
       "- b: The list `[2, 3]` counts as a single item. It has one item before it. So we have 2 items in the list\n",
       "- c: The empty list has 0 items\n",
       "- d: The expression is the same as the list `[2, 3]`, which has length 2."
      ]
     },
     "metadata": {},
     "output_type": "display_data"
    }
   ],
   "source": [
    "a = [1, 2, 3]\n",
    "b = [1, [2, 3]]\n",
    "c = []\n",
    "d = [1, 2, 3][1:]\n",
    "\n",
    "# Put your predictions in the list below. Lengths should contain 4 numbers, the\n",
    "# first being the length of a, the second being the length of b and so on.\n",
    "lengths = [3, 2, 0, 2]\n",
    "\n",
    "# Check your answer\n",
    "q4.check()"
   ]
  },
  {
   "cell_type": "code",
   "execution_count": 9,
   "id": "c97e652a",
   "metadata": {
    "execution": {
     "iopub.execute_input": "2022-09-02T00:29:00.995003Z",
     "iopub.status.busy": "2022-09-02T00:29:00.994556Z",
     "iopub.status.idle": "2022-09-02T00:29:00.999245Z",
     "shell.execute_reply": "2022-09-02T00:29:00.998058Z"
    },
    "papermill": {
     "duration": 0.014442,
     "end_time": "2022-09-02T00:29:01.001664",
     "exception": false,
     "start_time": "2022-09-02T00:29:00.987222",
     "status": "completed"
    },
    "tags": []
   },
   "outputs": [],
   "source": [
    "# line below provides some explanation\n",
    "#q4.solution()"
   ]
  },
  {
   "cell_type": "markdown",
   "id": "0f39f2bf",
   "metadata": {
    "papermill": {
     "duration": 0.005714,
     "end_time": "2022-09-02T00:29:01.013525",
     "exception": false,
     "start_time": "2022-09-02T00:29:01.007811",
     "status": "completed"
    },
    "tags": []
   },
   "source": [
    "# 5. <span title=\"A bit spicy\" style=\"color: darkgreen \">🌶️</span>\n",
    "\n",
    "We're using lists to record people who attended our party and what order they arrived in. For example, the following list represents a party with 7 guests, in which Adela showed up first and Ford was the last to arrive:\n",
    "\n",
    "    party_attendees = ['Adela', 'Fleda', 'Owen', 'May', 'Mona', 'Gilbert', 'Ford']\n",
    "\n",
    "A guest is considered 'fashionably late' if they arrived after at least half of the party's guests. However, they must not be the very last guest (that's taking it too far). In the above example, Mona and Gilbert are the only guests who were fashionably late.\n",
    "\n",
    "Complete the function below which takes a list of party attendees as well as a person, and tells us whether that person is fashionably late."
   ]
  },
  {
   "cell_type": "code",
   "execution_count": 10,
   "id": "33ee98a4",
   "metadata": {
    "execution": {
     "iopub.execute_input": "2022-09-02T00:29:01.028912Z",
     "iopub.status.busy": "2022-09-02T00:29:01.028486Z",
     "iopub.status.idle": "2022-09-02T00:29:01.038461Z",
     "shell.execute_reply": "2022-09-02T00:29:01.037070Z"
    },
    "papermill": {
     "duration": 0.02004,
     "end_time": "2022-09-02T00:29:01.040740",
     "exception": false,
     "start_time": "2022-09-02T00:29:01.020700",
     "status": "completed"
    },
    "tags": []
   },
   "outputs": [
    {
     "data": {
      "application/javascript": [
       "parent.postMessage({\"jupyterEvent\": \"custom.exercise_interaction\", \"data\": {\"outcomeType\": 1, \"valueTowardsCompletion\": 0.2, \"interactionType\": 1, \"questionType\": 2, \"questionId\": \"5_FashionablyLate\", \"learnToolsVersion\": \"0.3.4\", \"failureMessage\": \"\", \"exceptionClass\": \"\", \"trace\": \"\"}}, \"*\")"
      ],
      "text/plain": [
       "<IPython.core.display.Javascript object>"
      ]
     },
     "metadata": {},
     "output_type": "display_data"
    },
    {
     "data": {
      "text/markdown": [
       "<span style=\"color:#33cc33\">Correct</span>"
      ],
      "text/plain": [
       "Correct"
      ]
     },
     "metadata": {},
     "output_type": "display_data"
    }
   ],
   "source": [
    "def fashionably_late(arrivals, name):\n",
    "    \"\"\"Given an ordered list of arrivals to the party and a name, return whether the guest with that\n",
    "    name was fashionably late.\n",
    "    \"\"\"\n",
    "    order = arrivals.index(name)\n",
    "    return (order >= len(arrivals) / 2) and (order != len(arrivals) - 1)\n",
    "\n",
    "# Check your answer\n",
    "q5.check()"
   ]
  },
  {
   "cell_type": "code",
   "execution_count": 11,
   "id": "1cfb3666",
   "metadata": {
    "execution": {
     "iopub.execute_input": "2022-09-02T00:29:01.057644Z",
     "iopub.status.busy": "2022-09-02T00:29:01.057029Z",
     "iopub.status.idle": "2022-09-02T00:29:01.060607Z",
     "shell.execute_reply": "2022-09-02T00:29:01.059855Z"
    },
    "papermill": {
     "duration": 0.016113,
     "end_time": "2022-09-02T00:29:01.063250",
     "exception": false,
     "start_time": "2022-09-02T00:29:01.047137",
     "status": "completed"
    },
    "tags": []
   },
   "outputs": [],
   "source": [
    "# q5.hint()\n",
    "# q5.solution()"
   ]
  },
  {
   "cell_type": "markdown",
   "id": "f5572b5d",
   "metadata": {
    "papermill": {
     "duration": 0.006649,
     "end_time": "2022-09-02T00:29:01.076853",
     "exception": false,
     "start_time": "2022-09-02T00:29:01.070204",
     "status": "completed"
    },
    "tags": []
   },
   "source": [
    "# Keep Going\n",
    "\n",
    "That's it for lists and tuples! Now you have the baseline knowledge to **[learn about loops](https://www.kaggle.com/colinmorris/loops-and-list-comprehensions)**, which is where lists and tuples get really interesting. "
   ]
  },
  {
   "cell_type": "markdown",
   "id": "ac621b9b",
   "metadata": {
    "papermill": {
     "duration": 0.006445,
     "end_time": "2022-09-02T00:29:01.090519",
     "exception": false,
     "start_time": "2022-09-02T00:29:01.084074",
     "status": "completed"
    },
    "tags": []
   },
   "source": [
    "---\n",
    "\n",
    "\n",
    "\n",
    "\n",
    "*Have questions or comments? Visit the [course discussion forum](https://www.kaggle.com/learn/python/discussion) to chat with other learners.*"
   ]
  }
 ],
 "metadata": {
  "kernelspec": {
   "display_name": "Python 3",
   "language": "python",
   "name": "python3"
  },
  "language_info": {
   "codemirror_mode": {
    "name": "ipython",
    "version": 3
   },
   "file_extension": ".py",
   "mimetype": "text/x-python",
   "name": "python",
   "nbconvert_exporter": "python",
   "pygments_lexer": "ipython3",
   "version": "3.7.12"
  },
  "papermill": {
   "default_parameters": {},
   "duration": 10.54926,
   "end_time": "2022-09-02T00:29:01.721124",
   "environment_variables": {},
   "exception": null,
   "input_path": "__notebook__.ipynb",
   "output_path": "__notebook__.ipynb",
   "parameters": {},
   "start_time": "2022-09-02T00:28:51.171864",
   "version": "2.3.4"
  }
 },
 "nbformat": 4,
 "nbformat_minor": 5
}
