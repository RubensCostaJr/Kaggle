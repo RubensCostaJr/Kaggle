{
 "cells": [
  {
   "cell_type": "markdown",
   "id": "a005b1ff",
   "metadata": {
    "papermill": {
     "duration": 0.006387,
     "end_time": "2022-08-30T23:11:46.591110",
     "exception": false,
     "start_time": "2022-08-30T23:11:46.584723",
     "status": "completed"
    },
    "tags": []
   },
   "source": [
    "**This notebook is an exercise in the [Python](https://www.kaggle.com/learn/python) course.  You can reference the tutorial at [this link](https://www.kaggle.com/colinmorris/functions-and-getting-help).**\n",
    "\n",
    "---\n"
   ]
  },
  {
   "cell_type": "markdown",
   "id": "28faa41e",
   "metadata": {
    "papermill": {
     "duration": 0.004665,
     "end_time": "2022-08-30T23:11:46.600738",
     "exception": false,
     "start_time": "2022-08-30T23:11:46.596073",
     "status": "completed"
    },
    "tags": []
   },
   "source": [
    "Functions are powerful. Try writing some yourself.\n",
    "\n",
    "As before, don't forget to run the setup code below before jumping into question 1."
   ]
  },
  {
   "cell_type": "code",
   "execution_count": 1,
   "id": "1921f6af",
   "metadata": {
    "_kg_hide-input": true,
    "_kg_hide-output": true,
    "execution": {
     "iopub.execute_input": "2022-08-30T23:11:46.612435Z",
     "iopub.status.busy": "2022-08-30T23:11:46.611962Z",
     "iopub.status.idle": "2022-08-30T23:11:46.673756Z",
     "shell.execute_reply": "2022-08-30T23:11:46.672369Z"
    },
    "papermill": {
     "duration": 0.072421,
     "end_time": "2022-08-30T23:11:46.678066",
     "exception": false,
     "start_time": "2022-08-30T23:11:46.605645",
     "status": "completed"
    },
    "tags": []
   },
   "outputs": [
    {
     "name": "stdout",
     "output_type": "stream",
     "text": [
      "Setup complete.\n"
     ]
    }
   ],
   "source": [
    "# SETUP. You don't need to worry for now about what this code does or how it works.\n",
    "from learntools.core import binder; binder.bind(globals())\n",
    "from learntools.python.ex2 import *\n",
    "print('Setup complete.')"
   ]
  },
  {
   "cell_type": "markdown",
   "id": "1ac7044c",
   "metadata": {
    "papermill": {
     "duration": 0.004926,
     "end_time": "2022-08-30T23:11:46.689603",
     "exception": false,
     "start_time": "2022-08-30T23:11:46.684677",
     "status": "completed"
    },
    "tags": []
   },
   "source": [
    "# 1.\n",
    "\n",
    "Complete the body of the following function according to its docstring.\n",
    "\n",
    "HINT: Python has a built-in function `round`."
   ]
  },
  {
   "cell_type": "code",
   "execution_count": 2,
   "id": "2da2d363",
   "metadata": {
    "execution": {
     "iopub.execute_input": "2022-08-30T23:11:46.701410Z",
     "iopub.status.busy": "2022-08-30T23:11:46.701029Z",
     "iopub.status.idle": "2022-08-30T23:11:46.712204Z",
     "shell.execute_reply": "2022-08-30T23:11:46.711026Z"
    },
    "papermill": {
     "duration": 0.020069,
     "end_time": "2022-08-30T23:11:46.714561",
     "exception": false,
     "start_time": "2022-08-30T23:11:46.694492",
     "status": "completed"
    },
    "tags": []
   },
   "outputs": [
    {
     "data": {
      "application/javascript": [
       "parent.postMessage({\"jupyterEvent\": \"custom.exercise_interaction\", \"data\": {\"outcomeType\": 1, \"valueTowardsCompletion\": 0.16666666666666666, \"interactionType\": 1, \"questionType\": 2, \"questionId\": \"1_RoundFunctionProblem\", \"learnToolsVersion\": \"0.3.4\", \"failureMessage\": \"\", \"exceptionClass\": \"\", \"trace\": \"\"}}, \"*\")"
      ],
      "text/plain": [
       "<IPython.core.display.Javascript object>"
      ]
     },
     "metadata": {},
     "output_type": "display_data"
    },
    {
     "data": {
      "text/markdown": [
       "<span style=\"color:#33cc33\">Correct</span>"
      ],
      "text/plain": [
       "Correct"
      ]
     },
     "metadata": {},
     "output_type": "display_data"
    }
   ],
   "source": [
    "def round_to_two_places(num):\n",
    "    \"\"\"Return the given number rounded to two decimal places. \n",
    "    \n",
    "    >>> round_to_two_places(3.14159)\n",
    "    3.14\n",
    "    \"\"\"\n",
    "    return round(num, ndigits=2)\n",
    "    # Replace this body with your own code.\n",
    "    # (\"pass\" is a keyword that does literally nothing. We used it as a placeholder\n",
    "    # because after we begin a code block, Python requires at least one line of code)\n",
    "\n",
    "# Check your answer\n",
    "q1.check()"
   ]
  },
  {
   "cell_type": "code",
   "execution_count": 3,
   "id": "b58691a4",
   "metadata": {
    "execution": {
     "iopub.execute_input": "2022-08-30T23:11:46.727390Z",
     "iopub.status.busy": "2022-08-30T23:11:46.726414Z",
     "iopub.status.idle": "2022-08-30T23:11:46.730901Z",
     "shell.execute_reply": "2022-08-30T23:11:46.729786Z"
    },
    "papermill": {
     "duration": 0.013042,
     "end_time": "2022-08-30T23:11:46.733118",
     "exception": false,
     "start_time": "2022-08-30T23:11:46.720076",
     "status": "completed"
    },
    "tags": []
   },
   "outputs": [],
   "source": [
    "# Uncomment the following for a hint\n",
    "#q1.hint()\n",
    "# Or uncomment the following to peek at the solution\n",
    "#q1.solution()"
   ]
  },
  {
   "cell_type": "markdown",
   "id": "30e53ccf",
   "metadata": {
    "papermill": {
     "duration": 0.004939,
     "end_time": "2022-08-30T23:11:46.743536",
     "exception": false,
     "start_time": "2022-08-30T23:11:46.738597",
     "status": "completed"
    },
    "tags": []
   },
   "source": [
    "# 2.\n",
    "The help for `round` says that `ndigits` (the second argument) may be negative.\n",
    "What do you think will happen when it is? Try some examples in the following cell."
   ]
  },
  {
   "cell_type": "code",
   "execution_count": 4,
   "id": "247149f4",
   "metadata": {
    "execution": {
     "iopub.execute_input": "2022-08-30T23:11:46.756060Z",
     "iopub.status.busy": "2022-08-30T23:11:46.755170Z",
     "iopub.status.idle": "2022-08-30T23:11:46.761528Z",
     "shell.execute_reply": "2022-08-30T23:11:46.760615Z"
    },
    "papermill": {
     "duration": 0.015004,
     "end_time": "2022-08-30T23:11:46.763694",
     "exception": false,
     "start_time": "2022-08-30T23:11:46.748690",
     "status": "completed"
    },
    "tags": []
   },
   "outputs": [
    {
     "data": {
      "text/plain": [
       "1000.0"
      ]
     },
     "execution_count": 4,
     "metadata": {},
     "output_type": "execute_result"
    }
   ],
   "source": [
    "# Put your test code here\n",
    "round(1000.2333, ndigits=-2)"
   ]
  },
  {
   "cell_type": "markdown",
   "id": "21982cae",
   "metadata": {
    "papermill": {
     "duration": 0.004916,
     "end_time": "2022-08-30T23:11:46.773954",
     "exception": false,
     "start_time": "2022-08-30T23:11:46.769038",
     "status": "completed"
    },
    "tags": []
   },
   "source": [
    "Can you think of a case where this would be useful?  Once you're ready, run the code cell below to see the answer and to receive credit for completing the problem."
   ]
  },
  {
   "cell_type": "code",
   "execution_count": 5,
   "id": "d3fdd6b7",
   "metadata": {
    "execution": {
     "iopub.execute_input": "2022-08-30T23:11:46.788682Z",
     "iopub.status.busy": "2022-08-30T23:11:46.787831Z",
     "iopub.status.idle": "2022-08-30T23:11:46.793910Z",
     "shell.execute_reply": "2022-08-30T23:11:46.792360Z"
    },
    "papermill": {
     "duration": 0.017708,
     "end_time": "2022-08-30T23:11:46.796841",
     "exception": false,
     "start_time": "2022-08-30T23:11:46.779133",
     "status": "completed"
    },
    "tags": []
   },
   "outputs": [],
   "source": [
    "# Check your answer (Run this code cell to receive credit!)\n",
    "# q2.solution()"
   ]
  },
  {
   "cell_type": "markdown",
   "id": "4bbfe116",
   "metadata": {
    "papermill": {
     "duration": 0.005247,
     "end_time": "2022-08-30T23:11:46.808214",
     "exception": false,
     "start_time": "2022-08-30T23:11:46.802967",
     "status": "completed"
    },
    "tags": []
   },
   "source": [
    "# 3.\n",
    "\n",
    "In the previous exercise, the candy-sharing friends Alice, Bob and Carol tried to split candies evenly. For the sake of their friendship, any candies left over would be smashed. For example, if they collectively bring home 91 candies, they'll take 30 each and smash 1.\n",
    "\n",
    "Below is a simple function that will calculate the number of candies to smash for *any* number of total candies.\n",
    "\n",
    "Modify it so that it optionally takes a second argument representing the number of friends the candies are being split between. If no second argument is provided, it should assume 3 friends, as before.\n",
    "\n",
    "Update the docstring to reflect this new behaviour."
   ]
  },
  {
   "cell_type": "code",
   "execution_count": 6,
   "id": "812cb4ad",
   "metadata": {
    "execution": {
     "iopub.execute_input": "2022-08-30T23:11:46.827022Z",
     "iopub.status.busy": "2022-08-30T23:11:46.826611Z",
     "iopub.status.idle": "2022-08-30T23:11:46.841425Z",
     "shell.execute_reply": "2022-08-30T23:11:46.840453Z"
    },
    "papermill": {
     "duration": 0.029537,
     "end_time": "2022-08-30T23:11:46.844063",
     "exception": false,
     "start_time": "2022-08-30T23:11:46.814526",
     "status": "completed"
    },
    "tags": []
   },
   "outputs": [
    {
     "data": {
      "application/javascript": [
       "parent.postMessage({\"jupyterEvent\": \"custom.exercise_interaction\", \"data\": {\"outcomeType\": 1, \"valueTowardsCompletion\": 0.16666666666666666, \"interactionType\": 1, \"questionType\": 2, \"questionId\": \"3_CandySmashingFunctionProblem\", \"learnToolsVersion\": \"0.3.4\", \"failureMessage\": \"\", \"exceptionClass\": \"\", \"trace\": \"\"}}, \"*\")"
      ],
      "text/plain": [
       "<IPython.core.display.Javascript object>"
      ]
     },
     "metadata": {},
     "output_type": "display_data"
    },
    {
     "data": {
      "text/markdown": [
       "<span style=\"color:#33cc33\">Correct</span>"
      ],
      "text/plain": [
       "Correct"
      ]
     },
     "metadata": {},
     "output_type": "display_data"
    }
   ],
   "source": [
    "def to_smash(total_candies, num_friends = 3):\n",
    "    \"\"\"Return the number of leftover candies that must be smashed after distributing\n",
    "    the given number of candies evenly between 3 friends.\n",
    "    \n",
    "    >>> to_smash(91)\n",
    "    1\n",
    "    \"\"\"\n",
    "    return total_candies % num_friends\n",
    "\n",
    "# Check your answer\n",
    "q3.check()"
   ]
  },
  {
   "cell_type": "code",
   "execution_count": 7,
   "id": "550aabff",
   "metadata": {
    "execution": {
     "iopub.execute_input": "2022-08-30T23:11:46.858937Z",
     "iopub.status.busy": "2022-08-30T23:11:46.858048Z",
     "iopub.status.idle": "2022-08-30T23:11:46.863641Z",
     "shell.execute_reply": "2022-08-30T23:11:46.862731Z"
    },
    "papermill": {
     "duration": 0.016508,
     "end_time": "2022-08-30T23:11:46.867033",
     "exception": false,
     "start_time": "2022-08-30T23:11:46.850525",
     "status": "completed"
    },
    "tags": []
   },
   "outputs": [],
   "source": [
    "# q3.hint()"
   ]
  },
  {
   "cell_type": "code",
   "execution_count": 8,
   "id": "371804d1",
   "metadata": {
    "execution": {
     "iopub.execute_input": "2022-08-30T23:11:46.884953Z",
     "iopub.status.busy": "2022-08-30T23:11:46.884536Z",
     "iopub.status.idle": "2022-08-30T23:11:46.889175Z",
     "shell.execute_reply": "2022-08-30T23:11:46.887822Z"
    },
    "papermill": {
     "duration": 0.015935,
     "end_time": "2022-08-30T23:11:46.891829",
     "exception": false,
     "start_time": "2022-08-30T23:11:46.875894",
     "status": "completed"
    },
    "tags": []
   },
   "outputs": [],
   "source": [
    "#q3.solution()"
   ]
  },
  {
   "cell_type": "markdown",
   "id": "5bade828",
   "metadata": {
    "papermill": {
     "duration": 0.005169,
     "end_time": "2022-08-30T23:11:46.902877",
     "exception": false,
     "start_time": "2022-08-30T23:11:46.897708",
     "status": "completed"
    },
    "tags": []
   },
   "source": [
    "# 4. (Optional)\n",
    "\n",
    "It may not be fun, but reading and understanding error messages will be an important part of your Python career.\n",
    "\n",
    "Each code cell below contains some commented buggy code. For each cell...\n",
    "\n",
    "1. Read the code and predict what you think will happen when it's run.\n",
    "2. Then uncomment the code and run it to see what happens. (**Tip**: In the kernel editor, you can highlight several lines and press `ctrl`+`/` to toggle commenting.)\n",
    "3. Fix the code (so that it accomplishes its intended purpose without throwing an exception)\n",
    "\n",
    "<!-- TODO: should this be autochecked? Delta is probably pretty small. -->"
   ]
  },
  {
   "cell_type": "markdown",
   "id": "f1388d10",
   "metadata": {
    "papermill": {
     "duration": 0.00515,
     "end_time": "2022-08-30T23:11:46.913668",
     "exception": false,
     "start_time": "2022-08-30T23:11:46.908518",
     "status": "completed"
    },
    "tags": []
   },
   "source": [
    "Display: 10.0"
   ]
  },
  {
   "cell_type": "code",
   "execution_count": 9,
   "id": "8c39e841",
   "metadata": {
    "execution": {
     "iopub.execute_input": "2022-08-30T23:11:46.926784Z",
     "iopub.status.busy": "2022-08-30T23:11:46.926098Z",
     "iopub.status.idle": "2022-08-30T23:11:46.933497Z",
     "shell.execute_reply": "2022-08-30T23:11:46.932202Z"
    },
    "papermill": {
     "duration": 0.01679,
     "end_time": "2022-08-30T23:11:46.935951",
     "exception": false,
     "start_time": "2022-08-30T23:11:46.919161",
     "status": "completed"
    },
    "tags": []
   },
   "outputs": [
    {
     "data": {
      "text/plain": [
       "10.0"
      ]
     },
     "execution_count": 9,
     "metadata": {},
     "output_type": "execute_result"
    }
   ],
   "source": [
    "round_to_two_places(9.9999)"
   ]
  },
  {
   "cell_type": "markdown",
   "id": "ac217e7d",
   "metadata": {
    "papermill": {
     "duration": 0.005314,
     "end_time": "2022-08-30T23:11:46.946978",
     "exception": false,
     "start_time": "2022-08-30T23:11:46.941664",
     "status": "completed"
    },
    "tags": []
   },
   "source": [
    "TypeError: abs() takes just one argument"
   ]
  },
  {
   "cell_type": "code",
   "execution_count": 10,
   "id": "356ff657",
   "metadata": {
    "execution": {
     "iopub.execute_input": "2022-08-30T23:11:46.959974Z",
     "iopub.status.busy": "2022-08-30T23:11:46.959558Z",
     "iopub.status.idle": "2022-08-30T23:11:46.966057Z",
     "shell.execute_reply": "2022-08-30T23:11:46.964712Z"
    },
    "papermill": {
     "duration": 0.016083,
     "end_time": "2022-08-30T23:11:46.968597",
     "exception": false,
     "start_time": "2022-08-30T23:11:46.952514",
     "status": "completed"
    },
    "tags": []
   },
   "outputs": [],
   "source": [
    "# x = -10\n",
    "# y = 5\n",
    "# # Which of the two variables above has the smallest absolute value?\n",
    "# smallest_abs = min(abs(x, y))"
   ]
  },
  {
   "cell_type": "markdown",
   "id": "d0e04d76",
   "metadata": {
    "papermill": {
     "duration": 0.005613,
     "end_time": "2022-08-30T23:11:46.980042",
     "exception": false,
     "start_time": "2022-08-30T23:11:46.974429",
     "status": "completed"
    },
    "tags": []
   },
   "source": [
    "SyntaxError: 'return' is outside function"
   ]
  },
  {
   "cell_type": "code",
   "execution_count": 11,
   "id": "91747bf9",
   "metadata": {
    "execution": {
     "iopub.execute_input": "2022-08-30T23:11:46.994118Z",
     "iopub.status.busy": "2022-08-30T23:11:46.992887Z",
     "iopub.status.idle": "2022-08-30T23:11:46.997875Z",
     "shell.execute_reply": "2022-08-30T23:11:46.996813Z"
    },
    "papermill": {
     "duration": 0.014131,
     "end_time": "2022-08-30T23:11:47.000019",
     "exception": false,
     "start_time": "2022-08-30T23:11:46.985888",
     "status": "completed"
    },
    "tags": []
   },
   "outputs": [],
   "source": [
    "# def f(x):\n",
    "#     y = abs(x)\n",
    "# return y\n",
    "\n",
    "# print(f(5))"
   ]
  },
  {
   "cell_type": "markdown",
   "id": "b04acef5",
   "metadata": {
    "papermill": {
     "duration": 0.005619,
     "end_time": "2022-08-30T23:11:47.011804",
     "exception": false,
     "start_time": "2022-08-30T23:11:47.006185",
     "status": "completed"
    },
    "tags": []
   },
   "source": [
    "# Keep Going\n",
    "\n",
    "Nice job with the code. Next up, you'll learn about *conditionals*, which you'll need to **[write interesting programs](https://www.kaggle.com/colinmorris/booleans-and-conditionals)**. "
   ]
  },
  {
   "cell_type": "markdown",
   "id": "0ea325d3",
   "metadata": {
    "papermill": {
     "duration": 0.005533,
     "end_time": "2022-08-30T23:11:47.023142",
     "exception": false,
     "start_time": "2022-08-30T23:11:47.017609",
     "status": "completed"
    },
    "tags": []
   },
   "source": [
    "---\n",
    "\n",
    "\n",
    "\n",
    "\n",
    "*Have questions or comments? Visit the [course discussion forum](https://www.kaggle.com/learn/python/discussion) to chat with other learners.*"
   ]
  }
 ],
 "metadata": {
  "kernelspec": {
   "display_name": "Python 3",
   "language": "python",
   "name": "python3"
  },
  "language_info": {
   "codemirror_mode": {
    "name": "ipython",
    "version": 3
   },
   "file_extension": ".py",
   "mimetype": "text/x-python",
   "name": "python",
   "nbconvert_exporter": "python",
   "pygments_lexer": "ipython3",
   "version": "3.7.12"
  },
  "papermill": {
   "default_parameters": {},
   "duration": 10.659442,
   "end_time": "2022-08-30T23:11:47.652534",
   "environment_variables": {},
   "exception": null,
   "input_path": "__notebook__.ipynb",
   "output_path": "__notebook__.ipynb",
   "parameters": {},
   "start_time": "2022-08-30T23:11:36.993092",
   "version": "2.3.4"
  }
 },
 "nbformat": 4,
 "nbformat_minor": 5
}
