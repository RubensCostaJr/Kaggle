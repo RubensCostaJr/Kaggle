{
 "cells": [
  {
   "cell_type": "markdown",
   "id": "88a15747",
   "metadata": {
    "papermill": {
     "duration": 0.007173,
     "end_time": "2022-09-02T00:36:52.726892",
     "exception": false,
     "start_time": "2022-09-02T00:36:52.719719",
     "status": "completed"
    },
    "tags": []
   },
   "source": [
    "**This notebook is an exercise in the [Python](https://www.kaggle.com/learn/python) course.  You can reference the tutorial at [this link](https://www.kaggle.com/colinmorris/strings-and-dictionaries).**\n",
    "\n",
    "---\n"
   ]
  },
  {
   "cell_type": "markdown",
   "id": "658afb2f",
   "metadata": {
    "papermill": {
     "duration": 0.005808,
     "end_time": "2022-09-02T00:36:52.739246",
     "exception": false,
     "start_time": "2022-09-02T00:36:52.733438",
     "status": "completed"
    },
    "tags": []
   },
   "source": [
    "You are almost done with the course. Nice job!\n",
    "\n",
    "We have a couple more interesting problems for you before you go. \n",
    "\n",
    "As always, run the setup code below before working on the questions."
   ]
  },
  {
   "cell_type": "code",
   "execution_count": 1,
   "id": "0c380bf4",
   "metadata": {
    "execution": {
     "iopub.execute_input": "2022-09-02T00:36:52.752808Z",
     "iopub.status.busy": "2022-09-02T00:36:52.752302Z",
     "iopub.status.idle": "2022-09-02T00:36:52.826800Z",
     "shell.execute_reply": "2022-09-02T00:36:52.825179Z"
    },
    "papermill": {
     "duration": 0.084779,
     "end_time": "2022-09-02T00:36:52.829909",
     "exception": false,
     "start_time": "2022-09-02T00:36:52.745130",
     "status": "completed"
    },
    "tags": []
   },
   "outputs": [
    {
     "name": "stdout",
     "output_type": "stream",
     "text": [
      "Setup complete.\n"
     ]
    }
   ],
   "source": [
    "from learntools.core import binder; binder.bind(globals())\n",
    "from learntools.python.ex6 import *\n",
    "print('Setup complete.')"
   ]
  },
  {
   "cell_type": "markdown",
   "id": "d9f97d46",
   "metadata": {
    "papermill": {
     "duration": 0.005753,
     "end_time": "2022-09-02T00:36:52.841783",
     "exception": false,
     "start_time": "2022-09-02T00:36:52.836030",
     "status": "completed"
    },
    "tags": []
   },
   "source": [
    "Let's start with a string lightning round to warm up. What are the lengths of the strings below?\n",
    "\n",
    "For each of the five strings below, predict what `len()` would return when passed that string. Use the variable `length` to record your answer, then run the cell to check whether you were right.  \n",
    "\n",
    "# 0a."
   ]
  },
  {
   "cell_type": "code",
   "execution_count": 2,
   "id": "8d3a5b3f",
   "metadata": {
    "execution": {
     "iopub.execute_input": "2022-09-02T00:36:52.855271Z",
     "iopub.status.busy": "2022-09-02T00:36:52.854843Z",
     "iopub.status.idle": "2022-09-02T00:36:52.867316Z",
     "shell.execute_reply": "2022-09-02T00:36:52.866125Z"
    },
    "papermill": {
     "duration": 0.022216,
     "end_time": "2022-09-02T00:36:52.869907",
     "exception": false,
     "start_time": "2022-09-02T00:36:52.847691",
     "status": "completed"
    },
    "tags": []
   },
   "outputs": [
    {
     "data": {
      "application/javascript": [
       "parent.postMessage({\"jupyterEvent\": \"custom.exercise_interaction\", \"data\": {\"outcomeType\": 1, \"valueTowardsCompletion\": 0.3333333333333333, \"interactionType\": 1, \"questionType\": 1, \"questionId\": \"0.1_ZA\", \"learnToolsVersion\": \"0.3.4\", \"failureMessage\": \"\", \"exceptionClass\": \"\", \"trace\": \"\"}}, \"*\")"
      ],
      "text/plain": [
       "<IPython.core.display.Javascript object>"
      ]
     },
     "metadata": {},
     "output_type": "display_data"
    },
    {
     "data": {
      "text/markdown": [
       "<span style=\"color:#33cc33\">Correct:</span> \n",
       "\n",
       "The empty string has length zero. Note that the empty string is also the only string that Python considers as False when converting to boolean."
      ],
      "text/plain": [
       "Correct: \n",
       "\n",
       "The empty string has length zero. Note that the empty string is also the only string that Python considers as False when converting to boolean."
      ]
     },
     "metadata": {},
     "output_type": "display_data"
    }
   ],
   "source": [
    "a = \"\"\n",
    "length = 0\n",
    "q0.a.check()"
   ]
  },
  {
   "cell_type": "markdown",
   "id": "c0321491",
   "metadata": {
    "papermill": {
     "duration": 0.006076,
     "end_time": "2022-09-02T00:36:52.882270",
     "exception": false,
     "start_time": "2022-09-02T00:36:52.876194",
     "status": "completed"
    },
    "tags": []
   },
   "source": [
    "# 0b."
   ]
  },
  {
   "cell_type": "code",
   "execution_count": 3,
   "id": "8351b341",
   "metadata": {
    "execution": {
     "iopub.execute_input": "2022-09-02T00:36:52.897026Z",
     "iopub.status.busy": "2022-09-02T00:36:52.896624Z",
     "iopub.status.idle": "2022-09-02T00:36:52.907178Z",
     "shell.execute_reply": "2022-09-02T00:36:52.905700Z"
    },
    "papermill": {
     "duration": 0.021041,
     "end_time": "2022-09-02T00:36:52.909799",
     "exception": false,
     "start_time": "2022-09-02T00:36:52.888758",
     "status": "completed"
    },
    "tags": []
   },
   "outputs": [
    {
     "data": {
      "application/javascript": [
       "parent.postMessage({\"jupyterEvent\": \"custom.exercise_interaction\", \"data\": {\"outcomeType\": 1, \"valueTowardsCompletion\": 0.3333333333333333, \"interactionType\": 1, \"questionType\": 1, \"questionId\": \"0.2_ZB\", \"learnToolsVersion\": \"0.3.4\", \"failureMessage\": \"\", \"exceptionClass\": \"\", \"trace\": \"\"}}, \"*\")"
      ],
      "text/plain": [
       "<IPython.core.display.Javascript object>"
      ]
     },
     "metadata": {},
     "output_type": "display_data"
    },
    {
     "data": {
      "text/markdown": [
       "<span style=\"color:#33cc33\">Correct:</span> \n",
       "\n",
       "Keep in mind Python includes spaces (and punctuation) when counting string length."
      ],
      "text/plain": [
       "Correct: \n",
       "\n",
       "Keep in mind Python includes spaces (and punctuation) when counting string length."
      ]
     },
     "metadata": {},
     "output_type": "display_data"
    }
   ],
   "source": [
    "b = \"it's ok\"\n",
    "length = 7\n",
    "q0.b.check()"
   ]
  },
  {
   "cell_type": "markdown",
   "id": "37eddef5",
   "metadata": {
    "papermill": {
     "duration": 0.005965,
     "end_time": "2022-09-02T00:36:52.922285",
     "exception": false,
     "start_time": "2022-09-02T00:36:52.916320",
     "status": "completed"
    },
    "tags": []
   },
   "source": [
    "# 0c."
   ]
  },
  {
   "cell_type": "code",
   "execution_count": 4,
   "id": "3e59e13b",
   "metadata": {
    "execution": {
     "iopub.execute_input": "2022-09-02T00:36:52.937705Z",
     "iopub.status.busy": "2022-09-02T00:36:52.937188Z",
     "iopub.status.idle": "2022-09-02T00:36:52.947494Z",
     "shell.execute_reply": "2022-09-02T00:36:52.946279Z"
    },
    "papermill": {
     "duration": 0.02112,
     "end_time": "2022-09-02T00:36:52.950008",
     "exception": false,
     "start_time": "2022-09-02T00:36:52.928888",
     "status": "completed"
    },
    "tags": []
   },
   "outputs": [
    {
     "data": {
      "application/javascript": [
       "parent.postMessage({\"jupyterEvent\": \"custom.exercise_interaction\", \"data\": {\"outcomeType\": 1, \"valueTowardsCompletion\": 0.3333333333333333, \"interactionType\": 1, \"questionType\": 1, \"questionId\": \"0.3_ZC\", \"learnToolsVersion\": \"0.3.4\", \"failureMessage\": \"\", \"exceptionClass\": \"\", \"trace\": \"\"}}, \"*\")"
      ],
      "text/plain": [
       "<IPython.core.display.Javascript object>"
      ]
     },
     "metadata": {},
     "output_type": "display_data"
    },
    {
     "data": {
      "text/markdown": [
       "<span style=\"color:#33cc33\">Correct:</span> \n",
       "\n",
       "Even though we use different syntax to create it, the string `c` is identical to `b`. In particular, note that the backslash is not part of the string, so it doesn't contribute to its length."
      ],
      "text/plain": [
       "Correct: \n",
       "\n",
       "Even though we use different syntax to create it, the string `c` is identical to `b`. In particular, note that the backslash is not part of the string, so it doesn't contribute to its length."
      ]
     },
     "metadata": {},
     "output_type": "display_data"
    }
   ],
   "source": [
    "c = 'it\\'s ok'\n",
    "length = 7\n",
    "q0.c.check()"
   ]
  },
  {
   "cell_type": "markdown",
   "id": "3fbc473b",
   "metadata": {
    "papermill": {
     "duration": 0.00628,
     "end_time": "2022-09-02T00:36:52.962995",
     "exception": false,
     "start_time": "2022-09-02T00:36:52.956715",
     "status": "completed"
    },
    "tags": []
   },
   "source": [
    "# 0d."
   ]
  },
  {
   "cell_type": "code",
   "execution_count": 5,
   "id": "ac6996dc",
   "metadata": {
    "execution": {
     "iopub.execute_input": "2022-09-02T00:36:52.980825Z",
     "iopub.status.busy": "2022-09-02T00:36:52.979629Z",
     "iopub.status.idle": "2022-09-02T00:36:52.990342Z",
     "shell.execute_reply": "2022-09-02T00:36:52.989408Z"
    },
    "papermill": {
     "duration": 0.021838,
     "end_time": "2022-09-02T00:36:52.992838",
     "exception": false,
     "start_time": "2022-09-02T00:36:52.971000",
     "status": "completed"
    },
    "tags": []
   },
   "outputs": [
    {
     "data": {
      "application/javascript": [
       "parent.postMessage({\"jupyterEvent\": \"custom.exercise_interaction\", \"data\": {\"outcomeType\": 1, \"valueTowardsCompletion\": 0.3333333333333333, \"interactionType\": 1, \"questionType\": 1, \"questionId\": \"0.4_ZD\", \"learnToolsVersion\": \"0.3.4\", \"failureMessage\": \"\", \"exceptionClass\": \"\", \"trace\": \"\"}}, \"*\")"
      ],
      "text/plain": [
       "<IPython.core.display.Javascript object>"
      ]
     },
     "metadata": {},
     "output_type": "display_data"
    },
    {
     "data": {
      "text/markdown": [
       "<span style=\"color:#33cc33\">Correct:</span> \n",
       "\n",
       "The fact that this string was created using triple-quote syntax doesn't make any difference in terms of its content or length. This string is exactly the same as `'hey'`."
      ],
      "text/plain": [
       "Correct: \n",
       "\n",
       "The fact that this string was created using triple-quote syntax doesn't make any difference in terms of its content or length. This string is exactly the same as `'hey'`."
      ]
     },
     "metadata": {},
     "output_type": "display_data"
    }
   ],
   "source": [
    "d = \"\"\"hey\"\"\"\n",
    "length = 3\n",
    "q0.d.check()"
   ]
  },
  {
   "cell_type": "markdown",
   "id": "0d9634f4",
   "metadata": {
    "papermill": {
     "duration": 0.00651,
     "end_time": "2022-09-02T00:36:53.006062",
     "exception": false,
     "start_time": "2022-09-02T00:36:52.999552",
     "status": "completed"
    },
    "tags": []
   },
   "source": [
    "# 0e."
   ]
  },
  {
   "cell_type": "code",
   "execution_count": 6,
   "id": "95a86d97",
   "metadata": {
    "execution": {
     "iopub.execute_input": "2022-09-02T00:36:53.022188Z",
     "iopub.status.busy": "2022-09-02T00:36:53.021282Z",
     "iopub.status.idle": "2022-09-02T00:36:53.032889Z",
     "shell.execute_reply": "2022-09-02T00:36:53.031613Z"
    },
    "papermill": {
     "duration": 0.022277,
     "end_time": "2022-09-02T00:36:53.035260",
     "exception": false,
     "start_time": "2022-09-02T00:36:53.012983",
     "status": "completed"
    },
    "tags": []
   },
   "outputs": [
    {
     "data": {
      "application/javascript": [
       "parent.postMessage({\"jupyterEvent\": \"custom.exercise_interaction\", \"data\": {\"outcomeType\": 1, \"valueTowardsCompletion\": 0.3333333333333333, \"interactionType\": 1, \"questionType\": 1, \"questionId\": \"0.5_ZE\", \"learnToolsVersion\": \"0.3.4\", \"failureMessage\": \"\", \"exceptionClass\": \"\", \"trace\": \"\"}}, \"*\")"
      ],
      "text/plain": [
       "<IPython.core.display.Javascript object>"
      ]
     },
     "metadata": {},
     "output_type": "display_data"
    },
    {
     "data": {
      "text/markdown": [
       "<span style=\"color:#33cc33\">Correct:</span> \n",
       "\n",
       "The newline character is just a single character! (Even though we represent it to Python using a combination of two characters.)"
      ],
      "text/plain": [
       "Correct: \n",
       "\n",
       "The newline character is just a single character! (Even though we represent it to Python using a combination of two characters.)"
      ]
     },
     "metadata": {},
     "output_type": "display_data"
    }
   ],
   "source": [
    "e = '\\n'\n",
    "length = 1\n",
    "q0.e.check()"
   ]
  },
  {
   "cell_type": "markdown",
   "id": "8f0c809b",
   "metadata": {
    "papermill": {
     "duration": 0.007559,
     "end_time": "2022-09-02T00:36:53.049811",
     "exception": false,
     "start_time": "2022-09-02T00:36:53.042252",
     "status": "completed"
    },
    "tags": []
   },
   "source": [
    "# 1.\n",
    "\n",
    "There is a saying that \"Data scientists spend 80% of their time cleaning data, and 20% of their time complaining about cleaning data.\" Let's see if you can write a function to help clean US zip code data. Given a string, it should return whether or not that string represents a valid zip code. For our purposes, a valid zip code is any string consisting of exactly 5 digits.\n",
    "\n",
    "HINT: `str` has a method that will be useful here. Use `help(str)` to review a list of string methods."
   ]
  },
  {
   "cell_type": "code",
   "execution_count": 7,
   "id": "1b5b1778",
   "metadata": {
    "execution": {
     "iopub.execute_input": "2022-09-02T00:36:53.066581Z",
     "iopub.status.busy": "2022-09-02T00:36:53.065590Z",
     "iopub.status.idle": "2022-09-02T00:36:53.076856Z",
     "shell.execute_reply": "2022-09-02T00:36:53.075614Z"
    },
    "papermill": {
     "duration": 0.022725,
     "end_time": "2022-09-02T00:36:53.079625",
     "exception": false,
     "start_time": "2022-09-02T00:36:53.056900",
     "status": "completed"
    },
    "tags": []
   },
   "outputs": [
    {
     "data": {
      "application/javascript": [
       "parent.postMessage({\"jupyterEvent\": \"custom.exercise_interaction\", \"data\": {\"outcomeType\": 1, \"valueTowardsCompletion\": 0.3333333333333333, \"interactionType\": 1, \"questionType\": 2, \"questionId\": \"1_ZipValidator\", \"learnToolsVersion\": \"0.3.4\", \"failureMessage\": \"\", \"exceptionClass\": \"\", \"trace\": \"\"}}, \"*\")"
      ],
      "text/plain": [
       "<IPython.core.display.Javascript object>"
      ]
     },
     "metadata": {},
     "output_type": "display_data"
    },
    {
     "data": {
      "text/markdown": [
       "<span style=\"color:#33cc33\">Correct</span>"
      ],
      "text/plain": [
       "Correct"
      ]
     },
     "metadata": {},
     "output_type": "display_data"
    }
   ],
   "source": [
    "def is_valid_zip(zip_code):\n",
    "    \"\"\"Returns whether the input string is a valid (5 digit) zip code\n",
    "    \"\"\"\n",
    "    return len(zip_code) == 5 and zip_code.isdigit()\n",
    "# Check your answer\n",
    "q1.check()"
   ]
  },
  {
   "cell_type": "code",
   "execution_count": 8,
   "id": "cca417c9",
   "metadata": {
    "execution": {
     "iopub.execute_input": "2022-09-02T00:36:53.096675Z",
     "iopub.status.busy": "2022-09-02T00:36:53.095932Z",
     "iopub.status.idle": "2022-09-02T00:36:53.100403Z",
     "shell.execute_reply": "2022-09-02T00:36:53.099600Z"
    },
    "papermill": {
     "duration": 0.015888,
     "end_time": "2022-09-02T00:36:53.102795",
     "exception": false,
     "start_time": "2022-09-02T00:36:53.086907",
     "status": "completed"
    },
    "tags": []
   },
   "outputs": [],
   "source": [
    "# q1.hint()\n",
    "# q1.solution()"
   ]
  },
  {
   "cell_type": "markdown",
   "id": "740ffd5b",
   "metadata": {
    "papermill": {
     "duration": 0.007258,
     "end_time": "2022-09-02T00:36:53.117282",
     "exception": false,
     "start_time": "2022-09-02T00:36:53.110024",
     "status": "completed"
    },
    "tags": []
   },
   "source": [
    "# 2.\n",
    "\n",
    "A researcher has gathered thousands of news articles. But she wants to focus her attention on articles including a specific word. Complete the function below to help her filter her list of articles.\n",
    "\n",
    "Your function should meet the following criteria:\n",
    "\n",
    "- Do not include documents where the keyword string shows up only as a part of a larger word. For example, if she were looking for the keyword “closed”, you would not include the string “enclosed.” \n",
    "- She does not want you to distinguish upper case from lower case letters. So the phrase “Closed the case.” would be included when the keyword is “closed”\n",
    "- Do not let periods or commas affect what is matched. “It is closed.” would be included when the keyword is “closed”. But you can assume there are no other types of punctuation."
   ]
  },
  {
   "cell_type": "code",
   "execution_count": 9,
   "id": "082d884c",
   "metadata": {
    "execution": {
     "iopub.execute_input": "2022-09-02T00:36:53.134332Z",
     "iopub.status.busy": "2022-09-02T00:36:53.133669Z",
     "iopub.status.idle": "2022-09-02T00:36:53.148580Z",
     "shell.execute_reply": "2022-09-02T00:36:53.147492Z"
    },
    "papermill": {
     "duration": 0.02615,
     "end_time": "2022-09-02T00:36:53.150793",
     "exception": false,
     "start_time": "2022-09-02T00:36:53.124643",
     "status": "completed"
    },
    "tags": []
   },
   "outputs": [
    {
     "data": {
      "application/javascript": [
       "parent.postMessage({\"jupyterEvent\": \"custom.exercise_interaction\", \"data\": {\"outcomeType\": 1, \"valueTowardsCompletion\": 0.3333333333333333, \"interactionType\": 1, \"questionType\": 2, \"questionId\": \"2_WordSearch\", \"learnToolsVersion\": \"0.3.4\", \"failureMessage\": \"\", \"exceptionClass\": \"\", \"trace\": \"\"}}, \"*\")"
      ],
      "text/plain": [
       "<IPython.core.display.Javascript object>"
      ]
     },
     "metadata": {},
     "output_type": "display_data"
    },
    {
     "data": {
      "text/markdown": [
       "<span style=\"color:#33cc33\">Correct</span>"
      ],
      "text/plain": [
       "Correct"
      ]
     },
     "metadata": {},
     "output_type": "display_data"
    },
    {
     "data": {
      "text/plain": [
       "[2]"
      ]
     },
     "execution_count": 9,
     "metadata": {},
     "output_type": "execute_result"
    }
   ],
   "source": [
    "def word_search(doc_list, keyword):\n",
    "    \"\"\"\n",
    "    Takes a list of documents (each document is a string) and a keyword. \n",
    "    Returns list of the index values into the original list for all documents \n",
    "    containing the keyword.\n",
    "\n",
    "    Example:\n",
    "    doc_list = [\"The Learn Python Challenge Casino.\", \"They bought a car\", \"Casinoville\"]\n",
    "    >>> word_search(doc_list, 'casino')\n",
    "    >>> [0]\n",
    "    \"\"\"\n",
    "    indices = [] \n",
    "    for i, doc in enumerate(doc_list):\n",
    "        tokens = doc.split()\n",
    "        normalized = [token.rstrip('.,').lower() for token in tokens]\n",
    "        if keyword.lower() in normalized:\n",
    "            indices.append(i)\n",
    "    return indices\n",
    "# Check your answer\n",
    "q2.check()\n",
    "\n",
    "doc_list = [\"The Learn Python Challenge Casino.\", \"They bought a car\", \"Casinoville\"]\n",
    "word_search(doc_list, 'Casinoville')\n"
   ]
  },
  {
   "cell_type": "code",
   "execution_count": 10,
   "id": "7c0f4549",
   "metadata": {
    "execution": {
     "iopub.execute_input": "2022-09-02T00:36:53.168095Z",
     "iopub.status.busy": "2022-09-02T00:36:53.167428Z",
     "iopub.status.idle": "2022-09-02T00:36:53.171824Z",
     "shell.execute_reply": "2022-09-02T00:36:53.170923Z"
    },
    "papermill": {
     "duration": 0.015826,
     "end_time": "2022-09-02T00:36:53.174052",
     "exception": false,
     "start_time": "2022-09-02T00:36:53.158226",
     "status": "completed"
    },
    "tags": []
   },
   "outputs": [],
   "source": [
    "#q2.hint()\n",
    "#q2.solution()"
   ]
  },
  {
   "cell_type": "markdown",
   "id": "5f2b8a17",
   "metadata": {
    "papermill": {
     "duration": 0.007888,
     "end_time": "2022-09-02T00:36:53.189507",
     "exception": false,
     "start_time": "2022-09-02T00:36:53.181619",
     "status": "completed"
    },
    "tags": []
   },
   "source": [
    "# 3.\n",
    "\n",
    "Now the researcher wants to supply multiple keywords to search for. Complete the function below to help her.\n",
    "\n",
    "(You're encouraged to use the `word_search` function you just wrote when implementing this function. Reusing code in this way makes your programs more robust and readable - and it saves typing!)"
   ]
  },
  {
   "cell_type": "code",
   "execution_count": 11,
   "id": "ff1f15a7",
   "metadata": {
    "execution": {
     "iopub.execute_input": "2022-09-02T00:36:53.207154Z",
     "iopub.status.busy": "2022-09-02T00:36:53.206472Z",
     "iopub.status.idle": "2022-09-02T00:36:53.217170Z",
     "shell.execute_reply": "2022-09-02T00:36:53.216019Z"
    },
    "papermill": {
     "duration": 0.022531,
     "end_time": "2022-09-02T00:36:53.219760",
     "exception": false,
     "start_time": "2022-09-02T00:36:53.197229",
     "status": "completed"
    },
    "tags": []
   },
   "outputs": [
    {
     "data": {
      "application/javascript": [
       "parent.postMessage({\"jupyterEvent\": \"custom.exercise_interaction\", \"data\": {\"outcomeType\": 1, \"valueTowardsCompletion\": 0.3333333333333333, \"interactionType\": 1, \"questionType\": 2, \"questionId\": \"3_MultiWordSearch\", \"learnToolsVersion\": \"0.3.4\", \"failureMessage\": \"\", \"exceptionClass\": \"\", \"trace\": \"\"}}, \"*\")"
      ],
      "text/plain": [
       "<IPython.core.display.Javascript object>"
      ]
     },
     "metadata": {},
     "output_type": "display_data"
    },
    {
     "data": {
      "text/markdown": [
       "<span style=\"color:#33cc33\">Correct</span>"
      ],
      "text/plain": [
       "Correct"
      ]
     },
     "metadata": {},
     "output_type": "display_data"
    }
   ],
   "source": [
    "def multi_word_search(doc_list, keywords):\n",
    "    \"\"\"\n",
    "    Takes list of documents (each document is a string) and a list of keywords.  \n",
    "    Returns a dictionary where each key is a keyword, and the value is a list of indices\n",
    "    (from doc_list) of the documents containing that keyword\n",
    "\n",
    "    >>> doc_list = [\"The Learn Python Challenge Casino.\", \"They bought a car and a casino\", \"Casinoville\"]\n",
    "    >>> keywords = ['casino', 'they']\n",
    "    >>> multi_word_search(doc_list, keywords)\n",
    "    {'casino': [0, 1], 'they': [1]}\n",
    "    \"\"\"\n",
    "    keyword_to_indices = {}\n",
    "    for keyword in keywords:\n",
    "        keyword_to_indices[keyword] = word_search(doc_list, keyword)\n",
    "    return keyword_to_indices\n",
    "\n",
    "# Check your answer\n",
    "q3.check()"
   ]
  },
  {
   "cell_type": "code",
   "execution_count": 12,
   "id": "b56c4ba9",
   "metadata": {
    "execution": {
     "iopub.execute_input": "2022-09-02T00:36:53.237694Z",
     "iopub.status.busy": "2022-09-02T00:36:53.237021Z",
     "iopub.status.idle": "2022-09-02T00:36:53.242260Z",
     "shell.execute_reply": "2022-09-02T00:36:53.241464Z"
    },
    "papermill": {
     "duration": 0.017164,
     "end_time": "2022-09-02T00:36:53.244600",
     "exception": false,
     "start_time": "2022-09-02T00:36:53.227436",
     "status": "completed"
    },
    "tags": []
   },
   "outputs": [],
   "source": [
    "# q3.solution()"
   ]
  },
  {
   "cell_type": "markdown",
   "id": "d8bf4ffb",
   "metadata": {
    "papermill": {
     "duration": 0.007523,
     "end_time": "2022-09-02T00:36:53.259902",
     "exception": false,
     "start_time": "2022-09-02T00:36:53.252379",
     "status": "completed"
    },
    "tags": []
   },
   "source": [
    "# Keep Going\n",
    "\n",
    "You've learned a lot. But even the best programmers rely heavily on \"libraries\" of code from other programmers. You'll learn about that in **[the last lesson](https://www.kaggle.com/colinmorris/working-with-external-libraries)**.\n"
   ]
  },
  {
   "cell_type": "markdown",
   "id": "0c6e5a63",
   "metadata": {
    "papermill": {
     "duration": 0.00758,
     "end_time": "2022-09-02T00:36:53.275354",
     "exception": false,
     "start_time": "2022-09-02T00:36:53.267774",
     "status": "completed"
    },
    "tags": []
   },
   "source": [
    "---\n",
    "\n",
    "\n",
    "\n",
    "\n",
    "*Have questions or comments? Visit the [course discussion forum](https://www.kaggle.com/learn/python/discussion) to chat with other learners.*"
   ]
  }
 ],
 "metadata": {
  "kernelspec": {
   "display_name": "Python 3",
   "language": "python",
   "name": "python3"
  },
  "language_info": {
   "codemirror_mode": {
    "name": "ipython",
    "version": 3
   },
   "file_extension": ".py",
   "mimetype": "text/x-python",
   "name": "python",
   "nbconvert_exporter": "python",
   "pygments_lexer": "ipython3",
   "version": "3.7.12"
  },
  "papermill": {
   "default_parameters": {},
   "duration": 11.20458,
   "end_time": "2022-09-02T00:36:54.006127",
   "environment_variables": {},
   "exception": null,
   "input_path": "__notebook__.ipynb",
   "output_path": "__notebook__.ipynb",
   "parameters": {},
   "start_time": "2022-09-02T00:36:42.801547",
   "version": "2.3.4"
  }
 },
 "nbformat": 4,
 "nbformat_minor": 5
}
